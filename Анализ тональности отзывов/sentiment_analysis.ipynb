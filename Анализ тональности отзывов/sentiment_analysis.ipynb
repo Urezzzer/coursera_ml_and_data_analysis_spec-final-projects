{
 "cells": [
  {
   "cell_type": "code",
   "execution_count": 25,
   "metadata": {
    "collapsed": true
   },
   "outputs": [
    {
     "name": "stderr",
     "output_type": "stream",
     "text": [
      "[nltk_data] Downloading package movie_reviews to\n",
      "[nltk_data]     C:\\Users\\Strix\\AppData\\Roaming\\nltk_data...\n",
      "[nltk_data]   Package movie_reviews is already up-to-date!\n"
     ]
    },
    {
     "data": {
      "text/plain": "True"
     },
     "execution_count": 25,
     "metadata": {},
     "output_type": "execute_result"
    }
   ],
   "source": [
    "from nltk.corpus import movie_reviews\n",
    "import pandas as pd\n",
    "import numpy as np\n",
    "from sklearn.feature_extraction.text import CountVectorizer, TfidfVectorizer\n",
    "from sklearn.linear_model import LogisticRegression, SGDClassifier\n",
    "from sklearn.svm import LinearSVC\n",
    "from sklearn.pipeline import Pipeline, make_pipeline\n",
    "from sklearn.compose import ColumnTransformer\n",
    "from sklearn.metrics import roc_auc_score, accuracy_score, make_scorer\n",
    "from sklearn.model_selection import cross_val_score\n",
    "import nltk\n",
    "nltk.download('movie_reviews')"
   ]
  },
  {
   "cell_type": "code",
   "execution_count": 26,
   "outputs": [],
   "source": [
    "documents = [(list(movie_reviews.words(fileid)), category)\n",
    "             for category in movie_reviews.categories()\n",
    "             for fileid in movie_reviews.fileids(category)]"
   ],
   "metadata": {
    "collapsed": false,
    "pycharm": {
     "name": "#%%\n"
    }
   }
  },
  {
   "cell_type": "code",
   "execution_count": 27,
   "outputs": [
    {
     "name": "stdout",
     "output_type": "stream",
     "text": [
      "(2000, 3)\n"
     ]
    },
    {
     "data": {
      "text/plain": "                                                text  category  \\\n0  [plot, :, two, teen, couples, go, to, a, churc...         0   \n1  [the, happy, bastard, ', s, quick, movie, revi...         0   \n2  [it, is, movies, like, these, that, make, a, j...         0   \n3  [\", quest, for, camelot, \", is, warner, bros, ...         0   \n4  [synopsis, :, a, mentally, unstable, man, unde...         0   \n\n                                         joined_text  \n0  plot : two teen couples go to a church party ,...  \n1  the happy bastard ' s quick movie review damn ...  \n2  it is movies like these that make a jaded movi...  \n3  \" quest for camelot \" is warner bros . ' first...  \n4  synopsis : a mentally unstable man undergoing ...  ",
      "text/html": "<div>\n<style scoped>\n    .dataframe tbody tr th:only-of-type {\n        vertical-align: middle;\n    }\n\n    .dataframe tbody tr th {\n        vertical-align: top;\n    }\n\n    .dataframe thead th {\n        text-align: right;\n    }\n</style>\n<table border=\"1\" class=\"dataframe\">\n  <thead>\n    <tr style=\"text-align: right;\">\n      <th></th>\n      <th>text</th>\n      <th>category</th>\n      <th>joined_text</th>\n    </tr>\n  </thead>\n  <tbody>\n    <tr>\n      <th>0</th>\n      <td>[plot, :, two, teen, couples, go, to, a, churc...</td>\n      <td>0</td>\n      <td>plot : two teen couples go to a church party ,...</td>\n    </tr>\n    <tr>\n      <th>1</th>\n      <td>[the, happy, bastard, ', s, quick, movie, revi...</td>\n      <td>0</td>\n      <td>the happy bastard ' s quick movie review damn ...</td>\n    </tr>\n    <tr>\n      <th>2</th>\n      <td>[it, is, movies, like, these, that, make, a, j...</td>\n      <td>0</td>\n      <td>it is movies like these that make a jaded movi...</td>\n    </tr>\n    <tr>\n      <th>3</th>\n      <td>[\", quest, for, camelot, \", is, warner, bros, ...</td>\n      <td>0</td>\n      <td>\" quest for camelot \" is warner bros . ' first...</td>\n    </tr>\n    <tr>\n      <th>4</th>\n      <td>[synopsis, :, a, mentally, unstable, man, unde...</td>\n      <td>0</td>\n      <td>synopsis : a mentally unstable man undergoing ...</td>\n    </tr>\n  </tbody>\n</table>\n</div>"
     },
     "execution_count": 27,
     "metadata": {},
     "output_type": "execute_result"
    }
   ],
   "source": [
    "data = pd.DataFrame(columns=['text', 'category'], data=documents)\n",
    "data['joined_text'] = data.text.apply(lambda x: ' '.join(x))\n",
    "\n",
    "data.category = data.category.replace({'neg': 0, 'pos': 1})\n",
    "\n",
    "print(data.shape)\n",
    "data.head()"
   ],
   "metadata": {
    "collapsed": false,
    "pycharm": {
     "name": "#%%\n"
    }
   }
  },
  {
   "cell_type": "code",
   "execution_count": 28,
   "outputs": [
    {
     "name": "stdout",
     "output_type": "stream",
     "text": [
      "Доля позитивных отзывов -  0.5\n"
     ]
    }
   ],
   "source": [
    "print('Доля позитивных отзывов - ', len(data[data.category == 1]) / len(data))"
   ],
   "metadata": {
    "collapsed": false,
    "pycharm": {
     "name": "#%%\n"
    }
   }
  },
  {
   "cell_type": "code",
   "execution_count": 29,
   "outputs": [],
   "source": [
    "transformer = CountVectorizer()\n",
    "transformed_data = transformer.fit_transform(data.joined_text)"
   ],
   "metadata": {
    "collapsed": false,
    "pycharm": {
     "name": "#%%\n"
    }
   }
  },
  {
   "cell_type": "code",
   "execution_count": 30,
   "outputs": [
    {
     "data": {
      "text/plain": "(2000, 39659)"
     },
     "execution_count": 30,
     "metadata": {},
     "output_type": "execute_result"
    }
   ],
   "source": [
    "transformed_data.shape"
   ],
   "metadata": {
    "collapsed": false,
    "pycharm": {
     "name": "#%%\n"
    }
   }
  },
  {
   "cell_type": "markdown",
   "source": [
    "### CountVectorizer + LogisticRegression"
   ],
   "metadata": {
    "collapsed": false
   }
  },
  {
   "cell_type": "code",
   "execution_count": 31,
   "outputs": [],
   "source": [
    "count_text_pipeline = make_pipeline(CountVectorizer(), LogisticRegression(random_state=0, max_iter=1000))"
   ],
   "metadata": {
    "collapsed": false,
    "pycharm": {
     "name": "#%%\n"
    }
   }
  },
  {
   "cell_type": "code",
   "execution_count": 32,
   "outputs": [
    {
     "name": "stdout",
     "output_type": "stream",
     "text": [
      "Mean accuracy -  0.8445  with std -  0.024617067250182322\n"
     ]
    }
   ],
   "source": [
    "accuracy_cv_score = cross_val_score(count_text_pipeline, X=data.joined_text, y=data.category, cv=5, scoring='accuracy')\n",
    "print('Mean accuracy - ', accuracy_cv_score.mean(), ' with std - ', accuracy_cv_score.std())"
   ],
   "metadata": {
    "collapsed": false,
    "pycharm": {
     "name": "#%%\n"
    }
   }
  },
  {
   "cell_type": "code",
   "execution_count": 33,
   "outputs": [
    {
     "name": "stdout",
     "output_type": "stream",
     "text": [
      "Mean roc_auc -  0.9162899999999998  with std -  0.011492177774469012\n"
     ]
    }
   ],
   "source": [
    "roc_auc_cv_score = cross_val_score(count_text_pipeline, X=data.joined_text, y=data.category, cv=5, scoring='roc_auc')\n",
    "print('Mean roc_auc - ', roc_auc_cv_score.mean(), ' with std - ', roc_auc_cv_score.std())"
   ],
   "metadata": {
    "collapsed": false,
    "pycharm": {
     "name": "#%%\n"
    }
   }
  },
  {
   "cell_type": "markdown",
   "source": [
    "### TfidfVectorizer + LogisticRegression"
   ],
   "metadata": {
    "collapsed": false
   }
  },
  {
   "cell_type": "code",
   "execution_count": 34,
   "outputs": [],
   "source": [
    "tfidf_text_pipeline = make_pipeline(TfidfVectorizer(), LogisticRegression(random_state=0, max_iter=1000))"
   ],
   "metadata": {
    "collapsed": false,
    "pycharm": {
     "name": "#%%\n"
    }
   }
  },
  {
   "cell_type": "code",
   "execution_count": 35,
   "outputs": [
    {
     "name": "stdout",
     "output_type": "stream",
     "text": [
      "Mean accuracy -  0.8205  with std -  0.003999999999999995\n"
     ]
    }
   ],
   "source": [
    "accuracy_cv_score = cross_val_score(tfidf_text_pipeline, X=data.joined_text, y=data.category, cv=5, scoring='accuracy')\n",
    "print('Mean accuracy - ', accuracy_cv_score.mean(), ' with std - ', accuracy_cv_score.std())"
   ],
   "metadata": {
    "collapsed": false,
    "pycharm": {
     "name": "#%%\n"
    }
   }
  },
  {
   "cell_type": "code",
   "execution_count": 36,
   "outputs": [
    {
     "name": "stdout",
     "output_type": "stream",
     "text": [
      "Mean roc_auc -  0.9055949999999999  with std -  0.008439096515622961\n"
     ]
    }
   ],
   "source": [
    "roc_auc_cv_score = cross_val_score(tfidf_text_pipeline, X=data.joined_text, y=data.category, cv=5, scoring='roc_auc')\n",
    "print('Mean roc_auc - ', roc_auc_cv_score.mean(), ' with std - ', roc_auc_cv_score.std())"
   ],
   "metadata": {
    "collapsed": false,
    "pycharm": {
     "name": "#%%\n"
    }
   }
  },
  {
   "cell_type": "markdown",
   "source": [
    "### CountVectorizer with different in_df + LogisticRegression"
   ],
   "metadata": {
    "collapsed": false
   }
  },
  {
   "cell_type": "code",
   "execution_count": 37,
   "outputs": [],
   "source": [
    "count_text_pipeline = make_pipeline(CountVectorizer(min_df=10), LogisticRegression(random_state=0, max_iter=1000))"
   ],
   "metadata": {
    "collapsed": false,
    "pycharm": {
     "name": "#%%\n"
    }
   }
  },
  {
   "cell_type": "code",
   "execution_count": 38,
   "outputs": [
    {
     "name": "stdout",
     "output_type": "stream",
     "text": [
      "Mean accuracy -  0.836  with std -  0.024423349483639615\n"
     ]
    }
   ],
   "source": [
    "accuracy_cv_score = cross_val_score(count_text_pipeline, X=data.joined_text, y=data.category, cv=5, scoring='accuracy')\n",
    "print('Mean accuracy - ', accuracy_cv_score.mean(), ' with std - ', accuracy_cv_score.std())"
   ],
   "metadata": {
    "collapsed": false,
    "pycharm": {
     "name": "#%%\n"
    }
   }
  },
  {
   "cell_type": "code",
   "execution_count": 39,
   "outputs": [
    {
     "name": "stdout",
     "output_type": "stream",
     "text": [
      "Mean roc_auc -  0.913485  with std -  0.010770220517705277\n"
     ]
    }
   ],
   "source": [
    "roc_auc_cv_score = cross_val_score(count_text_pipeline, X=data.joined_text, y=data.category, cv=5, scoring='roc_auc')\n",
    "print('Mean roc_auc - ', roc_auc_cv_score.mean(), ' with std - ', roc_auc_cv_score.std())"
   ],
   "metadata": {
    "collapsed": false,
    "pycharm": {
     "name": "#%%\n"
    }
   }
  },
  {
   "cell_type": "code",
   "execution_count": 40,
   "outputs": [],
   "source": [
    "count_text_pipeline = make_pipeline(CountVectorizer(min_df=50), LogisticRegression(random_state=0, max_iter=1000))"
   ],
   "metadata": {
    "collapsed": false,
    "pycharm": {
     "name": "#%%\n"
    }
   }
  },
  {
   "cell_type": "code",
   "execution_count": 41,
   "outputs": [
    {
     "name": "stdout",
     "output_type": "stream",
     "text": [
      "Mean accuracy -  0.8095000000000001  with std -  0.016837458240482737\n"
     ]
    }
   ],
   "source": [
    "accuracy_cv_score = cross_val_score(count_text_pipeline, X=data.joined_text, y=data.category, cv=5, scoring='accuracy')\n",
    "print('Mean accuracy - ', accuracy_cv_score.mean(), ' with std - ', accuracy_cv_score.std())"
   ],
   "metadata": {
    "collapsed": false,
    "pycharm": {
     "name": "#%%\n"
    }
   }
  },
  {
   "cell_type": "code",
   "execution_count": 42,
   "outputs": [
    {
     "name": "stdout",
     "output_type": "stream",
     "text": [
      "Mean roc_auc -  0.8947899999999999  with std -  0.010612134563790693\n"
     ]
    }
   ],
   "source": [
    "roc_auc_cv_score = cross_val_score(count_text_pipeline, X=data.joined_text, y=data.category, cv=5, scoring='roc_auc')\n",
    "print('Mean roc_auc - ', roc_auc_cv_score.mean(), ' with std - ', roc_auc_cv_score.std())"
   ],
   "metadata": {
    "collapsed": false,
    "pycharm": {
     "name": "#%%\n"
    }
   }
  },
  {
   "cell_type": "markdown",
   "source": [
    "### Different classifiers with CountVectorizer"
   ],
   "metadata": {
    "collapsed": false
   }
  },
  {
   "cell_type": "code",
   "execution_count": 46,
   "outputs": [],
   "source": [
    "count_text_pipeline = make_pipeline(CountVectorizer(), SGDClassifier(random_state=0, max_iter=1000))"
   ],
   "metadata": {
    "collapsed": false,
    "pycharm": {
     "name": "#%%\n"
    }
   }
  },
  {
   "cell_type": "code",
   "execution_count": 47,
   "outputs": [
    {
     "name": "stdout",
     "output_type": "stream",
     "text": [
      "Mean accuracy -  0.8300000000000001  with std -  0.017464249196573002\n"
     ]
    }
   ],
   "source": [
    "accuracy_cv_score = cross_val_score(count_text_pipeline, X=data.joined_text, y=data.category, cv=5, scoring='accuracy')\n",
    "print('Mean accuracy - ', accuracy_cv_score.mean(), ' with std - ', accuracy_cv_score.std())"
   ],
   "metadata": {
    "collapsed": false,
    "pycharm": {
     "name": "#%%\n"
    }
   }
  },
  {
   "cell_type": "code",
   "execution_count": 48,
   "outputs": [
    {
     "name": "stdout",
     "output_type": "stream",
     "text": [
      "Mean roc_auc -  0.9107049999999999  with std -  0.013803309385795888\n"
     ]
    }
   ],
   "source": [
    "roc_auc_cv_score = cross_val_score(count_text_pipeline, X=data.joined_text, y=data.category, cv=5, scoring='roc_auc')\n",
    "print('Mean roc_auc - ', roc_auc_cv_score.mean(), ' with std - ', roc_auc_cv_score.std())"
   ],
   "metadata": {
    "collapsed": false,
    "pycharm": {
     "name": "#%%\n"
    }
   }
  },
  {
   "cell_type": "code",
   "execution_count": 57,
   "outputs": [],
   "source": [
    "count_text_pipeline = make_pipeline(CountVectorizer(), LinearSVC(random_state=0, max_iter=10000))"
   ],
   "metadata": {
    "collapsed": false,
    "pycharm": {
     "name": "#%%\n"
    }
   }
  },
  {
   "cell_type": "code",
   "execution_count": 58,
   "outputs": [
    {
     "name": "stdout",
     "output_type": "stream",
     "text": [
      "Mean accuracy -  0.8325000000000001  with std -  0.0162788205960997\n"
     ]
    },
    {
     "name": "stderr",
     "output_type": "stream",
     "text": [
      "d:\\files\\dl_workspace\\lib\\site-packages\\sklearn\\svm\\_base.py:1206: ConvergenceWarning: Liblinear failed to converge, increase the number of iterations.\n",
      "  warnings.warn(\n"
     ]
    }
   ],
   "source": [
    "accuracy_cv_score = cross_val_score(count_text_pipeline, X=data.joined_text, y=data.category, cv=5, scoring='accuracy')\n",
    "print('Mean accuracy - ', accuracy_cv_score.mean(), ' with std - ', accuracy_cv_score.std())"
   ],
   "metadata": {
    "collapsed": false,
    "pycharm": {
     "name": "#%%\n"
    }
   }
  },
  {
   "cell_type": "code",
   "execution_count": 59,
   "outputs": [
    {
     "name": "stdout",
     "output_type": "stream",
     "text": [
      "Mean roc_auc -  0.907465  with std -  0.01067036316157985\n"
     ]
    },
    {
     "name": "stderr",
     "output_type": "stream",
     "text": [
      "d:\\files\\dl_workspace\\lib\\site-packages\\sklearn\\svm\\_base.py:1206: ConvergenceWarning: Liblinear failed to converge, increase the number of iterations.\n",
      "  warnings.warn(\n"
     ]
    }
   ],
   "source": [
    "roc_auc_cv_score = cross_val_score(count_text_pipeline, X=data.joined_text, y=data.category, cv=5, scoring='roc_auc')\n",
    "print('Mean roc_auc - ', roc_auc_cv_score.mean(), ' with std - ', roc_auc_cv_score.std())"
   ],
   "metadata": {
    "collapsed": false,
    "pycharm": {
     "name": "#%%\n"
    }
   }
  },
  {
   "cell_type": "markdown",
   "source": [
    "### Add stopwords"
   ],
   "metadata": {
    "collapsed": false
   }
  },
  {
   "cell_type": "code",
   "execution_count": 60,
   "outputs": [],
   "source": [
    "eng_stopwords = nltk.corpus.stopwords.words('english')"
   ],
   "metadata": {
    "collapsed": false,
    "pycharm": {
     "name": "#%%\n"
    }
   }
  },
  {
   "cell_type": "code",
   "execution_count": 62,
   "outputs": [],
   "source": [
    "count_text_pipeline = \\\n",
    "    make_pipeline(CountVectorizer(stop_words=eng_stopwords), LogisticRegression(random_state=0, max_iter=1000))"
   ],
   "metadata": {
    "collapsed": false,
    "pycharm": {
     "name": "#%%\n"
    }
   }
  },
  {
   "cell_type": "code",
   "execution_count": 63,
   "outputs": [
    {
     "name": "stdout",
     "output_type": "stream",
     "text": [
      "Mean accuracy -  0.8400000000000001  with std -  0.01129158979063624\n"
     ]
    }
   ],
   "source": [
    "accuracy_cv_score = cross_val_score(count_text_pipeline, X=data.joined_text, y=data.category, cv=5, scoring='accuracy')\n",
    "print('Mean accuracy - ', accuracy_cv_score.mean(), ' with std - ', accuracy_cv_score.std())"
   ],
   "metadata": {
    "collapsed": false,
    "pycharm": {
     "name": "#%%\n"
    }
   }
  },
  {
   "cell_type": "code",
   "execution_count": 64,
   "outputs": [
    {
     "name": "stdout",
     "output_type": "stream",
     "text": [
      "Mean roc_auc -  0.9231449999999999  with std -  0.009511406310320292\n"
     ]
    }
   ],
   "source": [
    "roc_auc_cv_score = cross_val_score(count_text_pipeline, X=data.joined_text, y=data.category, cv=5, scoring='roc_auc')\n",
    "print('Mean roc_auc - ', roc_auc_cv_score.mean(), ' with std - ', roc_auc_cv_score.std())"
   ],
   "metadata": {
    "collapsed": false,
    "pycharm": {
     "name": "#%%\n"
    }
   }
  },
  {
   "cell_type": "code",
   "execution_count": 65,
   "outputs": [],
   "source": [
    "count_text_pipeline = \\\n",
    "    make_pipeline(CountVectorizer(stop_words='english'), LogisticRegression(random_state=0, max_iter=1000))"
   ],
   "metadata": {
    "collapsed": false,
    "pycharm": {
     "name": "#%%\n"
    }
   }
  },
  {
   "cell_type": "code",
   "execution_count": 66,
   "outputs": [
    {
     "name": "stdout",
     "output_type": "stream",
     "text": [
      "Mean accuracy -  0.8365  with std -  0.013472193585307468\n"
     ]
    }
   ],
   "source": [
    "accuracy_cv_score = cross_val_score(count_text_pipeline, X=data.joined_text, y=data.category, cv=5, scoring='accuracy')\n",
    "print('Mean accuracy - ', accuracy_cv_score.mean(), ' with std - ', accuracy_cv_score.std())"
   ],
   "metadata": {
    "collapsed": false,
    "pycharm": {
     "name": "#%%\n"
    }
   }
  },
  {
   "cell_type": "code",
   "execution_count": 67,
   "outputs": [
    {
     "name": "stdout",
     "output_type": "stream",
     "text": [
      "Mean roc_auc -  0.9165949999999998  with std -  0.010291469768696798\n"
     ]
    }
   ],
   "source": [
    "roc_auc_cv_score = cross_val_score(count_text_pipeline, X=data.joined_text, y=data.category, cv=5, scoring='roc_auc')\n",
    "print('Mean roc_auc - ', roc_auc_cv_score.mean(), ' with std - ', roc_auc_cv_score.std())"
   ],
   "metadata": {
    "collapsed": false,
    "pycharm": {
     "name": "#%%\n"
    }
   }
  },
  {
   "cell_type": "markdown",
   "source": [
    "### Add n-grams"
   ],
   "metadata": {
    "collapsed": false
   }
  },
  {
   "cell_type": "code",
   "execution_count": 68,
   "outputs": [],
   "source": [
    "count_text_pipeline = \\\n",
    "    make_pipeline(CountVectorizer(ngram_range=(1, 2)), LogisticRegression(random_state=0, max_iter=1000))"
   ],
   "metadata": {
    "collapsed": false,
    "pycharm": {
     "name": "#%%\n"
    }
   }
  },
  {
   "cell_type": "code",
   "execution_count": 69,
   "outputs": [
    {
     "name": "stdout",
     "output_type": "stream",
     "text": [
      "Mean accuracy -  0.8525  with std -  0.022416511771459906\n"
     ]
    }
   ],
   "source": [
    "accuracy_cv_score = cross_val_score(count_text_pipeline, X=data.joined_text, y=data.category, cv=5, scoring='accuracy')\n",
    "print('Mean accuracy - ', accuracy_cv_score.mean(), ' with std - ', accuracy_cv_score.std())"
   ],
   "metadata": {
    "collapsed": false,
    "pycharm": {
     "name": "#%%\n"
    }
   }
  },
  {
   "cell_type": "code",
   "execution_count": 70,
   "outputs": [
    {
     "name": "stdout",
     "output_type": "stream",
     "text": [
      "Mean roc_auc -  0.9229050000000001  with std -  0.009370957795230924\n"
     ]
    }
   ],
   "source": [
    "roc_auc_cv_score = cross_val_score(count_text_pipeline, X=data.joined_text, y=data.category, cv=5, scoring='roc_auc')\n",
    "print('Mean roc_auc - ', roc_auc_cv_score.mean(), ' with std - ', roc_auc_cv_score.std())"
   ],
   "metadata": {
    "collapsed": false,
    "pycharm": {
     "name": "#%%\n"
    }
   }
  },
  {
   "cell_type": "code",
   "execution_count": 71,
   "outputs": [],
   "source": [
    "count_text_pipeline = \\\n",
    "    make_pipeline(CountVectorizer(ngram_range=(3, 5), analyzer='char_wb'), LogisticRegression(random_state=0, max_iter=1000))"
   ],
   "metadata": {
    "collapsed": false,
    "pycharm": {
     "name": "#%%\n"
    }
   }
  },
  {
   "cell_type": "code",
   "execution_count": 72,
   "outputs": [
    {
     "name": "stdout",
     "output_type": "stream",
     "text": [
      "Mean accuracy -  0.819  with std -  0.008888194417315589\n"
     ]
    }
   ],
   "source": [
    "accuracy_cv_score = cross_val_score(count_text_pipeline, X=data.joined_text, y=data.category, cv=5, scoring='accuracy')\n",
    "print('Mean accuracy - ', accuracy_cv_score.mean(), ' with std - ', accuracy_cv_score.std())"
   ],
   "metadata": {
    "collapsed": false,
    "pycharm": {
     "name": "#%%\n"
    }
   }
  },
  {
   "cell_type": "code",
   "execution_count": 73,
   "outputs": [
    {
     "name": "stdout",
     "output_type": "stream",
     "text": [
      "Mean roc_auc -  0.899955  with std -  0.003491682975299961\n"
     ]
    }
   ],
   "source": [
    "roc_auc_cv_score = cross_val_score(count_text_pipeline, X=data.joined_text, y=data.category, cv=5, scoring='roc_auc')\n",
    "print('Mean roc_auc - ', roc_auc_cv_score.mean(), ' with std - ', roc_auc_cv_score.std())"
   ],
   "metadata": {
    "collapsed": false,
    "pycharm": {
     "name": "#%%\n"
    }
   }
  },
  {
   "cell_type": "markdown",
   "source": [
    "### Feature importance"
   ],
   "metadata": {
    "collapsed": false
   }
  },
  {
   "cell_type": "code",
   "execution_count": 89,
   "outputs": [
    {
     "data": {
      "text/plain": "             feature      coef\n2954             bad  0.792851\n37056  unfortunately  0.628502\n39195          worst  0.575192\n14159            fun  0.561055\n24063        nothing  0.518571",
      "text/html": "<div>\n<style scoped>\n    .dataframe tbody tr th:only-of-type {\n        vertical-align: middle;\n    }\n\n    .dataframe tbody tr th {\n        vertical-align: top;\n    }\n\n    .dataframe thead th {\n        text-align: right;\n    }\n</style>\n<table border=\"1\" class=\"dataframe\">\n  <thead>\n    <tr style=\"text-align: right;\">\n      <th></th>\n      <th>feature</th>\n      <th>coef</th>\n    </tr>\n  </thead>\n  <tbody>\n    <tr>\n      <th>2954</th>\n      <td>bad</td>\n      <td>0.792851</td>\n    </tr>\n    <tr>\n      <th>37056</th>\n      <td>unfortunately</td>\n      <td>0.628502</td>\n    </tr>\n    <tr>\n      <th>39195</th>\n      <td>worst</td>\n      <td>0.575192</td>\n    </tr>\n    <tr>\n      <th>14159</th>\n      <td>fun</td>\n      <td>0.561055</td>\n    </tr>\n    <tr>\n      <th>24063</th>\n      <td>nothing</td>\n      <td>0.518571</td>\n    </tr>\n  </tbody>\n</table>\n</div>"
     },
     "execution_count": 89,
     "metadata": {},
     "output_type": "execute_result"
    }
   ],
   "source": [
    "df_coef = pd.DataFrame()\n",
    "df_coef['feature']=text_pipeline.named_steps.countvectorizer.get_feature_names_out()\n",
    "df_coef['coef']=np.abs(text_pipeline.named_steps.logisticregression.coef_[0])\n",
    "\n",
    "df_coef.sort_values(by='coef', ascending=False).head(5)"
   ],
   "metadata": {
    "collapsed": false,
    "pycharm": {
     "name": "#%%\n"
    }
   }
  }
 ],
 "metadata": {
  "kernelspec": {
   "display_name": "Python 3",
   "language": "python",
   "name": "python3"
  },
  "language_info": {
   "codemirror_mode": {
    "name": "ipython",
    "version": 2
   },
   "file_extension": ".py",
   "mimetype": "text/x-python",
   "name": "python",
   "nbconvert_exporter": "python",
   "pygments_lexer": "ipython2",
   "version": "2.7.6"
  }
 },
 "nbformat": 4,
 "nbformat_minor": 0
}