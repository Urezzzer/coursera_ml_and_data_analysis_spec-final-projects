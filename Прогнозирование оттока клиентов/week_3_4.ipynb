{
 "cells": [
  {
   "cell_type": "code",
   "execution_count": 183,
   "metadata": {
    "collapsed": true
   },
   "outputs": [],
   "source": [
    "import pandas as pd\n",
    "import numpy as np\n",
    "\n",
    "import category_encoders as ce\n",
    "from sklearn.model_selection import cross_val_score\n",
    "from sklearn.preprocessing import StandardScaler, Normalizer, MinMaxScaler, LabelEncoder, OneHotEncoder\n",
    "from sklearn.pipeline import Pipeline\n",
    "from sklearn.compose import ColumnTransformer\n",
    "\n",
    "from sklearn.impute import SimpleImputer, KNNImputer\n",
    "\n",
    "from sklearn.linear_model import RidgeClassifier\n",
    "from sklearn.ensemble import RandomForestClassifier\n",
    "from sklearn.ensemble import GradientBoostingClassifier\n",
    "from sklearn.feature_selection import VarianceThreshold\n",
    "from catboost import CatBoostClassifier\n",
    "from sklearn.model_selection import StratifiedKFold\n",
    "from sklearn.preprocessing import FunctionTransformer\n",
    "from sklearn import metrics\n",
    "from catboost import CatBoostClassifier\n",
    "import xgboost as xgb\n",
    "import lightgbm as lgb"
   ]
  },
  {
   "cell_type": "code",
   "execution_count": 194,
   "outputs": [],
   "source": [
    "df = pd.read_csv('orange_small_churn_train_data.csv', index_col=['ID'])\n",
    "df['labels'].fillna(0, inplace=True)\n",
    "labels, train = df['labels'], df.drop(columns=['labels'])\n",
    "labels.replace({-1: 0}, inplace=True)\n",
    "labels = labels.values"
   ],
   "metadata": {
    "collapsed": false,
    "pycharm": {
     "name": "#%%\n"
    }
   }
  },
  {
   "cell_type": "code",
   "execution_count": 195,
   "outputs": [],
   "source": [
    "percent_missing = train.isnull().sum() * 100 / len(df)\n",
    "missing_value_df = pd.DataFrame({'percent_missing': percent_missing}).sort_values('percent_missing', ascending=False)"
   ],
   "metadata": {
    "collapsed": false,
    "pycharm": {
     "name": "#%%\n"
    }
   }
  },
  {
   "cell_type": "code",
   "execution_count": 196,
   "outputs": [],
   "source": [
    "train = train[list(missing_value_df[missing_value_df.percent_missing < 50.].index)]"
   ],
   "metadata": {
    "collapsed": false,
    "pycharm": {
     "name": "#%%\n"
    }
   }
  },
  {
   "cell_type": "code",
   "execution_count": 197,
   "outputs": [
    {
     "data": {
      "text/plain": "    Var72     Var94  Var126  Var109    Var149  Var24  Var144      Var81  \\\nID                                                                        \n0     NaN       NaN     4.0   144.0  389396.0   20.0     9.0   14599.92   \n1     3.0   32289.0    40.0    80.0     735.0    2.0    18.0   67529.09   \n2     3.0   53388.0    36.0    40.0       0.0    0.0    27.0   85266.00   \n3     NaN       NaN     NaN    32.0       0.0    0.0     0.0   74107.20   \n4     3.0  106455.0   -28.0    32.0  554414.0    2.0     9.0  171072.90   \n\n   Var206    Var6  ...  Var73     Var113         Var212            Var193  \\\nID                 ...                                                      \n0    IYzP  3052.0  ...     34 -1209960.0     JBfYVit4g8           AERks4l   \n1    haYg  1813.0  ...    128   417932.0  XfqtO3UdzaXh_           2Knk1KF   \n2    hAFG  1953.0  ...    166  -124655.2  4kVnq_T26xq1p  LrdZy8QqgUfkVShG   \n3    IYzP  1533.0  ...     30   378473.6        NhsEn4L              RO12   \n4    zm5i   686.0  ...     32   142602.4        NhsEn4L              RO12   \n\n    Var210                  Var207  Var204  Var196 Var195   Var198  \nID                                                                  \n0     uKAI  GjJ35utlTa_GNSvxxpb9ju    k13i    1K8T   taul  UaKK0yW  \n1     uKAI              me75fM6ugJ    FbIm    1K8T   taul  Bnunsla  \n2     uKAI     7M47J5GA0pTYIFxg5uy    mTeA    1K8T   taul  fhk21Ss  \n3     uKAI              me75fM6ugJ    vzJD    1K8T   taul  uoZk2Zj  \n4     uKAI              me75fM6ugJ    m_h1    1K8T   taul  kugYdIL  \n\n[5 rows x 69 columns]",
      "text/html": "<div>\n<style scoped>\n    .dataframe tbody tr th:only-of-type {\n        vertical-align: middle;\n    }\n\n    .dataframe tbody tr th {\n        vertical-align: top;\n    }\n\n    .dataframe thead th {\n        text-align: right;\n    }\n</style>\n<table border=\"1\" class=\"dataframe\">\n  <thead>\n    <tr style=\"text-align: right;\">\n      <th></th>\n      <th>Var72</th>\n      <th>Var94</th>\n      <th>Var126</th>\n      <th>Var109</th>\n      <th>Var149</th>\n      <th>Var24</th>\n      <th>Var144</th>\n      <th>Var81</th>\n      <th>Var206</th>\n      <th>Var6</th>\n      <th>...</th>\n      <th>Var73</th>\n      <th>Var113</th>\n      <th>Var212</th>\n      <th>Var193</th>\n      <th>Var210</th>\n      <th>Var207</th>\n      <th>Var204</th>\n      <th>Var196</th>\n      <th>Var195</th>\n      <th>Var198</th>\n    </tr>\n    <tr>\n      <th>ID</th>\n      <th></th>\n      <th></th>\n      <th></th>\n      <th></th>\n      <th></th>\n      <th></th>\n      <th></th>\n      <th></th>\n      <th></th>\n      <th></th>\n      <th></th>\n      <th></th>\n      <th></th>\n      <th></th>\n      <th></th>\n      <th></th>\n      <th></th>\n      <th></th>\n      <th></th>\n      <th></th>\n      <th></th>\n    </tr>\n  </thead>\n  <tbody>\n    <tr>\n      <th>0</th>\n      <td>NaN</td>\n      <td>NaN</td>\n      <td>4.0</td>\n      <td>144.0</td>\n      <td>389396.0</td>\n      <td>20.0</td>\n      <td>9.0</td>\n      <td>14599.92</td>\n      <td>IYzP</td>\n      <td>3052.0</td>\n      <td>...</td>\n      <td>34</td>\n      <td>-1209960.0</td>\n      <td>JBfYVit4g8</td>\n      <td>AERks4l</td>\n      <td>uKAI</td>\n      <td>GjJ35utlTa_GNSvxxpb9ju</td>\n      <td>k13i</td>\n      <td>1K8T</td>\n      <td>taul</td>\n      <td>UaKK0yW</td>\n    </tr>\n    <tr>\n      <th>1</th>\n      <td>3.0</td>\n      <td>32289.0</td>\n      <td>40.0</td>\n      <td>80.0</td>\n      <td>735.0</td>\n      <td>2.0</td>\n      <td>18.0</td>\n      <td>67529.09</td>\n      <td>haYg</td>\n      <td>1813.0</td>\n      <td>...</td>\n      <td>128</td>\n      <td>417932.0</td>\n      <td>XfqtO3UdzaXh_</td>\n      <td>2Knk1KF</td>\n      <td>uKAI</td>\n      <td>me75fM6ugJ</td>\n      <td>FbIm</td>\n      <td>1K8T</td>\n      <td>taul</td>\n      <td>Bnunsla</td>\n    </tr>\n    <tr>\n      <th>2</th>\n      <td>3.0</td>\n      <td>53388.0</td>\n      <td>36.0</td>\n      <td>40.0</td>\n      <td>0.0</td>\n      <td>0.0</td>\n      <td>27.0</td>\n      <td>85266.00</td>\n      <td>hAFG</td>\n      <td>1953.0</td>\n      <td>...</td>\n      <td>166</td>\n      <td>-124655.2</td>\n      <td>4kVnq_T26xq1p</td>\n      <td>LrdZy8QqgUfkVShG</td>\n      <td>uKAI</td>\n      <td>7M47J5GA0pTYIFxg5uy</td>\n      <td>mTeA</td>\n      <td>1K8T</td>\n      <td>taul</td>\n      <td>fhk21Ss</td>\n    </tr>\n    <tr>\n      <th>3</th>\n      <td>NaN</td>\n      <td>NaN</td>\n      <td>NaN</td>\n      <td>32.0</td>\n      <td>0.0</td>\n      <td>0.0</td>\n      <td>0.0</td>\n      <td>74107.20</td>\n      <td>IYzP</td>\n      <td>1533.0</td>\n      <td>...</td>\n      <td>30</td>\n      <td>378473.6</td>\n      <td>NhsEn4L</td>\n      <td>RO12</td>\n      <td>uKAI</td>\n      <td>me75fM6ugJ</td>\n      <td>vzJD</td>\n      <td>1K8T</td>\n      <td>taul</td>\n      <td>uoZk2Zj</td>\n    </tr>\n    <tr>\n      <th>4</th>\n      <td>3.0</td>\n      <td>106455.0</td>\n      <td>-28.0</td>\n      <td>32.0</td>\n      <td>554414.0</td>\n      <td>2.0</td>\n      <td>9.0</td>\n      <td>171072.90</td>\n      <td>zm5i</td>\n      <td>686.0</td>\n      <td>...</td>\n      <td>32</td>\n      <td>142602.4</td>\n      <td>NhsEn4L</td>\n      <td>RO12</td>\n      <td>uKAI</td>\n      <td>me75fM6ugJ</td>\n      <td>m_h1</td>\n      <td>1K8T</td>\n      <td>taul</td>\n      <td>kugYdIL</td>\n    </tr>\n  </tbody>\n</table>\n<p>5 rows × 69 columns</p>\n</div>"
     },
     "execution_count": 197,
     "metadata": {},
     "output_type": "execute_result"
    }
   ],
   "source": [
    "train.head()"
   ],
   "metadata": {
    "collapsed": false,
    "pycharm": {
     "name": "#%%\n"
    }
   }
  },
  {
   "cell_type": "code",
   "execution_count": 198,
   "outputs": [],
   "source": [
    "def fillna_imputer(df):\n",
    "    '''\n",
    "    Заменяет Nan значения на строковый маркер 'Nan' и добавляет boolean столбец для каждого признака\n",
    "    '''\n",
    "    column_names = df.columns.to_list()\n",
    "    result = pd.DataFrame()\n",
    "    for name in column_names:\n",
    "        result[name] = df[name].fillna(value = 'missing')\n",
    "        result[name + '_bool'] = df[name].isna()\n",
    "    return result.reset_index(drop = True)\n",
    "\n",
    "bool_fillna_imputer = FunctionTransformer(fillna_imputer, validate=False)"
   ],
   "metadata": {
    "collapsed": false,
    "pycharm": {
     "name": "#%%\n"
    }
   }
  },
  {
   "cell_type": "code",
   "execution_count": 200,
   "outputs": [],
   "source": [
    "numeric_features = list(set([f'Var{i}' for i in range(1, 191)]).intersection(set(train.columns)))\n",
    "numeric_transformer = Pipeline(steps=[\n",
    "    ('imputer', SimpleImputer(missing_values=np.nan, strategy='median')),\n",
    "    ('variancethreshold', VarianceThreshold(0.1)),\n",
    "    ('scaler', StandardScaler())])\n",
    "\n",
    "categorical_features = list(set([f'Var{i}' for i in range(191, 230)]).intersection(set(train.columns)))\n",
    "categorical_transformer = Pipeline(steps=[\n",
    "    ('imputer', bool_fillna_imputer),\n",
    "    ('onehot', ce.CatBoostEncoder(random_state=0)),\n",
    "    ('scaler', StandardScaler())])\n",
    "\n",
    "preprocessor = ColumnTransformer(\n",
    "    transformers=[\n",
    "        ('num', numeric_transformer, numeric_features),\n",
    "        ('cat', categorical_transformer, categorical_features)])"
   ],
   "metadata": {
    "collapsed": false,
    "pycharm": {
     "name": "#%%\n"
    }
   }
  },
  {
   "cell_type": "code",
   "execution_count": 201,
   "outputs": [
    {
     "data": {
      "text/plain": "array([[-2.94149535e-01, -2.19317379e-01,  5.79649539e-01, ...,\n        -7.39261669e-03, -1.27983732e-01,  0.00000000e+00],\n       [ 1.16495601e+00,  5.85755583e-01,  1.49970343e-01, ...,\n        -7.39261669e-03, -1.27983732e-01,  0.00000000e+00],\n       [ 1.21977637e+00,  1.39082855e+00, -1.18579154e-01, ...,\n        -7.39261669e-03, -1.27983732e-01,  0.00000000e+00],\n       ...,\n       [ 1.51397538e+00,  3.80604743e+00, -1.18579154e-01, ...,\n        -7.39261669e-03, -1.40522086e+00,  0.00000000e+00],\n       [ 1.53238953e+00, -1.02439034e+00, -3.33418752e-01, ...,\n        -7.39261669e-03,  3.34409092e-01,  0.00000000e+00],\n       [-1.81538844e-02,  2.19590151e+00, -3.87128651e-01, ...,\n         1.35270100e+02, -5.76883982e-01,  0.00000000e+00]])"
     },
     "execution_count": 201,
     "metadata": {},
     "output_type": "execute_result"
    }
   ],
   "source": [
    "preprocessor.fit_transform(train, labels.ravel())"
   ],
   "metadata": {
    "collapsed": false,
    "pycharm": {
     "name": "#%%\n"
    }
   }
  },
  {
   "cell_type": "markdown",
   "source": [
    "## RidgeRegressor"
   ],
   "metadata": {
    "collapsed": false
   }
  },
  {
   "cell_type": "code",
   "execution_count": 202,
   "outputs": [],
   "source": [
    "clf = Pipeline(steps=[('preprocessor', preprocessor),\n",
    "                      ('classifier', RidgeClassifier(random_state=0, class_weight='balanced'))])"
   ],
   "metadata": {
    "collapsed": false,
    "pycharm": {
     "name": "#%%\n"
    }
   }
  },
  {
   "cell_type": "code",
   "execution_count": 203,
   "outputs": [
    {
     "data": {
      "text/plain": "array([0.65897032, 0.66966456, 0.70612773, 0.7006983 , 0.66199549])"
     },
     "execution_count": 203,
     "metadata": {},
     "output_type": "execute_result"
    }
   ],
   "source": [
    "cross_val_score(clf, train, labels, scoring='roc_auc', cv=5, n_jobs=2)"
   ],
   "metadata": {
    "collapsed": false,
    "pycharm": {
     "name": "#%%\n"
    }
   }
  },
  {
   "cell_type": "code",
   "execution_count": 204,
   "outputs": [
    {
     "data": {
      "text/plain": "array([0.60965758, 0.61971264, 0.6469447 , 0.64893617, 0.60931926])"
     },
     "execution_count": 204,
     "metadata": {},
     "output_type": "execute_result"
    }
   ],
   "source": [
    "cross_val_score(clf, train, labels, scoring='balanced_accuracy', cv=5, n_jobs=2)"
   ],
   "metadata": {
    "collapsed": false,
    "pycharm": {
     "name": "#%%\n"
    }
   }
  },
  {
   "cell_type": "markdown",
   "source": [
    "## RandomForestClassifier"
   ],
   "metadata": {
    "collapsed": false
   }
  },
  {
   "cell_type": "code",
   "execution_count": 205,
   "outputs": [],
   "source": [
    "clf = Pipeline(steps=[('preprocessor', preprocessor),\n",
    "                      ('classifier', RandomForestClassifier(random_state=0, class_weight='balanced'))])"
   ],
   "metadata": {
    "collapsed": false,
    "pycharm": {
     "name": "#%%\n"
    }
   }
  },
  {
   "cell_type": "code",
   "execution_count": 206,
   "outputs": [
    {
     "data": {
      "text/plain": "array([0.65476997, 0.67880328, 0.6887618 , 0.67133698, 0.65804911])"
     },
     "execution_count": 206,
     "metadata": {},
     "output_type": "execute_result"
    }
   ],
   "source": [
    "cross_val_score(clf, train, labels, scoring='roc_auc', cv=5, n_jobs=2)"
   ],
   "metadata": {
    "collapsed": false,
    "pycharm": {
     "name": "#%%\n"
    }
   }
  },
  {
   "cell_type": "code",
   "execution_count": 207,
   "outputs": [
    {
     "data": {
      "text/plain": "array([0.5, 0.5, 0.5, 0.5, 0.5])"
     },
     "execution_count": 207,
     "metadata": {},
     "output_type": "execute_result"
    }
   ],
   "source": [
    "cross_val_score(clf, train, labels, scoring='balanced_accuracy', cv=5, n_jobs=2)"
   ],
   "metadata": {
    "collapsed": false,
    "pycharm": {
     "name": "#%%\n"
    }
   }
  },
  {
   "cell_type": "markdown",
   "source": [
    "## GradientBoostingClassifier"
   ],
   "metadata": {
    "collapsed": false
   }
  },
  {
   "cell_type": "code",
   "execution_count": 208,
   "outputs": [],
   "source": [
    "clf = Pipeline(steps=[('preprocessor', preprocessor),\n",
    "                      ('classifier', GradientBoostingClassifier(random_state=0))])"
   ],
   "metadata": {
    "collapsed": false,
    "pycharm": {
     "name": "#%%\n"
    }
   }
  },
  {
   "cell_type": "code",
   "execution_count": 209,
   "outputs": [
    {
     "data": {
      "text/plain": "array([0.67453793, 0.71527595, 0.74538697, 0.72359805, 0.71971416])"
     },
     "execution_count": 209,
     "metadata": {},
     "output_type": "execute_result"
    }
   ],
   "source": [
    "cross_val_score(clf, df, labels, scoring='roc_auc', cv=5, n_jobs=2)"
   ],
   "metadata": {
    "collapsed": false,
    "pycharm": {
     "name": "#%%\n"
    }
   }
  },
  {
   "cell_type": "code",
   "execution_count": 210,
   "outputs": [
    {
     "data": {
      "text/plain": "array([0.50992077, 0.50334094, 0.5083192 , 0.51179463, 0.50515904])"
     },
     "execution_count": 210,
     "metadata": {},
     "output_type": "execute_result"
    }
   ],
   "source": [
    "cross_val_score(clf, df, labels, scoring='balanced_accuracy', cv=5, n_jobs=2)"
   ],
   "metadata": {
    "collapsed": false,
    "pycharm": {
     "name": "#%%\n"
    }
   }
  },
  {
   "cell_type": "markdown",
   "source": [
    "## Submit"
   ],
   "metadata": {
    "collapsed": false
   }
  },
  {
   "cell_type": "code",
   "execution_count": 211,
   "outputs": [],
   "source": [
    "test = pd.read_csv('orange_small_churn_test_data.csv')"
   ],
   "metadata": {
    "collapsed": false,
    "pycharm": {
     "name": "#%%\n"
    }
   }
  },
  {
   "cell_type": "code",
   "execution_count": 212,
   "outputs": [],
   "source": [
    "clf = Pipeline(steps=[('preprocessor', preprocessor),\n",
    "                      ('classifier', CatBoostClassifier(iterations=1000,loss_function='Logloss',od_wait=200,verbose=False))])"
   ],
   "metadata": {
    "collapsed": false,
    "pycharm": {
     "name": "#%%\n"
    }
   }
  },
  {
   "cell_type": "code",
   "execution_count": 214,
   "outputs": [
    {
     "data": {
      "text/plain": "array([0.50820465, 0.50334094, 0.51209014, 0.51209014, 0.50530679])"
     },
     "execution_count": 214,
     "metadata": {},
     "output_type": "execute_result"
    }
   ],
   "source": [
    "cross_val_score(clf, train, labels, scoring='balanced_accuracy', cv=5, n_jobs=2)"
   ],
   "metadata": {
    "collapsed": false,
    "pycharm": {
     "name": "#%%\n"
    }
   }
  },
  {
   "cell_type": "code",
   "execution_count": 80,
   "outputs": [
    {
     "data": {
      "text/plain": "Pipeline(steps=[('preprocessor',\n                 ColumnTransformer(transformers=[('num',\n                                                  Pipeline(steps=[('imputer',\n                                                                   SimpleImputer(strategy='median')),\n                                                                  ('variancethreshold',\n                                                                   VarianceThreshold(threshold=0.1)),\n                                                                  ('scaler',\n                                                                   StandardScaler())]),\n                                                  ['Var57', 'Var144', 'Var109',\n                                                   'Var78', 'Var6', 'Var13',\n                                                   'Var126', 'Var112', 'Var35',\n                                                   'Var25', 'Var94', 'Var76',\n                                                   'Var133', 'Var149', 'Var65',\n                                                   'Var7',...\n                                                                   StandardScaler())]),\n                                                  ['Var204', 'Var219', 'Var212',\n                                                   'Var203', 'Var199', 'Var218',\n                                                   'Var226', 'Var192', 'Var217',\n                                                   'Var195', 'Var206', 'Var227',\n                                                   'Var205', 'Var228', 'Var208',\n                                                   'Var196', 'Var222', 'Var202',\n                                                   'Var198', 'Var221', 'Var216',\n                                                   'Var197', 'Var207', 'Var211',\n                                                   'Var223', 'Var210', 'Var220',\n                                                   'Var193'])])),\n                ('classifier',\n                 <catboost.core.CatBoostClassifier object at 0x000001D4D1518820>)])"
     },
     "execution_count": 80,
     "metadata": {},
     "output_type": "execute_result"
    }
   ],
   "source": [
    "clf.fit(df, labels.ravel())"
   ],
   "metadata": {
    "collapsed": false,
    "pycharm": {
     "name": "#%%\n"
    }
   }
  },
  {
   "cell_type": "code",
   "execution_count": 81,
   "outputs": [],
   "source": [
    "predict = clf.predict(test)"
   ],
   "metadata": {
    "collapsed": false,
    "pycharm": {
     "name": "#%%\n"
    }
   }
  },
  {
   "cell_type": "code",
   "execution_count": 82,
   "outputs": [],
   "source": [
    "result = pd.DataFrame(predict, columns=['result'])\n",
    "result.index.name = 'Id'\n",
    "result.to_csv('submit.csv')"
   ],
   "metadata": {
    "collapsed": false,
    "pycharm": {
     "name": "#%%\n"
    }
   }
  },
  {
   "cell_type": "code",
   "execution_count": null,
   "outputs": [],
   "source": [],
   "metadata": {
    "collapsed": false,
    "pycharm": {
     "name": "#%%\n"
    }
   }
  }
 ],
 "metadata": {
  "kernelspec": {
   "display_name": "Python 3",
   "language": "python",
   "name": "python3"
  },
  "language_info": {
   "codemirror_mode": {
    "name": "ipython",
    "version": 2
   },
   "file_extension": ".py",
   "mimetype": "text/x-python",
   "name": "python",
   "nbconvert_exporter": "python",
   "pygments_lexer": "ipython2",
   "version": "2.7.6"
  }
 },
 "nbformat": 4,
 "nbformat_minor": 0
}