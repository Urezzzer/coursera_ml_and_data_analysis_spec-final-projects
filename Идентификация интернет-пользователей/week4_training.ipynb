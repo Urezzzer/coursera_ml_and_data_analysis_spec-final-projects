{
 "cells": [
  {
   "cell_type": "markdown",
   "metadata": {},
   "source": [
    "<center>\n",
    "<img src=\"https://habrastorage.org/web/677/8e1/337/6778e1337c3d4b159d7e99df94227cb2.jpg\"/>\n",
    "## Специализация \"Машинное обучение и анализ данных\"\n",
    "<center>Автор материала: программист-исследователь Mail.Ru Group, старший преподаватель Факультета Компьютерных Наук ВШЭ [Юрий Кашницкий](https://yorko.github.io/)"
   ]
  },
  {
   "cell_type": "markdown",
   "metadata": {},
   "source": [
    "# <center> Capstone проект №1 <br> Идентификация пользователей по посещенным веб-страницам\n",
    "<img src='http://i.istockimg.com/file_thumbview_approve/21546327/5/stock-illustration-21546327-identification-de-l-utilisateur.jpg'>\n",
    "\n",
    "# <center>Неделя 4.  Сравнение алгоритмов классификации\n",
    "\n",
    "Теперь мы наконец подойдем к обучению моделей классификации, сравним на кросс-валидации несколько алгоритмов, разберемся, какие параметры длины сессии (*session_length* и *window_size*) лучше использовать. Также для выбранного алгоритма построим кривые валидации (как качество классификации зависит от одного из гиперпараметров алгоритма) и кривые обучения (как качество классификации зависит от объема выборки).\n",
    "\n",
    "**План 4 недели:**\n",
    "- Часть 1. Сравнение нескольких алгоритмов на сессиях из 10 сайтов\n",
    "- Часть 2. Выбор параметров – длины сессии и ширины окна\n",
    "- Часть 3. Идентификация  конкретного пользователя и кривые обучения\n",
    " \n",
    "\n",
    "\n",
    "**В этой части проекта Вам могут быть полезны видеозаписи следующих лекций курса \"Обучение на размеченных данных\":**\n",
    "   - [Линейная классификация](https://www.coursera.org/learn/supervised-learning/lecture/jqLcO/linieinaia-klassifikatsiia)\n",
    "   - [Сравнение алгоритмов и выбор гиперпараметров](https://www.coursera.org/learn/supervised-learning/lecture/aF79U/sravnieniie-alghoritmov-i-vybor-ghipierparamietrov)\n",
    "   - [Кросс-валидация. Sklearn.cross_validation](https://www.coursera.org/learn/supervised-learning/lecture/XbHEk/kross-validatsiia-sklearn-cross-validation)\n",
    "   - [Линейные модели. Sklearn.linear_model. Классификация](https://www.coursera.org/learn/supervised-learning/lecture/EBg9t/linieinyie-modieli-sklearn-linear-model-klassifikatsiia)\n",
    "   - и многие другие\n"
   ]
  },
  {
   "cell_type": "markdown",
   "metadata": {},
   "source": [
    "### Задание\n",
    "1. Заполните код в этой тетрадке \n",
    "2. Если вы проходите специализацию Яндеса и МФТИ, пошлите файл с ответами в соответствующем Programming Assignment. <br> Если вы проходите курс ODS, выберите ответы в [веб-форме](https://docs.google.com/forms/d/12VB7kmzDoSVzSpQNaJp0tR-2t8K8PynQopP3dypf7i4).  "
   ]
  },
  {
   "cell_type": "code",
   "execution_count": 1,
   "metadata": {
    "collapsed": true
   },
   "outputs": [],
   "source": [
    "# pip install watermark\n",
    "%load_ext watermark"
   ]
  },
  {
   "cell_type": "code",
   "execution_count": 2,
   "metadata": {},
   "outputs": [
    {
     "name": "stdout",
     "output_type": "stream",
     "text": [
      "Python implementation: CPython\n",
      "Python version       : 3.8.6\n",
      "IPython version      : 7.30.1\n",
      "\n",
      "numpy      : 1.22.0\n",
      "scipy      : 1.7.3\n",
      "pandas     : 1.5.2\n",
      "matplotlib : 3.5.1\n",
      "statsmodels: 0.13.5\n",
      "sklearn    : 0.0\n",
      "\n",
      "Compiler    : MSC v.1927 64 bit (AMD64)\n",
      "OS          : Windows\n",
      "Release     : 10\n",
      "Machine     : AMD64\n",
      "Processor   : Intel64 Family 6 Model 165 Stepping 2, GenuineIntel\n",
      "CPU cores   : 12\n",
      "Architecture: 64bit\n",
      "\n",
      "Git hash: \n",
      "\n"
     ]
    }
   ],
   "source": [
    "%watermark -v -m -p numpy,scipy,pandas,matplotlib,statsmodels,sklearn -g"
   ]
  },
  {
   "cell_type": "code",
   "execution_count": 1,
   "metadata": {
    "collapsed": true
   },
   "outputs": [],
   "source": [
    "from __future__ import division, print_function\n",
    "# отключим всякие предупреждения Anaconda\n",
    "import warnings\n",
    "warnings.filterwarnings('ignore')\n",
    "from time import time\n",
    "import itertools\n",
    "import os\n",
    "import numpy as np\n",
    "import pandas as pd\n",
    "import seaborn as sns\n",
    "pd.set_option('display.max.columns', 25)\n",
    "%matplotlib inline\n",
    "from matplotlib import pyplot as plt\n",
    "import pickle\n",
    "from scipy.sparse import csr_matrix\n",
    "from sklearn.model_selection import train_test_split, cross_val_score, StratifiedKFold, GridSearchCV\n",
    "from sklearn.metrics import accuracy_score, f1_score\n",
    "from sklearn.feature_extraction.text import CountVectorizer\n",
    "from datetime import datetime"
   ]
  },
  {
   "cell_type": "code",
   "execution_count": 2,
   "metadata": {
    "collapsed": true
   },
   "outputs": [],
   "source": [
    "# Поменяйте на свой путь к данным\n",
    "PATH_TO_DATA = 'capstone_user_identification'"
   ]
  },
  {
   "cell_type": "markdown",
   "metadata": {},
   "source": [
    "## Часть 1. Сравнение нескольких алгоритмов на сессиях из 10 сайтов"
   ]
  },
  {
   "cell_type": "markdown",
   "metadata": {},
   "source": [
    "**Загрузим сериализованные ранее объекты *X_sparse_10users* и *y_10users*, соответствующие обучающей выборке для 10 пользователей.**"
   ]
  },
  {
   "cell_type": "code",
   "execution_count": 3,
   "metadata": {
    "collapsed": true
   },
   "outputs": [],
   "source": [
    "with open(os.path.join(PATH_TO_DATA, \n",
    "         'X_sparse_10users_s15_w10_max1.0_min1.pkl'), 'rb') as X_sparse_10users_pkl:\n",
    "    X_sparse_10users = pickle.load(X_sparse_10users_pkl)\n",
    "with open(os.path.join(PATH_TO_DATA, \n",
    "                       'y_10users_s15_w10_max1.0_min1.pkl'), 'rb') as y_10users_pkl:\n",
    "    y_10users = pickle.load(y_10users_pkl)"
   ]
  },
  {
   "cell_type": "markdown",
   "metadata": {},
   "source": [
    "**Здесь более 14 тысяч сессий и почти 5 тысяч уникальных посещенных сайтов.**"
   ]
  },
  {
   "cell_type": "code",
   "execution_count": 4,
   "metadata": {},
   "outputs": [
    {
     "data": {
      "text/plain": "(14060, 4008)"
     },
     "execution_count": 4,
     "metadata": {},
     "output_type": "execute_result"
    }
   ],
   "source": [
    "X_sparse_10users.shape"
   ]
  },
  {
   "cell_type": "markdown",
   "metadata": {},
   "source": [
    "**Разобьем выборку на 2 части. На одной будем проводить кросс-валидацию, на второй – оценивать модель, обученную после кросс-валидации.**"
   ]
  },
  {
   "cell_type": "code",
   "execution_count": 5,
   "metadata": {
    "collapsed": true
   },
   "outputs": [],
   "source": [
    "X_train, X_valid, y_train, y_valid = train_test_split(X_sparse_10users, y_10users, \n",
    "                                                      test_size=0.3, \n",
    "                                                     random_state=17, stratify=y_10users)"
   ]
  },
  {
   "cell_type": "markdown",
   "metadata": {},
   "source": [
    "**Зададим заранее тип кросс-валидации: 3-кратная, с перемешиванием, параметр random_state=17 – для воспроизводимости.**"
   ]
  },
  {
   "cell_type": "code",
   "execution_count": 6,
   "metadata": {
    "collapsed": true
   },
   "outputs": [],
   "source": [
    "skf = StratifiedKFold(n_splits=3, shuffle=True, random_state=17)"
   ]
  },
  {
   "cell_type": "markdown",
   "metadata": {},
   "source": [
    "**Вспомогательная функция для отрисовки кривых валидации после запуска GridSearchCV (или RandomizedCV).**"
   ]
  },
  {
   "cell_type": "code",
   "execution_count": 7,
   "metadata": {
    "collapsed": true
   },
   "outputs": [],
   "source": [
    "def plot_validation_curves(param_values, grid_cv_results_):\n",
    "    train_mu, train_std = grid_cv_results_['mean_train_score'], grid_cv_results_['std_train_score']\n",
    "    valid_mu, valid_std = grid_cv_results_['mean_test_score'], grid_cv_results_['std_test_score']\n",
    "    train_line = plt.plot(param_values, train_mu, '-', label='train', color='green')\n",
    "    valid_line = plt.plot(param_values, valid_mu, '-', label='test', color='red')\n",
    "    plt.fill_between(param_values, train_mu - train_std, train_mu + train_std, edgecolor='none',\n",
    "                     facecolor=train_line[0].get_color(), alpha=0.2)\n",
    "    plt.fill_between(param_values, valid_mu - valid_std, valid_mu + valid_std, edgecolor='none',\n",
    "                     facecolor=valid_line[0].get_color(), alpha=0.2)\n",
    "    plt.legend()"
   ]
  },
  {
   "cell_type": "markdown",
   "metadata": {},
   "source": [
    "**1. Обучите `KNeighborsClassifier` со 100 ближайшими соседями (остальные параметры оставьте по умолчанию, только `n_jobs`=-1 для распараллеливания) и посмотрите на долю правильных ответов на 3-кратной кросс-валидации (ради воспроизводимости используйте для этого объект `StratifiedKFold` `skf`) по выборке `(X_train, y_train)` и отдельно на выборке `(X_valid, y_valid)`.**"
   ]
  },
  {
   "cell_type": "code",
   "execution_count": 8,
   "metadata": {
    "collapsed": true
   },
   "outputs": [],
   "source": [
    "from sklearn.neighbors import KNeighborsClassifier"
   ]
  },
  {
   "cell_type": "code",
   "execution_count": 9,
   "metadata": {
    "collapsed": true
   },
   "outputs": [],
   "source": [
    "knn = KNeighborsClassifier(n_neighbors=100, n_jobs=-1)"
   ]
  },
  {
   "cell_type": "code",
   "execution_count": 10,
   "outputs": [
    {
     "ename": "ValueError",
     "evalue": "indices and data should have the same size",
     "output_type": "error",
     "traceback": [
      "\u001B[1;31m---------------------------------------------------------------------------\u001B[0m",
      "\u001B[1;31mValueError\u001B[0m                                Traceback (most recent call last)",
      "\u001B[1;32m~\\AppData\\Local\\Temp/ipykernel_6844/2298698016.py\u001B[0m in \u001B[0;36m<module>\u001B[1;34m\u001B[0m\n\u001B[1;32m----> 1\u001B[1;33m \u001B[0mknn_pred_split\u001B[0m \u001B[1;33m=\u001B[0m \u001B[0mknn\u001B[0m\u001B[1;33m.\u001B[0m\u001B[0mfit\u001B[0m\u001B[1;33m(\u001B[0m\u001B[0mX_train\u001B[0m\u001B[1;33m,\u001B[0m \u001B[0my_train\u001B[0m\u001B[1;33m)\u001B[0m\u001B[1;33m.\u001B[0m\u001B[0mpredict\u001B[0m\u001B[1;33m(\u001B[0m\u001B[0mX_valid\u001B[0m\u001B[1;33m)\u001B[0m\u001B[1;33m\u001B[0m\u001B[1;33m\u001B[0m\u001B[0m\n\u001B[0m\u001B[0;32m      2\u001B[0m \u001B[0mknn_score_split\u001B[0m \u001B[1;33m=\u001B[0m \u001B[0maccuracy_score\u001B[0m\u001B[1;33m(\u001B[0m\u001B[0my_valid\u001B[0m\u001B[1;33m,\u001B[0m \u001B[0mknn_pred_split\u001B[0m\u001B[1;33m)\u001B[0m\u001B[1;33m\u001B[0m\u001B[1;33m\u001B[0m\u001B[0m\n",
      "\u001B[1;32md:\\files\\dl_workspace\\lib\\site-packages\\sklearn\\neighbors\\_classification.py\u001B[0m in \u001B[0;36mpredict\u001B[1;34m(self, X)\u001B[0m\n\u001B[0;32m    212\u001B[0m             \u001B[0mClass\u001B[0m \u001B[0mlabels\u001B[0m \u001B[1;32mfor\u001B[0m \u001B[0meach\u001B[0m \u001B[0mdata\u001B[0m \u001B[0msample\u001B[0m\u001B[1;33m.\u001B[0m\u001B[1;33m\u001B[0m\u001B[1;33m\u001B[0m\u001B[0m\n\u001B[0;32m    213\u001B[0m         \"\"\"\n\u001B[1;32m--> 214\u001B[1;33m         \u001B[0mneigh_dist\u001B[0m\u001B[1;33m,\u001B[0m \u001B[0mneigh_ind\u001B[0m \u001B[1;33m=\u001B[0m \u001B[0mself\u001B[0m\u001B[1;33m.\u001B[0m\u001B[0mkneighbors\u001B[0m\u001B[1;33m(\u001B[0m\u001B[0mX\u001B[0m\u001B[1;33m)\u001B[0m\u001B[1;33m\u001B[0m\u001B[1;33m\u001B[0m\u001B[0m\n\u001B[0m\u001B[0;32m    215\u001B[0m         \u001B[0mclasses_\u001B[0m \u001B[1;33m=\u001B[0m \u001B[0mself\u001B[0m\u001B[1;33m.\u001B[0m\u001B[0mclasses_\u001B[0m\u001B[1;33m\u001B[0m\u001B[1;33m\u001B[0m\u001B[0m\n\u001B[0;32m    216\u001B[0m         \u001B[0m_y\u001B[0m \u001B[1;33m=\u001B[0m \u001B[0mself\u001B[0m\u001B[1;33m.\u001B[0m\u001B[0m_y\u001B[0m\u001B[1;33m\u001B[0m\u001B[1;33m\u001B[0m\u001B[0m\n",
      "\u001B[1;32md:\\files\\dl_workspace\\lib\\site-packages\\sklearn\\neighbors\\_base.py\u001B[0m in \u001B[0;36mkneighbors\u001B[1;34m(self, X, n_neighbors, return_distance)\u001B[0m\n\u001B[0;32m    750\u001B[0m                 \u001B[0mkwds\u001B[0m \u001B[1;33m=\u001B[0m \u001B[0mself\u001B[0m\u001B[1;33m.\u001B[0m\u001B[0meffective_metric_params_\u001B[0m\u001B[1;33m\u001B[0m\u001B[1;33m\u001B[0m\u001B[0m\n\u001B[0;32m    751\u001B[0m \u001B[1;33m\u001B[0m\u001B[0m\n\u001B[1;32m--> 752\u001B[1;33m             chunked_results = list(\n\u001B[0m\u001B[0;32m    753\u001B[0m                 pairwise_distances_chunked(\n\u001B[0;32m    754\u001B[0m                     \u001B[0mX\u001B[0m\u001B[1;33m,\u001B[0m\u001B[1;33m\u001B[0m\u001B[1;33m\u001B[0m\u001B[0m\n",
      "\u001B[1;32md:\\files\\dl_workspace\\lib\\site-packages\\sklearn\\metrics\\pairwise.py\u001B[0m in \u001B[0;36mpairwise_distances_chunked\u001B[1;34m(X, Y, reduce_func, metric, n_jobs, working_memory, **kwds)\u001B[0m\n\u001B[0;32m   1715\u001B[0m         \u001B[1;32melse\u001B[0m\u001B[1;33m:\u001B[0m\u001B[1;33m\u001B[0m\u001B[1;33m\u001B[0m\u001B[0m\n\u001B[0;32m   1716\u001B[0m             \u001B[0mX_chunk\u001B[0m \u001B[1;33m=\u001B[0m \u001B[0mX\u001B[0m\u001B[1;33m[\u001B[0m\u001B[0msl\u001B[0m\u001B[1;33m]\u001B[0m\u001B[1;33m\u001B[0m\u001B[1;33m\u001B[0m\u001B[0m\n\u001B[1;32m-> 1717\u001B[1;33m         \u001B[0mD_chunk\u001B[0m \u001B[1;33m=\u001B[0m \u001B[0mpairwise_distances\u001B[0m\u001B[1;33m(\u001B[0m\u001B[0mX_chunk\u001B[0m\u001B[1;33m,\u001B[0m \u001B[0mY\u001B[0m\u001B[1;33m,\u001B[0m \u001B[0mmetric\u001B[0m\u001B[1;33m=\u001B[0m\u001B[0mmetric\u001B[0m\u001B[1;33m,\u001B[0m \u001B[0mn_jobs\u001B[0m\u001B[1;33m=\u001B[0m\u001B[0mn_jobs\u001B[0m\u001B[1;33m,\u001B[0m \u001B[1;33m**\u001B[0m\u001B[0mkwds\u001B[0m\u001B[1;33m)\u001B[0m\u001B[1;33m\u001B[0m\u001B[1;33m\u001B[0m\u001B[0m\n\u001B[0m\u001B[0;32m   1718\u001B[0m         if (X is Y or Y is None) and PAIRWISE_DISTANCE_FUNCTIONS.get(\n\u001B[0;32m   1719\u001B[0m             \u001B[0mmetric\u001B[0m\u001B[1;33m,\u001B[0m \u001B[1;32mNone\u001B[0m\u001B[1;33m\u001B[0m\u001B[1;33m\u001B[0m\u001B[0m\n",
      "\u001B[1;32md:\\files\\dl_workspace\\lib\\site-packages\\sklearn\\metrics\\pairwise.py\u001B[0m in \u001B[0;36mpairwise_distances\u001B[1;34m(X, Y, metric, n_jobs, force_all_finite, **kwds)\u001B[0m\n\u001B[0;32m   1887\u001B[0m         \u001B[0mfunc\u001B[0m \u001B[1;33m=\u001B[0m \u001B[0mpartial\u001B[0m\u001B[1;33m(\u001B[0m\u001B[0mdistance\u001B[0m\u001B[1;33m.\u001B[0m\u001B[0mcdist\u001B[0m\u001B[1;33m,\u001B[0m \u001B[0mmetric\u001B[0m\u001B[1;33m=\u001B[0m\u001B[0mmetric\u001B[0m\u001B[1;33m,\u001B[0m \u001B[1;33m**\u001B[0m\u001B[0mkwds\u001B[0m\u001B[1;33m)\u001B[0m\u001B[1;33m\u001B[0m\u001B[1;33m\u001B[0m\u001B[0m\n\u001B[0;32m   1888\u001B[0m \u001B[1;33m\u001B[0m\u001B[0m\n\u001B[1;32m-> 1889\u001B[1;33m     \u001B[1;32mreturn\u001B[0m \u001B[0m_parallel_pairwise\u001B[0m\u001B[1;33m(\u001B[0m\u001B[0mX\u001B[0m\u001B[1;33m,\u001B[0m \u001B[0mY\u001B[0m\u001B[1;33m,\u001B[0m \u001B[0mfunc\u001B[0m\u001B[1;33m,\u001B[0m \u001B[0mn_jobs\u001B[0m\u001B[1;33m,\u001B[0m \u001B[1;33m**\u001B[0m\u001B[0mkwds\u001B[0m\u001B[1;33m)\u001B[0m\u001B[1;33m\u001B[0m\u001B[1;33m\u001B[0m\u001B[0m\n\u001B[0m\u001B[0;32m   1890\u001B[0m \u001B[1;33m\u001B[0m\u001B[0m\n\u001B[0;32m   1891\u001B[0m \u001B[1;33m\u001B[0m\u001B[0m\n",
      "\u001B[1;32md:\\files\\dl_workspace\\lib\\site-packages\\sklearn\\metrics\\pairwise.py\u001B[0m in \u001B[0;36m_parallel_pairwise\u001B[1;34m(X, Y, func, n_jobs, **kwds)\u001B[0m\n\u001B[0;32m   1433\u001B[0m     \u001B[0mfd\u001B[0m \u001B[1;33m=\u001B[0m \u001B[0mdelayed\u001B[0m\u001B[1;33m(\u001B[0m\u001B[0m_dist_wrapper\u001B[0m\u001B[1;33m)\u001B[0m\u001B[1;33m\u001B[0m\u001B[1;33m\u001B[0m\u001B[0m\n\u001B[0;32m   1434\u001B[0m     \u001B[0mret\u001B[0m \u001B[1;33m=\u001B[0m \u001B[0mnp\u001B[0m\u001B[1;33m.\u001B[0m\u001B[0mempty\u001B[0m\u001B[1;33m(\u001B[0m\u001B[1;33m(\u001B[0m\u001B[0mX\u001B[0m\u001B[1;33m.\u001B[0m\u001B[0mshape\u001B[0m\u001B[1;33m[\u001B[0m\u001B[1;36m0\u001B[0m\u001B[1;33m]\u001B[0m\u001B[1;33m,\u001B[0m \u001B[0mY\u001B[0m\u001B[1;33m.\u001B[0m\u001B[0mshape\u001B[0m\u001B[1;33m[\u001B[0m\u001B[1;36m0\u001B[0m\u001B[1;33m]\u001B[0m\u001B[1;33m)\u001B[0m\u001B[1;33m,\u001B[0m \u001B[0mdtype\u001B[0m\u001B[1;33m=\u001B[0m\u001B[0mdtype\u001B[0m\u001B[1;33m,\u001B[0m \u001B[0morder\u001B[0m\u001B[1;33m=\u001B[0m\u001B[1;34m\"F\"\u001B[0m\u001B[1;33m)\u001B[0m\u001B[1;33m\u001B[0m\u001B[1;33m\u001B[0m\u001B[0m\n\u001B[1;32m-> 1435\u001B[1;33m     Parallel(backend=\"threading\", n_jobs=n_jobs)(\n\u001B[0m\u001B[0;32m   1436\u001B[0m         \u001B[0mfd\u001B[0m\u001B[1;33m(\u001B[0m\u001B[0mfunc\u001B[0m\u001B[1;33m,\u001B[0m \u001B[0mret\u001B[0m\u001B[1;33m,\u001B[0m \u001B[0ms\u001B[0m\u001B[1;33m,\u001B[0m \u001B[0mX\u001B[0m\u001B[1;33m,\u001B[0m \u001B[0mY\u001B[0m\u001B[1;33m[\u001B[0m\u001B[0ms\u001B[0m\u001B[1;33m]\u001B[0m\u001B[1;33m,\u001B[0m \u001B[1;33m**\u001B[0m\u001B[0mkwds\u001B[0m\u001B[1;33m)\u001B[0m\u001B[1;33m\u001B[0m\u001B[1;33m\u001B[0m\u001B[0m\n\u001B[0;32m   1437\u001B[0m         \u001B[1;32mfor\u001B[0m \u001B[0ms\u001B[0m \u001B[1;32min\u001B[0m \u001B[0mgen_even_slices\u001B[0m\u001B[1;33m(\u001B[0m\u001B[0m_num_samples\u001B[0m\u001B[1;33m(\u001B[0m\u001B[0mY\u001B[0m\u001B[1;33m)\u001B[0m\u001B[1;33m,\u001B[0m \u001B[0meffective_n_jobs\u001B[0m\u001B[1;33m(\u001B[0m\u001B[0mn_jobs\u001B[0m\u001B[1;33m)\u001B[0m\u001B[1;33m)\u001B[0m\u001B[1;33m\u001B[0m\u001B[1;33m\u001B[0m\u001B[0m\n",
      "\u001B[1;32md:\\files\\dl_workspace\\lib\\site-packages\\joblib\\parallel.py\u001B[0m in \u001B[0;36m__call__\u001B[1;34m(self, iterable)\u001B[0m\n\u001B[0;32m   1054\u001B[0m \u001B[1;33m\u001B[0m\u001B[0m\n\u001B[0;32m   1055\u001B[0m             \u001B[1;32mwith\u001B[0m \u001B[0mself\u001B[0m\u001B[1;33m.\u001B[0m\u001B[0m_backend\u001B[0m\u001B[1;33m.\u001B[0m\u001B[0mretrieval_context\u001B[0m\u001B[1;33m(\u001B[0m\u001B[1;33m)\u001B[0m\u001B[1;33m:\u001B[0m\u001B[1;33m\u001B[0m\u001B[1;33m\u001B[0m\u001B[0m\n\u001B[1;32m-> 1056\u001B[1;33m                 \u001B[0mself\u001B[0m\u001B[1;33m.\u001B[0m\u001B[0mretrieve\u001B[0m\u001B[1;33m(\u001B[0m\u001B[1;33m)\u001B[0m\u001B[1;33m\u001B[0m\u001B[1;33m\u001B[0m\u001B[0m\n\u001B[0m\u001B[0;32m   1057\u001B[0m             \u001B[1;31m# Make sure that we get a last message telling us we are done\u001B[0m\u001B[1;33m\u001B[0m\u001B[1;33m\u001B[0m\u001B[1;33m\u001B[0m\u001B[0m\n\u001B[0;32m   1058\u001B[0m             \u001B[0melapsed_time\u001B[0m \u001B[1;33m=\u001B[0m \u001B[0mtime\u001B[0m\u001B[1;33m.\u001B[0m\u001B[0mtime\u001B[0m\u001B[1;33m(\u001B[0m\u001B[1;33m)\u001B[0m \u001B[1;33m-\u001B[0m \u001B[0mself\u001B[0m\u001B[1;33m.\u001B[0m\u001B[0m_start_time\u001B[0m\u001B[1;33m\u001B[0m\u001B[1;33m\u001B[0m\u001B[0m\n",
      "\u001B[1;32md:\\files\\dl_workspace\\lib\\site-packages\\joblib\\parallel.py\u001B[0m in \u001B[0;36mretrieve\u001B[1;34m(self)\u001B[0m\n\u001B[0;32m    933\u001B[0m             \u001B[1;32mtry\u001B[0m\u001B[1;33m:\u001B[0m\u001B[1;33m\u001B[0m\u001B[1;33m\u001B[0m\u001B[0m\n\u001B[0;32m    934\u001B[0m                 \u001B[1;32mif\u001B[0m \u001B[0mgetattr\u001B[0m\u001B[1;33m(\u001B[0m\u001B[0mself\u001B[0m\u001B[1;33m.\u001B[0m\u001B[0m_backend\u001B[0m\u001B[1;33m,\u001B[0m \u001B[1;34m'supports_timeout'\u001B[0m\u001B[1;33m,\u001B[0m \u001B[1;32mFalse\u001B[0m\u001B[1;33m)\u001B[0m\u001B[1;33m:\u001B[0m\u001B[1;33m\u001B[0m\u001B[1;33m\u001B[0m\u001B[0m\n\u001B[1;32m--> 935\u001B[1;33m                     \u001B[0mself\u001B[0m\u001B[1;33m.\u001B[0m\u001B[0m_output\u001B[0m\u001B[1;33m.\u001B[0m\u001B[0mextend\u001B[0m\u001B[1;33m(\u001B[0m\u001B[0mjob\u001B[0m\u001B[1;33m.\u001B[0m\u001B[0mget\u001B[0m\u001B[1;33m(\u001B[0m\u001B[0mtimeout\u001B[0m\u001B[1;33m=\u001B[0m\u001B[0mself\u001B[0m\u001B[1;33m.\u001B[0m\u001B[0mtimeout\u001B[0m\u001B[1;33m)\u001B[0m\u001B[1;33m)\u001B[0m\u001B[1;33m\u001B[0m\u001B[1;33m\u001B[0m\u001B[0m\n\u001B[0m\u001B[0;32m    936\u001B[0m                 \u001B[1;32melse\u001B[0m\u001B[1;33m:\u001B[0m\u001B[1;33m\u001B[0m\u001B[1;33m\u001B[0m\u001B[0m\n\u001B[0;32m    937\u001B[0m                     \u001B[0mself\u001B[0m\u001B[1;33m.\u001B[0m\u001B[0m_output\u001B[0m\u001B[1;33m.\u001B[0m\u001B[0mextend\u001B[0m\u001B[1;33m(\u001B[0m\u001B[0mjob\u001B[0m\u001B[1;33m.\u001B[0m\u001B[0mget\u001B[0m\u001B[1;33m(\u001B[0m\u001B[1;33m)\u001B[0m\u001B[1;33m)\u001B[0m\u001B[1;33m\u001B[0m\u001B[1;33m\u001B[0m\u001B[0m\n",
      "\u001B[1;32m~\\AppData\\Local\\Programs\\Python\\Python38\\lib\\multiprocessing\\pool.py\u001B[0m in \u001B[0;36mget\u001B[1;34m(self, timeout)\u001B[0m\n\u001B[0;32m    769\u001B[0m             \u001B[1;32mreturn\u001B[0m \u001B[0mself\u001B[0m\u001B[1;33m.\u001B[0m\u001B[0m_value\u001B[0m\u001B[1;33m\u001B[0m\u001B[1;33m\u001B[0m\u001B[0m\n\u001B[0;32m    770\u001B[0m         \u001B[1;32melse\u001B[0m\u001B[1;33m:\u001B[0m\u001B[1;33m\u001B[0m\u001B[1;33m\u001B[0m\u001B[0m\n\u001B[1;32m--> 771\u001B[1;33m             \u001B[1;32mraise\u001B[0m \u001B[0mself\u001B[0m\u001B[1;33m.\u001B[0m\u001B[0m_value\u001B[0m\u001B[1;33m\u001B[0m\u001B[1;33m\u001B[0m\u001B[0m\n\u001B[0m\u001B[0;32m    772\u001B[0m \u001B[1;33m\u001B[0m\u001B[0m\n\u001B[0;32m    773\u001B[0m     \u001B[1;32mdef\u001B[0m \u001B[0m_set\u001B[0m\u001B[1;33m(\u001B[0m\u001B[0mself\u001B[0m\u001B[1;33m,\u001B[0m \u001B[0mi\u001B[0m\u001B[1;33m,\u001B[0m \u001B[0mobj\u001B[0m\u001B[1;33m)\u001B[0m\u001B[1;33m:\u001B[0m\u001B[1;33m\u001B[0m\u001B[1;33m\u001B[0m\u001B[0m\n",
      "\u001B[1;32m~\\AppData\\Local\\Programs\\Python\\Python38\\lib\\multiprocessing\\pool.py\u001B[0m in \u001B[0;36mworker\u001B[1;34m(inqueue, outqueue, initializer, initargs, maxtasks, wrap_exception)\u001B[0m\n\u001B[0;32m    123\u001B[0m         \u001B[0mjob\u001B[0m\u001B[1;33m,\u001B[0m \u001B[0mi\u001B[0m\u001B[1;33m,\u001B[0m \u001B[0mfunc\u001B[0m\u001B[1;33m,\u001B[0m \u001B[0margs\u001B[0m\u001B[1;33m,\u001B[0m \u001B[0mkwds\u001B[0m \u001B[1;33m=\u001B[0m \u001B[0mtask\u001B[0m\u001B[1;33m\u001B[0m\u001B[1;33m\u001B[0m\u001B[0m\n\u001B[0;32m    124\u001B[0m         \u001B[1;32mtry\u001B[0m\u001B[1;33m:\u001B[0m\u001B[1;33m\u001B[0m\u001B[1;33m\u001B[0m\u001B[0m\n\u001B[1;32m--> 125\u001B[1;33m             \u001B[0mresult\u001B[0m \u001B[1;33m=\u001B[0m \u001B[1;33m(\u001B[0m\u001B[1;32mTrue\u001B[0m\u001B[1;33m,\u001B[0m \u001B[0mfunc\u001B[0m\u001B[1;33m(\u001B[0m\u001B[1;33m*\u001B[0m\u001B[0margs\u001B[0m\u001B[1;33m,\u001B[0m \u001B[1;33m**\u001B[0m\u001B[0mkwds\u001B[0m\u001B[1;33m)\u001B[0m\u001B[1;33m)\u001B[0m\u001B[1;33m\u001B[0m\u001B[1;33m\u001B[0m\u001B[0m\n\u001B[0m\u001B[0;32m    126\u001B[0m         \u001B[1;32mexcept\u001B[0m \u001B[0mException\u001B[0m \u001B[1;32mas\u001B[0m \u001B[0me\u001B[0m\u001B[1;33m:\u001B[0m\u001B[1;33m\u001B[0m\u001B[1;33m\u001B[0m\u001B[0m\n\u001B[0;32m    127\u001B[0m             \u001B[1;32mif\u001B[0m \u001B[0mwrap_exception\u001B[0m \u001B[1;32mand\u001B[0m \u001B[0mfunc\u001B[0m \u001B[1;32mis\u001B[0m \u001B[1;32mnot\u001B[0m \u001B[0m_helper_reraises_exception\u001B[0m\u001B[1;33m:\u001B[0m\u001B[1;33m\u001B[0m\u001B[1;33m\u001B[0m\u001B[0m\n",
      "\u001B[1;32md:\\files\\dl_workspace\\lib\\site-packages\\joblib\\_parallel_backends.py\u001B[0m in \u001B[0;36m__call__\u001B[1;34m(self, *args, **kwargs)\u001B[0m\n\u001B[0;32m    593\u001B[0m     \u001B[1;32mdef\u001B[0m \u001B[0m__call__\u001B[0m\u001B[1;33m(\u001B[0m\u001B[0mself\u001B[0m\u001B[1;33m,\u001B[0m \u001B[1;33m*\u001B[0m\u001B[0margs\u001B[0m\u001B[1;33m,\u001B[0m \u001B[1;33m**\u001B[0m\u001B[0mkwargs\u001B[0m\u001B[1;33m)\u001B[0m\u001B[1;33m:\u001B[0m\u001B[1;33m\u001B[0m\u001B[1;33m\u001B[0m\u001B[0m\n\u001B[0;32m    594\u001B[0m         \u001B[1;32mtry\u001B[0m\u001B[1;33m:\u001B[0m\u001B[1;33m\u001B[0m\u001B[1;33m\u001B[0m\u001B[0m\n\u001B[1;32m--> 595\u001B[1;33m             \u001B[1;32mreturn\u001B[0m \u001B[0mself\u001B[0m\u001B[1;33m.\u001B[0m\u001B[0mfunc\u001B[0m\u001B[1;33m(\u001B[0m\u001B[1;33m*\u001B[0m\u001B[0margs\u001B[0m\u001B[1;33m,\u001B[0m \u001B[1;33m**\u001B[0m\u001B[0mkwargs\u001B[0m\u001B[1;33m)\u001B[0m\u001B[1;33m\u001B[0m\u001B[1;33m\u001B[0m\u001B[0m\n\u001B[0m\u001B[0;32m    596\u001B[0m         \u001B[1;32mexcept\u001B[0m \u001B[0mKeyboardInterrupt\u001B[0m \u001B[1;32mas\u001B[0m \u001B[0me\u001B[0m\u001B[1;33m:\u001B[0m\u001B[1;33m\u001B[0m\u001B[1;33m\u001B[0m\u001B[0m\n\u001B[0;32m    597\u001B[0m             \u001B[1;31m# We capture the KeyboardInterrupt and reraise it as\u001B[0m\u001B[1;33m\u001B[0m\u001B[1;33m\u001B[0m\u001B[1;33m\u001B[0m\u001B[0m\n",
      "\u001B[1;32md:\\files\\dl_workspace\\lib\\site-packages\\joblib\\parallel.py\u001B[0m in \u001B[0;36m__call__\u001B[1;34m(self)\u001B[0m\n\u001B[0;32m    260\u001B[0m         \u001B[1;31m# change the default number of processes to -1\u001B[0m\u001B[1;33m\u001B[0m\u001B[1;33m\u001B[0m\u001B[1;33m\u001B[0m\u001B[0m\n\u001B[0;32m    261\u001B[0m         \u001B[1;32mwith\u001B[0m \u001B[0mparallel_backend\u001B[0m\u001B[1;33m(\u001B[0m\u001B[0mself\u001B[0m\u001B[1;33m.\u001B[0m\u001B[0m_backend\u001B[0m\u001B[1;33m,\u001B[0m \u001B[0mn_jobs\u001B[0m\u001B[1;33m=\u001B[0m\u001B[0mself\u001B[0m\u001B[1;33m.\u001B[0m\u001B[0m_n_jobs\u001B[0m\u001B[1;33m)\u001B[0m\u001B[1;33m:\u001B[0m\u001B[1;33m\u001B[0m\u001B[1;33m\u001B[0m\u001B[0m\n\u001B[1;32m--> 262\u001B[1;33m             return [func(*args, **kwargs)\n\u001B[0m\u001B[0;32m    263\u001B[0m                     for func, args, kwargs in self.items]\n\u001B[0;32m    264\u001B[0m \u001B[1;33m\u001B[0m\u001B[0m\n",
      "\u001B[1;32md:\\files\\dl_workspace\\lib\\site-packages\\joblib\\parallel.py\u001B[0m in \u001B[0;36m<listcomp>\u001B[1;34m(.0)\u001B[0m\n\u001B[0;32m    260\u001B[0m         \u001B[1;31m# change the default number of processes to -1\u001B[0m\u001B[1;33m\u001B[0m\u001B[1;33m\u001B[0m\u001B[1;33m\u001B[0m\u001B[0m\n\u001B[0;32m    261\u001B[0m         \u001B[1;32mwith\u001B[0m \u001B[0mparallel_backend\u001B[0m\u001B[1;33m(\u001B[0m\u001B[0mself\u001B[0m\u001B[1;33m.\u001B[0m\u001B[0m_backend\u001B[0m\u001B[1;33m,\u001B[0m \u001B[0mn_jobs\u001B[0m\u001B[1;33m=\u001B[0m\u001B[0mself\u001B[0m\u001B[1;33m.\u001B[0m\u001B[0m_n_jobs\u001B[0m\u001B[1;33m)\u001B[0m\u001B[1;33m:\u001B[0m\u001B[1;33m\u001B[0m\u001B[1;33m\u001B[0m\u001B[0m\n\u001B[1;32m--> 262\u001B[1;33m             return [func(*args, **kwargs)\n\u001B[0m\u001B[0;32m    263\u001B[0m                     for func, args, kwargs in self.items]\n\u001B[0;32m    264\u001B[0m \u001B[1;33m\u001B[0m\u001B[0m\n",
      "\u001B[1;32md:\\files\\dl_workspace\\lib\\site-packages\\sklearn\\utils\\fixes.py\u001B[0m in \u001B[0;36m__call__\u001B[1;34m(self, *args, **kwargs)\u001B[0m\n\u001B[0;32m    214\u001B[0m     \u001B[1;32mdef\u001B[0m \u001B[0m__call__\u001B[0m\u001B[1;33m(\u001B[0m\u001B[0mself\u001B[0m\u001B[1;33m,\u001B[0m \u001B[1;33m*\u001B[0m\u001B[0margs\u001B[0m\u001B[1;33m,\u001B[0m \u001B[1;33m**\u001B[0m\u001B[0mkwargs\u001B[0m\u001B[1;33m)\u001B[0m\u001B[1;33m:\u001B[0m\u001B[1;33m\u001B[0m\u001B[1;33m\u001B[0m\u001B[0m\n\u001B[0;32m    215\u001B[0m         \u001B[1;32mwith\u001B[0m \u001B[0mconfig_context\u001B[0m\u001B[1;33m(\u001B[0m\u001B[1;33m**\u001B[0m\u001B[0mself\u001B[0m\u001B[1;33m.\u001B[0m\u001B[0mconfig\u001B[0m\u001B[1;33m)\u001B[0m\u001B[1;33m:\u001B[0m\u001B[1;33m\u001B[0m\u001B[1;33m\u001B[0m\u001B[0m\n\u001B[1;32m--> 216\u001B[1;33m             \u001B[1;32mreturn\u001B[0m \u001B[0mself\u001B[0m\u001B[1;33m.\u001B[0m\u001B[0mfunction\u001B[0m\u001B[1;33m(\u001B[0m\u001B[1;33m*\u001B[0m\u001B[0margs\u001B[0m\u001B[1;33m,\u001B[0m \u001B[1;33m**\u001B[0m\u001B[0mkwargs\u001B[0m\u001B[1;33m)\u001B[0m\u001B[1;33m\u001B[0m\u001B[1;33m\u001B[0m\u001B[0m\n\u001B[0m\u001B[0;32m    217\u001B[0m \u001B[1;33m\u001B[0m\u001B[0m\n\u001B[0;32m    218\u001B[0m \u001B[1;33m\u001B[0m\u001B[0m\n",
      "\u001B[1;32md:\\files\\dl_workspace\\lib\\site-packages\\sklearn\\metrics\\pairwise.py\u001B[0m in \u001B[0;36m_dist_wrapper\u001B[1;34m(dist_func, dist_matrix, slice_, *args, **kwargs)\u001B[0m\n\u001B[0;32m   1416\u001B[0m \u001B[1;32mdef\u001B[0m \u001B[0m_dist_wrapper\u001B[0m\u001B[1;33m(\u001B[0m\u001B[0mdist_func\u001B[0m\u001B[1;33m,\u001B[0m \u001B[0mdist_matrix\u001B[0m\u001B[1;33m,\u001B[0m \u001B[0mslice_\u001B[0m\u001B[1;33m,\u001B[0m \u001B[1;33m*\u001B[0m\u001B[0margs\u001B[0m\u001B[1;33m,\u001B[0m \u001B[1;33m**\u001B[0m\u001B[0mkwargs\u001B[0m\u001B[1;33m)\u001B[0m\u001B[1;33m:\u001B[0m\u001B[1;33m\u001B[0m\u001B[1;33m\u001B[0m\u001B[0m\n\u001B[0;32m   1417\u001B[0m     \u001B[1;34m\"\"\"Write in-place to a slice of a distance matrix.\"\"\"\u001B[0m\u001B[1;33m\u001B[0m\u001B[1;33m\u001B[0m\u001B[0m\n\u001B[1;32m-> 1418\u001B[1;33m     \u001B[0mdist_matrix\u001B[0m\u001B[1;33m[\u001B[0m\u001B[1;33m:\u001B[0m\u001B[1;33m,\u001B[0m \u001B[0mslice_\u001B[0m\u001B[1;33m]\u001B[0m \u001B[1;33m=\u001B[0m \u001B[0mdist_func\u001B[0m\u001B[1;33m(\u001B[0m\u001B[1;33m*\u001B[0m\u001B[0margs\u001B[0m\u001B[1;33m,\u001B[0m \u001B[1;33m**\u001B[0m\u001B[0mkwargs\u001B[0m\u001B[1;33m)\u001B[0m\u001B[1;33m\u001B[0m\u001B[1;33m\u001B[0m\u001B[0m\n\u001B[0m\u001B[0;32m   1419\u001B[0m \u001B[1;33m\u001B[0m\u001B[0m\n\u001B[0;32m   1420\u001B[0m \u001B[1;33m\u001B[0m\u001B[0m\n",
      "\u001B[1;32md:\\files\\dl_workspace\\lib\\site-packages\\sklearn\\metrics\\pairwise.py\u001B[0m in \u001B[0;36meuclidean_distances\u001B[1;34m(X, Y, Y_norm_squared, squared, X_norm_squared)\u001B[0m\n\u001B[0;32m    300\u001B[0m            [1.41421356]])\n\u001B[0;32m    301\u001B[0m     \"\"\"\n\u001B[1;32m--> 302\u001B[1;33m     \u001B[0mX\u001B[0m\u001B[1;33m,\u001B[0m \u001B[0mY\u001B[0m \u001B[1;33m=\u001B[0m \u001B[0mcheck_pairwise_arrays\u001B[0m\u001B[1;33m(\u001B[0m\u001B[0mX\u001B[0m\u001B[1;33m,\u001B[0m \u001B[0mY\u001B[0m\u001B[1;33m)\u001B[0m\u001B[1;33m\u001B[0m\u001B[1;33m\u001B[0m\u001B[0m\n\u001B[0m\u001B[0;32m    303\u001B[0m \u001B[1;33m\u001B[0m\u001B[0m\n\u001B[0;32m    304\u001B[0m     \u001B[1;32mif\u001B[0m \u001B[0mX_norm_squared\u001B[0m \u001B[1;32mis\u001B[0m \u001B[1;32mnot\u001B[0m \u001B[1;32mNone\u001B[0m\u001B[1;33m:\u001B[0m\u001B[1;33m\u001B[0m\u001B[1;33m\u001B[0m\u001B[0m\n",
      "\u001B[1;32md:\\files\\dl_workspace\\lib\\site-packages\\sklearn\\metrics\\pairwise.py\u001B[0m in \u001B[0;36mcheck_pairwise_arrays\u001B[1;34m(X, Y, precomputed, dtype, accept_sparse, force_all_finite, copy)\u001B[0m\n\u001B[0;32m    154\u001B[0m         )\n\u001B[0;32m    155\u001B[0m     \u001B[1;32melse\u001B[0m\u001B[1;33m:\u001B[0m\u001B[1;33m\u001B[0m\u001B[1;33m\u001B[0m\u001B[0m\n\u001B[1;32m--> 156\u001B[1;33m         X = check_array(\n\u001B[0m\u001B[0;32m    157\u001B[0m             \u001B[0mX\u001B[0m\u001B[1;33m,\u001B[0m\u001B[1;33m\u001B[0m\u001B[1;33m\u001B[0m\u001B[0m\n\u001B[0;32m    158\u001B[0m             \u001B[0maccept_sparse\u001B[0m\u001B[1;33m=\u001B[0m\u001B[0maccept_sparse\u001B[0m\u001B[1;33m,\u001B[0m\u001B[1;33m\u001B[0m\u001B[1;33m\u001B[0m\u001B[0m\n",
      "\u001B[1;32md:\\files\\dl_workspace\\lib\\site-packages\\sklearn\\utils\\validation.py\u001B[0m in \u001B[0;36mcheck_array\u001B[1;34m(array, accept_sparse, accept_large_sparse, dtype, order, copy, force_all_finite, ensure_2d, allow_nd, ensure_min_samples, ensure_min_features, estimator)\u001B[0m\n\u001B[0;32m    718\u001B[0m     \u001B[1;32mif\u001B[0m \u001B[0msp\u001B[0m\u001B[1;33m.\u001B[0m\u001B[0missparse\u001B[0m\u001B[1;33m(\u001B[0m\u001B[0marray\u001B[0m\u001B[1;33m)\u001B[0m\u001B[1;33m:\u001B[0m\u001B[1;33m\u001B[0m\u001B[1;33m\u001B[0m\u001B[0m\n\u001B[0;32m    719\u001B[0m         \u001B[0m_ensure_no_complex_data\u001B[0m\u001B[1;33m(\u001B[0m\u001B[0marray\u001B[0m\u001B[1;33m)\u001B[0m\u001B[1;33m\u001B[0m\u001B[1;33m\u001B[0m\u001B[0m\n\u001B[1;32m--> 720\u001B[1;33m         array = _ensure_sparse_format(\n\u001B[0m\u001B[0;32m    721\u001B[0m             \u001B[0marray\u001B[0m\u001B[1;33m,\u001B[0m\u001B[1;33m\u001B[0m\u001B[1;33m\u001B[0m\u001B[0m\n\u001B[0;32m    722\u001B[0m             \u001B[0maccept_sparse\u001B[0m\u001B[1;33m=\u001B[0m\u001B[0maccept_sparse\u001B[0m\u001B[1;33m,\u001B[0m\u001B[1;33m\u001B[0m\u001B[1;33m\u001B[0m\u001B[0m\n",
      "\u001B[1;32md:\\files\\dl_workspace\\lib\\site-packages\\sklearn\\utils\\validation.py\u001B[0m in \u001B[0;36m_ensure_sparse_format\u001B[1;34m(spmatrix, accept_sparse, dtype, copy, force_all_finite, accept_large_sparse)\u001B[0m\n\u001B[0;32m    465\u001B[0m     \u001B[1;32mif\u001B[0m \u001B[0mdtype\u001B[0m \u001B[1;33m!=\u001B[0m \u001B[0mspmatrix\u001B[0m\u001B[1;33m.\u001B[0m\u001B[0mdtype\u001B[0m\u001B[1;33m:\u001B[0m\u001B[1;33m\u001B[0m\u001B[1;33m\u001B[0m\u001B[0m\n\u001B[0;32m    466\u001B[0m         \u001B[1;31m# convert dtype\u001B[0m\u001B[1;33m\u001B[0m\u001B[1;33m\u001B[0m\u001B[1;33m\u001B[0m\u001B[0m\n\u001B[1;32m--> 467\u001B[1;33m         \u001B[0mspmatrix\u001B[0m \u001B[1;33m=\u001B[0m \u001B[0mspmatrix\u001B[0m\u001B[1;33m.\u001B[0m\u001B[0mastype\u001B[0m\u001B[1;33m(\u001B[0m\u001B[0mdtype\u001B[0m\u001B[1;33m)\u001B[0m\u001B[1;33m\u001B[0m\u001B[1;33m\u001B[0m\u001B[0m\n\u001B[0m\u001B[0;32m    468\u001B[0m     \u001B[1;32melif\u001B[0m \u001B[0mcopy\u001B[0m \u001B[1;32mand\u001B[0m \u001B[1;32mnot\u001B[0m \u001B[0mchanged_format\u001B[0m\u001B[1;33m:\u001B[0m\u001B[1;33m\u001B[0m\u001B[1;33m\u001B[0m\u001B[0m\n\u001B[0;32m    469\u001B[0m         \u001B[1;31m# force copy\u001B[0m\u001B[1;33m\u001B[0m\u001B[1;33m\u001B[0m\u001B[1;33m\u001B[0m\u001B[0m\n",
      "\u001B[1;32md:\\files\\dl_workspace\\lib\\site-packages\\scipy\\sparse\\data.py\u001B[0m in \u001B[0;36mastype\u001B[1;34m(self, dtype, casting, copy)\u001B[0m\n\u001B[0;32m     69\u001B[0m         \u001B[0mdtype\u001B[0m \u001B[1;33m=\u001B[0m \u001B[0mnp\u001B[0m\u001B[1;33m.\u001B[0m\u001B[0mdtype\u001B[0m\u001B[1;33m(\u001B[0m\u001B[0mdtype\u001B[0m\u001B[1;33m)\u001B[0m\u001B[1;33m\u001B[0m\u001B[1;33m\u001B[0m\u001B[0m\n\u001B[0;32m     70\u001B[0m         \u001B[1;32mif\u001B[0m \u001B[0mself\u001B[0m\u001B[1;33m.\u001B[0m\u001B[0mdtype\u001B[0m \u001B[1;33m!=\u001B[0m \u001B[0mdtype\u001B[0m\u001B[1;33m:\u001B[0m\u001B[1;33m\u001B[0m\u001B[1;33m\u001B[0m\u001B[0m\n\u001B[1;32m---> 71\u001B[1;33m             return self._with_data(\n\u001B[0m\u001B[0;32m     72\u001B[0m                 \u001B[0mself\u001B[0m\u001B[1;33m.\u001B[0m\u001B[0m_deduped_data\u001B[0m\u001B[1;33m(\u001B[0m\u001B[1;33m)\u001B[0m\u001B[1;33m.\u001B[0m\u001B[0mastype\u001B[0m\u001B[1;33m(\u001B[0m\u001B[0mdtype\u001B[0m\u001B[1;33m,\u001B[0m \u001B[0mcasting\u001B[0m\u001B[1;33m=\u001B[0m\u001B[0mcasting\u001B[0m\u001B[1;33m,\u001B[0m \u001B[0mcopy\u001B[0m\u001B[1;33m=\u001B[0m\u001B[0mcopy\u001B[0m\u001B[1;33m)\u001B[0m\u001B[1;33m,\u001B[0m\u001B[1;33m\u001B[0m\u001B[1;33m\u001B[0m\u001B[0m\n\u001B[0;32m     73\u001B[0m                 copy=copy)\n",
      "\u001B[1;32md:\\files\\dl_workspace\\lib\\site-packages\\scipy\\sparse\\compressed.py\u001B[0m in \u001B[0;36m_with_data\u001B[1;34m(self, data, copy)\u001B[0m\n\u001B[0;32m   1216\u001B[0m         \"\"\"\n\u001B[0;32m   1217\u001B[0m         \u001B[1;32mif\u001B[0m \u001B[0mcopy\u001B[0m\u001B[1;33m:\u001B[0m\u001B[1;33m\u001B[0m\u001B[1;33m\u001B[0m\u001B[0m\n\u001B[1;32m-> 1218\u001B[1;33m             return self.__class__((data, self.indices.copy(),\n\u001B[0m\u001B[0;32m   1219\u001B[0m                                    self.indptr.copy()),\n\u001B[0;32m   1220\u001B[0m                                   \u001B[0mshape\u001B[0m\u001B[1;33m=\u001B[0m\u001B[0mself\u001B[0m\u001B[1;33m.\u001B[0m\u001B[0mshape\u001B[0m\u001B[1;33m,\u001B[0m\u001B[1;33m\u001B[0m\u001B[1;33m\u001B[0m\u001B[0m\n",
      "\u001B[1;32md:\\files\\dl_workspace\\lib\\site-packages\\scipy\\sparse\\compressed.py\u001B[0m in \u001B[0;36m__init__\u001B[1;34m(self, arg1, shape, dtype, copy)\u001B[0m\n\u001B[0;32m    104\u001B[0m             \u001B[0mself\u001B[0m\u001B[1;33m.\u001B[0m\u001B[0mdata\u001B[0m \u001B[1;33m=\u001B[0m \u001B[0mself\u001B[0m\u001B[1;33m.\u001B[0m\u001B[0mdata\u001B[0m\u001B[1;33m.\u001B[0m\u001B[0mastype\u001B[0m\u001B[1;33m(\u001B[0m\u001B[0mdtype\u001B[0m\u001B[1;33m,\u001B[0m \u001B[0mcopy\u001B[0m\u001B[1;33m=\u001B[0m\u001B[1;32mFalse\u001B[0m\u001B[1;33m)\u001B[0m\u001B[1;33m\u001B[0m\u001B[1;33m\u001B[0m\u001B[0m\n\u001B[0;32m    105\u001B[0m \u001B[1;33m\u001B[0m\u001B[0m\n\u001B[1;32m--> 106\u001B[1;33m         \u001B[0mself\u001B[0m\u001B[1;33m.\u001B[0m\u001B[0mcheck_format\u001B[0m\u001B[1;33m(\u001B[0m\u001B[0mfull_check\u001B[0m\u001B[1;33m=\u001B[0m\u001B[1;32mFalse\u001B[0m\u001B[1;33m)\u001B[0m\u001B[1;33m\u001B[0m\u001B[1;33m\u001B[0m\u001B[0m\n\u001B[0m\u001B[0;32m    107\u001B[0m \u001B[1;33m\u001B[0m\u001B[0m\n\u001B[0;32m    108\u001B[0m     \u001B[1;32mdef\u001B[0m \u001B[0mgetnnz\u001B[0m\u001B[1;33m(\u001B[0m\u001B[0mself\u001B[0m\u001B[1;33m,\u001B[0m \u001B[0maxis\u001B[0m\u001B[1;33m=\u001B[0m\u001B[1;32mNone\u001B[0m\u001B[1;33m)\u001B[0m\u001B[1;33m:\u001B[0m\u001B[1;33m\u001B[0m\u001B[1;33m\u001B[0m\u001B[0m\n",
      "\u001B[1;32md:\\files\\dl_workspace\\lib\\site-packages\\scipy\\sparse\\compressed.py\u001B[0m in \u001B[0;36mcheck_format\u001B[1;34m(self, full_check)\u001B[0m\n\u001B[0;32m    174\u001B[0m         \u001B[1;31m# check index and data arrays\u001B[0m\u001B[1;33m\u001B[0m\u001B[1;33m\u001B[0m\u001B[1;33m\u001B[0m\u001B[0m\n\u001B[0;32m    175\u001B[0m         \u001B[1;32mif\u001B[0m \u001B[1;33m(\u001B[0m\u001B[0mlen\u001B[0m\u001B[1;33m(\u001B[0m\u001B[0mself\u001B[0m\u001B[1;33m.\u001B[0m\u001B[0mindices\u001B[0m\u001B[1;33m)\u001B[0m \u001B[1;33m!=\u001B[0m \u001B[0mlen\u001B[0m\u001B[1;33m(\u001B[0m\u001B[0mself\u001B[0m\u001B[1;33m.\u001B[0m\u001B[0mdata\u001B[0m\u001B[1;33m)\u001B[0m\u001B[1;33m)\u001B[0m\u001B[1;33m:\u001B[0m\u001B[1;33m\u001B[0m\u001B[1;33m\u001B[0m\u001B[0m\n\u001B[1;32m--> 176\u001B[1;33m             \u001B[1;32mraise\u001B[0m \u001B[0mValueError\u001B[0m\u001B[1;33m(\u001B[0m\u001B[1;34m\"indices and data should have the same size\"\u001B[0m\u001B[1;33m)\u001B[0m\u001B[1;33m\u001B[0m\u001B[1;33m\u001B[0m\u001B[0m\n\u001B[0m\u001B[0;32m    177\u001B[0m         \u001B[1;32mif\u001B[0m \u001B[1;33m(\u001B[0m\u001B[0mself\u001B[0m\u001B[1;33m.\u001B[0m\u001B[0mindptr\u001B[0m\u001B[1;33m[\u001B[0m\u001B[1;33m-\u001B[0m\u001B[1;36m1\u001B[0m\u001B[1;33m]\u001B[0m \u001B[1;33m>\u001B[0m \u001B[0mlen\u001B[0m\u001B[1;33m(\u001B[0m\u001B[0mself\u001B[0m\u001B[1;33m.\u001B[0m\u001B[0mindices\u001B[0m\u001B[1;33m)\u001B[0m\u001B[1;33m)\u001B[0m\u001B[1;33m:\u001B[0m\u001B[1;33m\u001B[0m\u001B[1;33m\u001B[0m\u001B[0m\n\u001B[0;32m    178\u001B[0m             raise ValueError(\"Last value of index pointer should be less than \"\n",
      "\u001B[1;31mValueError\u001B[0m: indices and data should have the same size"
     ]
    }
   ],
   "source": [
    "knn_pred_split = knn.fit(X_train, y_train).predict(X_valid)\n",
    "knn_score_split = accuracy_score(y_valid, knn_pred_split)"
   ],
   "metadata": {
    "collapsed": false,
    "pycharm": {
     "name": "#%%\n"
    }
   }
  },
  {
   "cell_type": "code",
   "execution_count": null,
   "outputs": [],
   "source": [
    "knn_score_cv = cross_val_score(knn, X_train, y_train, cv=skf).mean()"
   ],
   "metadata": {
    "collapsed": false,
    "pycharm": {
     "name": "#%%\n"
    }
   }
  },
  {
   "cell_type": "markdown",
   "metadata": {},
   "source": [
    "**<font color='red'>Вопрос 1. </font> Посчитайте доли правильных ответов для KNeighborsClassifier на кросс-валидации и отложенной выборке. Округлите каждое до 3 знаков после запятой и введите через пробел.**"
   ]
  },
  {
   "cell_type": "code",
   "execution_count": null,
   "metadata": {
    "collapsed": true
   },
   "outputs": [],
   "source": [
    "print(f'{knn_score_cv:.3f} {knn_score_split:.3f}')"
   ]
  },
  {
   "cell_type": "markdown",
   "metadata": {},
   "source": [
    "**2. Обучите случайный лес (`RandomForestClassifier`) из 100 деревьев (для воспроизводимости `random_state`=17). Посмотрите на OOB-оценку (для этого надо сразу установить `oob_score`=True) и на долю правильных ответов на выборке `(X_valid, y_valid)`. Для распараллеливания задайте `n_jobs`=-1.**"
   ]
  },
  {
   "cell_type": "code",
   "execution_count": 11,
   "metadata": {
    "collapsed": true
   },
   "outputs": [],
   "source": [
    "from sklearn.ensemble import RandomForestClassifier"
   ]
  },
  {
   "cell_type": "code",
   "execution_count": 12,
   "metadata": {
    "collapsed": true
   },
   "outputs": [],
   "source": [
    "forest = RandomForestClassifier(random_state=17, oob_score=True, n_jobs=-1)"
   ]
  },
  {
   "cell_type": "code",
   "execution_count": 13,
   "outputs": [],
   "source": [
    "forest_pred_split = forest.fit(X_train, y_train).predict(X_valid)\n",
    "forest_score_split = accuracy_score(y_valid, forest_pred_split)"
   ],
   "metadata": {
    "collapsed": false,
    "pycharm": {
     "name": "#%%\n"
    }
   }
  },
  {
   "cell_type": "code",
   "execution_count": 14,
   "outputs": [],
   "source": [
    "forest_score_cv = cross_val_score(forest, X_train, y_train, cv=skf).mean()"
   ],
   "metadata": {
    "collapsed": false,
    "pycharm": {
     "name": "#%%\n"
    }
   }
  },
  {
   "cell_type": "markdown",
   "metadata": {},
   "source": [
    "**<font color='red'>Вопрос 2. </font> Посчитайте доли правильных ответов для `RandomForestClassifier` при Out-of-Bag оценке и на отложенной выборке. Округлите каждое до 3 знаков после запятой и введите через пробел.**"
   ]
  },
  {
   "cell_type": "code",
   "execution_count": 15,
   "metadata": {
    "collapsed": true
   },
   "outputs": [
    {
     "name": "stdout",
     "output_type": "stream",
     "text": [
      "0.760 0.783\n"
     ]
    }
   ],
   "source": [
    "print(f'{forest_score_cv:.3f} {forest_score_split:.3f}')"
   ]
  },
  {
   "cell_type": "markdown",
   "metadata": {},
   "source": [
    "**3. Обучите логистическую регрессию (`LogisticRegression`) с параметром `C` по умолчанию и `random_state`=17 (для воспроизводимости). Посмотрите на долю правильных ответов на кросс-валидации (используйте объект `skf`, созданный ранее) и на выборке `(X_valid, y_valid)`. Для распараллеливания задайте `n_jobs=-1`.**"
   ]
  },
  {
   "cell_type": "code",
   "execution_count": 16,
   "metadata": {
    "collapsed": true
   },
   "outputs": [],
   "source": [
    "from sklearn.linear_model import LogisticRegression, LogisticRegressionCV"
   ]
  },
  {
   "cell_type": "code",
   "execution_count": 17,
   "metadata": {
    "collapsed": true
   },
   "outputs": [],
   "source": [
    "logit = LogisticRegression(random_state=17, n_jobs=-1)"
   ]
  },
  {
   "cell_type": "code",
   "execution_count": 18,
   "outputs": [],
   "source": [
    "logit_score_cv = np.mean(cross_val_score(logit, X_train, y_train, cv=skf))\n",
    "logit_pred_split = logit.fit(X_train, y_train).predict(X_valid)\n",
    "logit_score_split = accuracy_score(y_valid, logit_pred_split)"
   ],
   "metadata": {
    "collapsed": false,
    "pycharm": {
     "name": "#%%\n"
    }
   }
  },
  {
   "cell_type": "code",
   "execution_count": 19,
   "outputs": [
    {
     "name": "stdout",
     "output_type": "stream",
     "text": [
      "0.808 0.826\n"
     ]
    }
   ],
   "source": [
    "print(f'{logit_score_cv:.3f} {logit_score_split:.3f}')"
   ],
   "metadata": {
    "collapsed": false,
    "pycharm": {
     "name": "#%%\n"
    }
   }
  },
  {
   "cell_type": "markdown",
   "metadata": {},
   "source": [
    "**Почитайте документацию к [LogisticRegressionCV](http://scikit-learn.org/stable/modules/generated/sklearn.linear_model.LogisticRegressionCV.html). Логистическая регрессия хорошо изучена, и для нее существуют алгоритмы быстрого подбора параметра регуляризации `C` (быстрее, чем с `GridSearchCV`).**\n",
    "\n",
    "**С помощью `LogisticRegressionCV` подберите параметр `C` для `LogisticRegression` сначала в широком диапазоне: 10 значений от 1e-4 до 1e2, используйте `logspace` из `NumPy`. Укажите у `LogisticRegressionCV` параметры `multi_class`='multinomial' и `random_state`=17. Для кросс-валидации используйте объект `skf`, созданный ранее. Для распараллеливания задайте `n_jobs=-1`.**\n",
    "\n",
    "**Нарисуйте кривые валидации по параметру `C`.**"
   ]
  },
  {
   "cell_type": "code",
   "execution_count": 20,
   "metadata": {
    "collapsed": true
   },
   "outputs": [
    {
     "name": "stdout",
     "output_type": "stream",
     "text": [
      "Wall time: 25.6 s\n"
     ]
    },
    {
     "data": {
      "text/plain": "GridSearchCV(cv=StratifiedKFold(n_splits=3, random_state=17, shuffle=True),\n             estimator=LogisticRegression(n_jobs=-1, random_state=17),\n             param_grid={'C': array([1.00023029e+000, 1.29181404e+011, 1.66839930e+022, 2.15476543e+033,\n       2.78291537e+044, 3.59418146e+055, 4.64194510e+066, 5.99514926e+077,\n       7.74283492e+088, 1.00000000e+100])},\n             return_train_score=True)"
     },
     "execution_count": 20,
     "metadata": {},
     "output_type": "execute_result"
    }
   ],
   "source": [
    "%%time\n",
    "\n",
    "logit_c_values1 = np.logspace(1e-4, 1e2, 10)\n",
    "\n",
    "logit_grid_searcher1 = GridSearchCV(logit, param_grid = {\"C\": logit_c_values1}, cv=skf, return_train_score=True)\n",
    "logit_grid_searcher1.fit(X_train, y_train)"
   ]
  },
  {
   "cell_type": "markdown",
   "metadata": {},
   "source": [
    "Выведите лучшее значение доли правильных ответов на кросс-валидации и соответствующее значение `C`."
   ]
  },
  {
   "cell_type": "code",
   "execution_count": 21,
   "metadata": {
    "collapsed": true
   },
   "outputs": [
    {
     "data": {
      "text/plain": "(0.8097947842096526, {'C': 129181403900.30573})"
     },
     "execution_count": 21,
     "metadata": {},
     "output_type": "execute_result"
    }
   ],
   "source": [
    "logit_grid_searcher1.best_score_, logit_grid_searcher1.best_params_"
   ]
  },
  {
   "cell_type": "markdown",
   "metadata": {},
   "source": [
    "**Теперь то же самое, только значения параметра `C` перебирайте в диапазоне `np.linspace`(0.1, 7, 20). Опять нарисуйте кривые валидации, определите максимальное значение доли правильных ответов на кросс-валидации.**"
   ]
  },
  {
   "cell_type": "code",
   "execution_count": 22,
   "metadata": {
    "collapsed": true
   },
   "outputs": [
    {
     "name": "stdout",
     "output_type": "stream",
     "text": [
      "Wall time: 42.9 s\n"
     ]
    },
    {
     "data": {
      "text/plain": "GridSearchCV(cv=StratifiedKFold(n_splits=3, random_state=17, shuffle=True),\n             estimator=LogisticRegression(n_jobs=-1, random_state=17),\n             param_grid={'C': array([0.1       , 0.46315789, 0.82631579, 1.18947368, 1.55263158,\n       1.91578947, 2.27894737, 2.64210526, 3.00526316, 3.36842105,\n       3.73157895, 4.09473684, 4.45789474, 4.82105263, 5.18421053,\n       5.54736842, 5.91052632, 6.27368421, 6.63684211, 7.        ])},\n             return_train_score=True)"
     },
     "execution_count": 22,
     "metadata": {},
     "output_type": "execute_result"
    }
   ],
   "source": [
    "%%time\n",
    "\n",
    "logit_c_values2 = np.linspace(0.1, 7, 20)\n",
    "\n",
    "logit_grid_searcher2 = GridSearchCV(logit, param_grid = {\"C\": logit_c_values2}, cv=skf, return_train_score=True)\n",
    "logit_grid_searcher2.fit(X_train, y_train)"
   ]
  },
  {
   "cell_type": "markdown",
   "metadata": {},
   "source": [
    "Выведите лучшее значение доли правильных ответов на кросс-валидации и соответствующее значение `C`."
   ]
  },
  {
   "cell_type": "code",
   "execution_count": 23,
   "metadata": {
    "collapsed": true
   },
   "outputs": [
    {
     "data": {
      "text/plain": "(0.8099976026047978, {'C': 4.094736842105263})"
     },
     "execution_count": 23,
     "metadata": {},
     "output_type": "execute_result"
    }
   ],
   "source": [
    "logit_grid_searcher2.best_score_, logit_grid_searcher2.best_params_"
   ]
  },
  {
   "cell_type": "markdown",
   "metadata": {},
   "source": [
    "Выведите долю правильных ответов на выборке `(X_valid, y_valid)` для логистической регрессии с лучшим найденным значением `C`."
   ]
  },
  {
   "cell_type": "code",
   "execution_count": 24,
   "outputs": [],
   "source": [
    "logit = LogisticRegression(random_state=17, C=4.0947, n_jobs=-1)\n",
    "logit_score_cv = np.mean(cross_val_score(logit, X_train, y_train, cv=skf))"
   ],
   "metadata": {
    "collapsed": false,
    "pycharm": {
     "name": "#%%\n"
    }
   }
  },
  {
   "cell_type": "code",
   "execution_count": 25,
   "outputs": [],
   "source": [
    "logit_pred_split = logit.fit(X_train, y_train).predict(X_valid)\n",
    "logit_score_split = accuracy_score(y_valid, logit_pred_split)"
   ],
   "metadata": {
    "collapsed": false,
    "pycharm": {
     "name": "#%%\n"
    }
   }
  },
  {
   "cell_type": "markdown",
   "metadata": {},
   "source": [
    "**<font color='red'>Вопрос 3. </font>Посчитайте доли правильных ответов для `logit_grid_searcher2` на кросс-валидации для лучшего значения параметра `C` и на отложенной выборке. Округлите каждое до 3 знаков после запятой и выведите через пробел.**"
   ]
  },
  {
   "cell_type": "code",
   "execution_count": 26,
   "outputs": [
    {
     "name": "stdout",
     "output_type": "stream",
     "text": [
      "0.809 0.831\n"
     ]
    }
   ],
   "source": [
    "print(f'{logit_score_cv:.3f} {logit_score_split:.3f}')"
   ],
   "metadata": {
    "collapsed": false,
    "pycharm": {
     "name": "#%%\n"
    }
   }
  },
  {
   "cell_type": "markdown",
   "metadata": {},
   "source": [
    "**4. Обучите линейный SVM (`LinearSVC`) с параметром `C`=1 и `random_state`=17 (для воспроизводимости). Посмотрите на долю правильных ответов на кросс-валидации (используйте объект `skf`, созданный ранее) и на выборке `(X_valid, y_valid)`.**"
   ]
  },
  {
   "cell_type": "code",
   "execution_count": 27,
   "metadata": {
    "collapsed": true
   },
   "outputs": [],
   "source": [
    "from sklearn.svm import LinearSVC"
   ]
  },
  {
   "cell_type": "code",
   "execution_count": 28,
   "metadata": {
    "collapsed": true
   },
   "outputs": [],
   "source": [
    "svm = LinearSVC(C=1, random_state=17)"
   ]
  },
  {
   "cell_type": "markdown",
   "metadata": {},
   "source": [
    "**С помощью `GridSearchCV` подберите параметр `C` для SVM сначала в широком диапазоне: 10 значений от 1e-4 до 1e4, используйте `linspace` из NumPy. Нарисуйте кривые валидации.**"
   ]
  },
  {
   "cell_type": "code",
   "execution_count": 29,
   "metadata": {
    "collapsed": true
   },
   "outputs": [
    {
     "name": "stdout",
     "output_type": "stream",
     "text": [
      "Wall time: 27.9 s\n"
     ]
    },
    {
     "data": {
      "text/plain": "GridSearchCV(cv=StratifiedKFold(n_splits=3, random_state=17, shuffle=True),\n             estimator=LinearSVC(C=1, random_state=17),\n             param_grid={'C': array([1.0000000e-04, 1.1111112e+03, 2.2222223e+03, 3.3333334e+03,\n       4.4444445e+03, 5.5555556e+03, 6.6666667e+03, 7.7777778e+03,\n       8.8888889e+03, 1.0000000e+04])},\n             return_train_score=True)"
     },
     "execution_count": 29,
     "metadata": {},
     "output_type": "execute_result"
    }
   ],
   "source": [
    "%%time\n",
    "svm_params1 = {'C': np.linspace(1e-4, 1e4, 10)}\n",
    "\n",
    "svm_grid_searcher1 = GridSearchCV(svm, param_grid=svm_params1, cv=skf, return_train_score=True)\n",
    "svm_grid_searcher1.fit(X_train, y_train)"
   ]
  },
  {
   "cell_type": "markdown",
   "metadata": {},
   "source": [
    "Выведите лучшее значение доли правильных ответов на кросс-валидации и соответствующее значение `C`."
   ]
  },
  {
   "cell_type": "code",
   "execution_count": 30,
   "metadata": {
    "collapsed": true
   },
   "outputs": [
    {
     "data": {
      "text/plain": "(0.7448690167334467, {'C': 10000.0})"
     },
     "execution_count": 30,
     "metadata": {},
     "output_type": "execute_result"
    }
   ],
   "source": [
    "svm_grid_searcher1.best_score_, svm_grid_searcher1.best_params_"
   ]
  },
  {
   "cell_type": "markdown",
   "metadata": {},
   "source": [
    "Нарисуйте график зависимости доли правильных ответов на кросс-валидации от `C`."
   ]
  },
  {
   "cell_type": "code",
   "execution_count": 31,
   "metadata": {
    "collapsed": true
   },
   "outputs": [
    {
     "data": {
      "text/plain": "<Figure size 432x288 with 1 Axes>",
      "image/png": "[encoded data removed]"
     },
     "metadata": {
      "needs_background": "light"
     },
     "output_type": "display_data"
    }
   ],
   "source": [
    "plot_validation_curves(svm_params1['C'], svm_grid_searcher1.cv_results_)"
   ]
  },
  {
   "cell_type": "markdown",
   "metadata": {},
   "source": [
    "**Но мы помним, что с параметром регуляризации по умолчанию (С=1) на кросс-валидации доля правильных ответов выше. Это тот случай (не редкий), когда можно ошибиться и перебирать параметры не в том диапазоне (причина в том, что мы взяли равномерную сетку на большом интервале и упустили действительно хороший интервал значений `C`). Здесь намного осмысленней подбирать `C` в районе 1, к тому же, так модель быстрее обучается, чем при больших `C`. **\n",
    "\n",
    "**С помощью `GridSearchCV` подберите параметр `C` для SVM в диапазоне (1e-3, 1), 30 значений, используйте `linspace` из NumPy. Нарисуйте кривые валидации.**"
   ]
  },
  {
   "cell_type": "code",
   "execution_count": 32,
   "metadata": {
    "collapsed": true
   },
   "outputs": [
    {
     "name": "stdout",
     "output_type": "stream",
     "text": [
      "Wall time: 1min\n"
     ]
    },
    {
     "data": {
      "text/plain": "GridSearchCV(cv=StratifiedKFold(n_splits=3, random_state=17, shuffle=True),\n             estimator=LinearSVC(C=1, random_state=17),\n             param_grid={'C': array([0.001     , 0.03544828, 0.06989655, 0.10434483, 0.1387931 ,\n       0.17324138, 0.20768966, 0.24213793, 0.27658621, 0.31103448,\n       0.34548276, 0.37993103, 0.41437931, 0.44882759, 0.48327586,\n       0.51772414, 0.55217241, 0.58662069, 0.62106897, 0.65551724,\n       0.68996552, 0.72441379, 0.75886207, 0.79331034, 0.82775862,\n       0.8622069 , 0.89665517, 0.93110345, 0.96555172, 1.        ])},\n             return_train_score=True)"
     },
     "execution_count": 32,
     "metadata": {},
     "output_type": "execute_result"
    }
   ],
   "source": [
    "%%time\n",
    "svm_params2 = {'C': np.linspace(1e-3, 1, 30)}\n",
    "\n",
    "svm_grid_searcher2 = GridSearchCV(svm, param_grid=svm_params2, cv=skf, return_train_score=True)\n",
    "svm_grid_searcher2.fit(X_train, y_train)"
   ]
  },
  {
   "cell_type": "markdown",
   "metadata": {},
   "source": [
    "Выведите лучшее значение доли правильных ответов на кросс-валидации и соответствующее значение `C`."
   ]
  },
  {
   "cell_type": "code",
   "execution_count": 33,
   "metadata": {
    "collapsed": true
   },
   "outputs": [
    {
     "data": {
      "text/plain": "(0.8090830304066529, {'C': 0.13879310344827586})"
     },
     "execution_count": 33,
     "metadata": {},
     "output_type": "execute_result"
    }
   ],
   "source": [
    "svm_grid_searcher2.best_score_, svm_grid_searcher2.best_params_"
   ]
  },
  {
   "cell_type": "markdown",
   "metadata": {},
   "source": [
    "Нарисуйте график зависимости доли правильных ответов на кросс-валидации от С."
   ]
  },
  {
   "cell_type": "code",
   "execution_count": 34,
   "metadata": {
    "collapsed": true
   },
   "outputs": [
    {
     "data": {
      "text/plain": "<Figure size 432x288 with 1 Axes>",
      "image/png": "[encoded data removed]"
     },
     "metadata": {
      "needs_background": "light"
     },
     "output_type": "display_data"
    }
   ],
   "source": [
    "plot_validation_curves(svm_params2['C'], svm_grid_searcher2.cv_results_)"
   ]
  },
  {
   "cell_type": "markdown",
   "metadata": {},
   "source": [
    "**<font color='red'>Вопрос 4. </font> Посчитайте доли правильных ответов для `svm_grid_searcher2` на кросс-валидации для лучшего значения параметра `C` и на отложенной выборке. Округлите каждое до 3 знаков после запятой и выведите через пробел.**"
   ]
  },
  {
   "cell_type": "code",
   "execution_count": 35,
   "metadata": {
    "collapsed": true
   },
   "outputs": [],
   "source": [
    "svm_score_cv = np.mean(cross_val_score(svm_grid_searcher2.best_estimator_, X_train, y_train, cv=skf))\n",
    "svm_score_split = accuracy_score(y_valid, svm_grid_searcher2.best_estimator_.fit(X_train, y_train).predict(X_valid))"
   ]
  },
  {
   "cell_type": "code",
   "execution_count": 36,
   "outputs": [
    {
     "name": "stdout",
     "output_type": "stream",
     "text": [
      "0.809 0.830\n"
     ]
    }
   ],
   "source": [
    "print(f'{svm_score_cv:.3f} {svm_score_split:.3f}')"
   ],
   "metadata": {
    "collapsed": false,
    "pycharm": {
     "name": "#%%\n"
    }
   }
  },
  {
   "cell_type": "markdown",
   "metadata": {},
   "source": [
    "## Часть 2. Выбор параметров – длины сессии и ширины окна"
   ]
  },
  {
   "cell_type": "markdown",
   "metadata": {},
   "source": [
    "**Возьмем `LinearSVC`, показавший лучшее качество на кросс-валидации в 1 части, и проверим его работу еще на 8 выборках для 10 пользователей (с разными сочетаниями параметров *session_length* и *window_size*). Поскольку тут уже вычислений побольше, мы не будем каждый раз заново подбирать параметр регуляризации `C`.**\n",
    "\n",
    "**Определите функцию `model_assessment`, ее документация описана ниже. Обратите внимание на все детали. Например, на то, что разбиение  выборки с `train_test_split` должно быть стратифицированным. Не теряйте нигде `random_state`.**"
   ]
  },
  {
   "cell_type": "code",
   "execution_count": 37,
   "metadata": {
    "collapsed": true
   },
   "outputs": [],
   "source": [
    "def model_assessment(estimator, path_to_X_pickle, path_to_y_pickle, cv, random_state=17, test_size=0.3):\n",
    "\n",
    "    with open(path_to_X_pickle, 'rb') as fx: X = pickle.load(fx)\n",
    "    with open(path_to_y_pickle, 'rb') as fy: y = pickle.load(fy)\n",
    "\n",
    "    X_train, X_test, y_train, y_test = train_test_split(X, y, test_size=test_size,\n",
    "                                                        random_state=random_state,\n",
    "                                                        stratify=y)\n",
    "\n",
    "    estimator_score_cv = np.mean(cross_val_score(estimator, X_train, y_train, cv=cv))\n",
    "    estimator_score_split = accuracy_score(y_test, estimator.fit(X_train, y_train).predict(X_test))\n",
    "\n",
    "    return estimator_score_cv, estimator_score_split"
   ]
  },
  {
   "cell_type": "markdown",
   "metadata": {},
   "source": [
    "**Убедитесь, что функция работает.**"
   ]
  },
  {
   "cell_type": "code",
   "execution_count": 38,
   "metadata": {
    "collapsed": true
   },
   "outputs": [
    {
     "data": {
      "text/plain": "(0.8090830304066529, 0.8314366998577525)"
     },
     "execution_count": 38,
     "metadata": {},
     "output_type": "execute_result"
    }
   ],
   "source": [
    "model_assessment(svm_grid_searcher2.best_estimator_,\n",
    "                 os.path.join(PATH_TO_DATA, 'X_sparse_10users_s15_w10_max1.0_min1.pkl'),\n",
    "                 os.path.join(PATH_TO_DATA, 'y_10users_s15_w10_max1.0_min1.pkl'), skf, random_state=17, test_size=0.3)"
   ]
  },
  {
   "cell_type": "markdown",
   "metadata": {},
   "source": [
    "**Примените функцию *model_assessment* для лучшего алгоритма из предыдущей части (а именно, `svm_grid_searcher2.best_estimator_`) и 9 выборок вида с разными сочетаниями параметров *session_length* и *window_size* для 10 пользователей. Выведите в цикле параметры *session_length* и *window_size*, а также результат вывода функции *model_assessment*. \n",
    "Удобно сделать так, чтоб *model_assessment* возвращала 3-им элементом время, за которое она выполнилась. На моем ноуте этот участок кода выполнился за 20 секунд. Но со 150 пользователями каждая итерация занимает уже несколько минут.**"
   ]
  },
  {
   "cell_type": "markdown",
   "metadata": {},
   "source": [
    "Здесь для удобства стоит создать копии ранее созданных pickle-файлов X_sparse_10users.pkl, X_sparse_150users.pkl, y_10users.pkl и y_150users.pkl, добавив к их названиям s10_w10, что означает длину сессии 10 и ширину окна 10."
   ]
  },
  {
   "cell_type": "code",
   "execution_count": 63,
   "metadata": {
    "collapsed": true
   },
   "outputs": [
    {
     "name": "stdout",
     "output_type": "stream",
     "text": [
      "Parameters: window_size: 10, session_length: 15, max_df: 1.0, min_df: 0.01\n",
      "Scores: cv: 0.6379803153410992, split: 0.6422475106685633\n",
      "\n",
      "Parameters: window_size: 10, session_length: 15, max_df: 1.0, min_df: 10\n",
      "Scores: cv: 0.7616339022655693, split: 0.7655286865813181\n",
      "\n",
      "Parameters: window_size: 10, session_length: 15, max_df: 1.0, min_df: 5\n",
      "Scores: cv: 0.7913026280902858, split: 0.8032242769084874\n",
      "\n",
      "Parameters: window_size: 10, session_length: 15, max_df: 1.0, min_df: 1\n",
      "Scores: cv: 0.8085749003253518, split: 0.8311996206733049\n",
      "\n",
      "Parameters: window_size: 10, session_length: 15, max_df: 0.85, min_df: 0.01\n",
      "Scores: cv: 0.6379803153410992, split: 0.6422475106685633\n",
      "\n",
      "Parameters: window_size: 10, session_length: 15, max_df: 0.85, min_df: 10\n",
      "Scores: cv: 0.7616339022655693, split: 0.7655286865813181\n",
      "\n",
      "Parameters: window_size: 10, session_length: 15, max_df: 0.85, min_df: 5\n",
      "Scores: cv: 0.7913026280902858, split: 0.8032242769084874\n",
      "\n",
      "Parameters: window_size: 10, session_length: 15, max_df: 0.85, min_df: 1\n",
      "Scores: cv: 0.8085749003253518, split: 0.8311996206733049\n",
      "\n",
      "Parameters: window_size: 10, session_length: 15, max_df: 0.7, min_df: 0.01\n",
      "Scores: cv: 0.6379803153410992, split: 0.6422475106685633\n",
      "\n",
      "Parameters: window_size: 10, session_length: 15, max_df: 0.7, min_df: 10\n",
      "Scores: cv: 0.7616339022655693, split: 0.7655286865813181\n",
      "\n",
      "Parameters: window_size: 10, session_length: 15, max_df: 0.7, min_df: 5\n",
      "Scores: cv: 0.7913026280902858, split: 0.8032242769084874\n",
      "\n",
      "Parameters: window_size: 10, session_length: 15, max_df: 0.7, min_df: 1\n",
      "Scores: cv: 0.8085749003253518, split: 0.8311996206733049\n",
      "\n",
      "Parameters: window_size: 7, session_length: 15, max_df: 1.0, min_df: 0.01\n",
      "Scores: cv: 0.6459461750752915, split: 0.6452041154995022\n",
      "\n",
      "Parameters: window_size: 7, session_length: 15, max_df: 1.0, min_df: 10\n",
      "Scores: cv: 0.7984351944000597, split: 0.7960504480584135\n",
      "\n",
      "Parameters: window_size: 7, session_length: 15, max_df: 1.0, min_df: 5\n",
      "Scores: cv: 0.8271691058437138, split: 0.8300696979754397\n",
      "\n",
      "Parameters: window_size: 7, session_length: 15, max_df: 1.0, min_df: 1\n",
      "Scores: cv: 0.8403270361263252, split: 0.8443411881845337\n",
      "\n",
      "Parameters: window_size: 7, session_length: 15, max_df: 0.85, min_df: 0.01\n",
      "Scores: cv: 0.6459461750752915, split: 0.6452041154995022\n",
      "\n",
      "Parameters: window_size: 7, session_length: 15, max_df: 0.85, min_df: 10\n",
      "Scores: cv: 0.7984351944000597, split: 0.7960504480584135\n",
      "\n",
      "Parameters: window_size: 7, session_length: 15, max_df: 0.85, min_df: 5\n",
      "Scores: cv: 0.8271691058437138, split: 0.8300696979754397\n",
      "\n",
      "Parameters: window_size: 7, session_length: 15, max_df: 0.85, min_df: 1\n",
      "Scores: cv: 0.8403270361263252, split: 0.8443411881845337\n",
      "\n",
      "Parameters: window_size: 7, session_length: 15, max_df: 0.7, min_df: 0.01\n",
      "Scores: cv: 0.6459461750752915, split: 0.6452041154995022\n",
      "\n",
      "Parameters: window_size: 7, session_length: 15, max_df: 0.7, min_df: 10\n",
      "Scores: cv: 0.7984351944000597, split: 0.7960504480584135\n",
      "\n",
      "Parameters: window_size: 7, session_length: 15, max_df: 0.7, min_df: 5\n",
      "Scores: cv: 0.8271691058437138, split: 0.8300696979754397\n",
      "\n",
      "Parameters: window_size: 7, session_length: 15, max_df: 0.7, min_df: 1\n",
      "Scores: cv: 0.8403270361263252, split: 0.8443411881845337\n",
      "\n",
      "Parameters: window_size: 7, session_length: 10, max_df: 1.0, min_df: 0.01\n",
      "Scores: cv: 0.5777386245522566, split: 0.5735147693328908\n",
      "\n",
      "Parameters: window_size: 7, session_length: 10, max_df: 1.0, min_df: 10\n",
      "Scores: cv: 0.7378380274253487, split: 0.7369731164951875\n",
      "\n",
      "Parameters: window_size: 7, session_length: 10, max_df: 1.0, min_df: 5\n",
      "Scores: cv: 0.7655765199390508, split: 0.7698307334882177\n",
      "\n",
      "Parameters: window_size: 7, session_length: 10, max_df: 1.0, min_df: 1\n",
      "Scores: cv: 0.7869847199217919, split: 0.7962163956189844\n",
      "\n",
      "Parameters: window_size: 7, session_length: 10, max_df: 0.85, min_df: 0.01\n",
      "Scores: cv: 0.5777386245522566, split: 0.5735147693328908\n",
      "\n",
      "Parameters: window_size: 7, session_length: 10, max_df: 0.85, min_df: 10\n",
      "Scores: cv: 0.7378380274253487, split: 0.7369731164951875\n",
      "\n",
      "Parameters: window_size: 7, session_length: 10, max_df: 0.85, min_df: 5\n",
      "Scores: cv: 0.7655765199390508, split: 0.7698307334882177\n",
      "\n",
      "Parameters: window_size: 7, session_length: 10, max_df: 0.85, min_df: 1\n",
      "Scores: cv: 0.7869847199217919, split: 0.7962163956189844\n",
      "\n",
      "Parameters: window_size: 7, session_length: 10, max_df: 0.7, min_df: 0.01\n",
      "Scores: cv: 0.5777386245522566, split: 0.5735147693328908\n",
      "\n",
      "Parameters: window_size: 7, session_length: 10, max_df: 0.7, min_df: 10\n",
      "Scores: cv: 0.7378380274253487, split: 0.7369731164951875\n",
      "\n",
      "Parameters: window_size: 7, session_length: 10, max_df: 0.7, min_df: 5\n",
      "Scores: cv: 0.7655765199390508, split: 0.7698307334882177\n",
      "\n",
      "Parameters: window_size: 7, session_length: 10, max_df: 0.7, min_df: 1\n",
      "Scores: cv: 0.7869847199217919, split: 0.7962163956189844\n",
      "\n",
      "Parameters: window_size: 7, session_length: 7, max_df: 1.0, min_df: 0.01\n",
      "Scores: cv: 0.5290189325985069, split: 0.5305343511450382\n",
      "\n",
      "Parameters: window_size: 7, session_length: 7, max_df: 1.0, min_df: 10\n",
      "Scores: cv: 0.6869133675012687, split: 0.686856953202788\n",
      "\n",
      "Parameters: window_size: 7, session_length: 7, max_df: 1.0, min_df: 5\n",
      "Scores: cv: 0.7179946057242265, split: 0.7190507799535347\n",
      "\n",
      "Parameters: window_size: 7, session_length: 7, max_df: 1.0, min_df: 1\n",
      "Scores: cv: 0.7405408262754173, split: 0.7472618652505808\n",
      "\n",
      "Parameters: window_size: 7, session_length: 7, max_df: 0.85, min_df: 0.01\n",
      "Scores: cv: 0.5290189325985069, split: 0.5305343511450382\n",
      "\n",
      "Parameters: window_size: 7, session_length: 7, max_df: 0.85, min_df: 10\n",
      "Scores: cv: 0.6869133675012687, split: 0.686856953202788\n",
      "\n",
      "Parameters: window_size: 7, session_length: 7, max_df: 0.85, min_df: 5\n",
      "Scores: cv: 0.7179946057242265, split: 0.7190507799535347\n",
      "\n",
      "Parameters: window_size: 7, session_length: 7, max_df: 0.85, min_df: 1\n",
      "Scores: cv: 0.7405408262754173, split: 0.7472618652505808\n",
      "\n",
      "Parameters: window_size: 7, session_length: 7, max_df: 0.7, min_df: 0.01\n",
      "Scores: cv: 0.5290189325985069, split: 0.5305343511450382\n",
      "\n",
      "Parameters: window_size: 7, session_length: 7, max_df: 0.7, min_df: 10\n",
      "Scores: cv: 0.6869133675012687, split: 0.686856953202788\n",
      "\n",
      "Parameters: window_size: 7, session_length: 7, max_df: 0.7, min_df: 5\n",
      "Scores: cv: 0.7179946057242265, split: 0.7190507799535347\n",
      "\n",
      "Parameters: window_size: 7, session_length: 7, max_df: 0.7, min_df: 1\n",
      "Scores: cv: 0.7405408262754173, split: 0.7472618652505808\n",
      "\n",
      "Parameters: window_size: 5, session_length: 15, max_df: 1.0, min_df: 0.01\n",
      "Scores: cv: 0.6445304106676183, split: 0.6488857278330963\n",
      "\n",
      "Parameters: window_size: 5, session_length: 15, max_df: 1.0, min_df: 10\n",
      "Scores: cv: 0.823840214968222, split: 0.8320293978188715\n",
      "\n",
      "Parameters: window_size: 5, session_length: 15, max_df: 1.0, min_df: 5\n",
      "Scores: cv: 0.8494993513035268, split: 0.8598862019914651\n",
      "\n",
      "Parameters: window_size: 5, session_length: 15, max_df: 1.0, min_df: 1\n",
      "Scores: cv: 0.8555966567038785, split: 0.8680654338549075\n",
      "\n",
      "Parameters: window_size: 5, session_length: 15, max_df: 0.85, min_df: 0.01\n",
      "Scores: cv: 0.6445304106676183, split: 0.6488857278330963\n",
      "\n",
      "Parameters: window_size: 5, session_length: 15, max_df: 0.85, min_df: 10\n",
      "Scores: cv: 0.823840214968222, split: 0.8320293978188715\n",
      "\n",
      "Parameters: window_size: 5, session_length: 15, max_df: 0.85, min_df: 5\n",
      "Scores: cv: 0.8494993513035268, split: 0.8598862019914651\n",
      "\n",
      "Parameters: window_size: 5, session_length: 15, max_df: 0.85, min_df: 1\n",
      "Scores: cv: 0.8555966567038785, split: 0.8680654338549075\n",
      "\n",
      "Parameters: window_size: 5, session_length: 15, max_df: 0.7, min_df: 0.01\n",
      "Scores: cv: 0.6445304106676183, split: 0.6488857278330963\n",
      "\n",
      "Parameters: window_size: 5, session_length: 15, max_df: 0.7, min_df: 10\n",
      "Scores: cv: 0.823840214968222, split: 0.8320293978188715\n",
      "\n",
      "Parameters: window_size: 5, session_length: 15, max_df: 0.7, min_df: 5\n",
      "Scores: cv: 0.8494993513035268, split: 0.8598862019914651\n",
      "\n",
      "Parameters: window_size: 5, session_length: 15, max_df: 0.7, min_df: 1\n",
      "Scores: cv: 0.8555966567038785, split: 0.8680654338549075\n",
      "\n",
      "Parameters: window_size: 5, session_length: 10, max_df: 1.0, min_df: 0.01\n",
      "Scores: cv: 0.5755294512535889, split: 0.5821479374110953\n",
      "\n",
      "Parameters: window_size: 5, session_length: 10, max_df: 1.0, min_df: 10\n",
      "Scores: cv: 0.7607335644972819, split: 0.7681365576102418\n",
      "\n",
      "Parameters: window_size: 5, session_length: 10, max_df: 1.0, min_df: 5\n",
      "Scores: cv: 0.7893907767381286, split: 0.8001422475106685\n",
      "\n",
      "Parameters: window_size: 5, session_length: 10, max_df: 1.0, min_df: 1\n",
      "Scores: cv: 0.8050404087717146, split: 0.81733048838312\n",
      "\n",
      "Parameters: window_size: 5, session_length: 10, max_df: 0.85, min_df: 0.01\n",
      "Scores: cv: 0.5755294512535889, split: 0.5821479374110953\n",
      "\n",
      "Parameters: window_size: 5, session_length: 10, max_df: 0.85, min_df: 10\n",
      "Scores: cv: 0.7607335644972819, split: 0.7681365576102418\n",
      "\n",
      "Parameters: window_size: 5, session_length: 10, max_df: 0.85, min_df: 5\n",
      "Scores: cv: 0.7893907767381286, split: 0.8001422475106685\n",
      "\n",
      "Parameters: window_size: 5, session_length: 10, max_df: 0.85, min_df: 1\n",
      "Scores: cv: 0.8050404087717146, split: 0.81733048838312\n",
      "\n",
      "Parameters: window_size: 5, session_length: 10, max_df: 0.7, min_df: 0.01\n",
      "Scores: cv: 0.5755294512535889, split: 0.5821479374110953\n",
      "\n",
      "Parameters: window_size: 5, session_length: 10, max_df: 0.7, min_df: 10\n",
      "Scores: cv: 0.7607335644972819, split: 0.7681365576102418\n",
      "\n",
      "Parameters: window_size: 5, session_length: 10, max_df: 0.7, min_df: 5\n",
      "Scores: cv: 0.7893907767381286, split: 0.8001422475106685\n",
      "\n",
      "Parameters: window_size: 5, session_length: 10, max_df: 0.7, min_df: 1\n",
      "Scores: cv: 0.8050404087717146, split: 0.81733048838312\n",
      "\n",
      "Parameters: window_size: 5, session_length: 7, max_df: 1.0, min_df: 0.01\n",
      "Scores: cv: 0.5299015926830508, split: 0.5293978188715031\n",
      "\n",
      "Parameters: window_size: 5, session_length: 7, max_df: 1.0, min_df: 10\n",
      "Scores: cv: 0.7108884431036812, split: 0.7206021811284969\n",
      "\n",
      "Parameters: window_size: 5, session_length: 7, max_df: 1.0, min_df: 5\n",
      "Scores: cv: 0.7429499410163284, split: 0.7553342816500711\n",
      "\n",
      "Parameters: window_size: 5, session_length: 7, max_df: 1.0, min_df: 1\n",
      "Scores: cv: 0.7612417875150402, split: 0.7763157894736842\n",
      "\n",
      "Parameters: window_size: 5, session_length: 7, max_df: 0.85, min_df: 0.01\n",
      "Scores: cv: 0.5299015926830508, split: 0.5293978188715031\n",
      "\n",
      "Parameters: window_size: 5, session_length: 7, max_df: 0.85, min_df: 10\n",
      "Scores: cv: 0.7108884431036812, split: 0.7206021811284969\n",
      "\n",
      "Parameters: window_size: 5, session_length: 7, max_df: 0.85, min_df: 5\n",
      "Scores: cv: 0.7429499410163284, split: 0.7553342816500711\n",
      "\n",
      "Parameters: window_size: 5, session_length: 7, max_df: 0.85, min_df: 1\n",
      "Scores: cv: 0.7612417875150402, split: 0.7763157894736842\n",
      "\n",
      "Parameters: window_size: 5, session_length: 7, max_df: 0.7, min_df: 0.01\n",
      "Scores: cv: 0.5299015926830508, split: 0.5293978188715031\n",
      "\n",
      "Parameters: window_size: 5, session_length: 7, max_df: 0.7, min_df: 10\n",
      "Scores: cv: 0.7108884431036812, split: 0.7206021811284969\n",
      "\n",
      "Parameters: window_size: 5, session_length: 7, max_df: 0.7, min_df: 5\n",
      "Scores: cv: 0.7429499410163284, split: 0.7553342816500711\n",
      "\n",
      "Parameters: window_size: 5, session_length: 7, max_df: 0.7, min_df: 1\n",
      "Scores: cv: 0.7612417875150402, split: 0.7763157894736842\n",
      "\n",
      "Parameters: window_size: 5, session_length: 5, max_df: 1.0, min_df: 0.01\n",
      "Scores: cv: 0.47355299484636365, split: 0.4796111901375059\n",
      "\n",
      "Parameters: window_size: 5, session_length: 5, max_df: 1.0, min_df: 10\n",
      "Scores: cv: 0.6652099264191088, split: 0.6723565670934092\n",
      "\n",
      "Parameters: window_size: 5, session_length: 5, max_df: 1.0, min_df: 5\n",
      "Scores: cv: 0.6939179826469046, split: 0.7034139402560455\n",
      "\n",
      "Parameters: window_size: 5, session_length: 5, max_df: 1.0, min_df: 1\n",
      "Scores: cv: 0.7135816487051474, split: 0.7270033191085823\n",
      "\n",
      "Parameters: window_size: 5, session_length: 5, max_df: 0.85, min_df: 0.01\n",
      "Scores: cv: 0.47355299484636365, split: 0.4796111901375059\n",
      "\n",
      "Parameters: window_size: 5, session_length: 5, max_df: 0.85, min_df: 10\n",
      "Scores: cv: 0.6652099264191088, split: 0.6723565670934092\n",
      "\n",
      "Parameters: window_size: 5, session_length: 5, max_df: 0.85, min_df: 5\n",
      "Scores: cv: 0.6939179826469046, split: 0.7034139402560455\n",
      "\n",
      "Parameters: window_size: 5, session_length: 5, max_df: 0.85, min_df: 1\n",
      "Scores: cv: 0.7135816487051474, split: 0.7270033191085823\n",
      "\n",
      "Parameters: window_size: 5, session_length: 5, max_df: 0.7, min_df: 0.01\n",
      "Scores: cv: 0.47355299484636365, split: 0.4796111901375059\n",
      "\n",
      "Parameters: window_size: 5, session_length: 5, max_df: 0.7, min_df: 10\n",
      "Scores: cv: 0.6652099264191088, split: 0.6723565670934092\n",
      "\n",
      "Parameters: window_size: 5, session_length: 5, max_df: 0.7, min_df: 5\n",
      "Scores: cv: 0.6939179826469046, split: 0.7034139402560455\n",
      "\n",
      "Parameters: window_size: 5, session_length: 5, max_df: 0.7, min_df: 1\n",
      "Scores: cv: 0.7135816487051474, split: 0.7270033191085823\n",
      "\n",
      "Wall time: 4min 50s\n"
     ]
    }
   ],
   "source": [
    "%%time\n",
    "estimator = svm_grid_searcher2.best_estimator_\n",
    "\n",
    "best_score_cv = 0\n",
    "best_score_split = 0\n",
    "\n",
    "for window_size, session_length, max_df, min_df in \\\n",
    "    itertools.product([10, 7, 5], [15, 10, 7, 5], [1.0, 0.85, 0.7], [0.01, 10, 5, 1]):\n",
    "    if window_size <= session_length and (window_size, session_length) != (10, 10):\n",
    "        path_to_X_pkl = \\\n",
    "            os.path.join(PATH_TO_DATA, f'X_sparse_10users_s{session_length}_w{window_size}_max{max_df}_min{min_df}.pkl')\n",
    "        path_to_y_pkl = os.path.join(PATH_TO_DATA, f'y_10users_s{session_length}_w{window_size}_max{max_df}_min{min_df}.pkl')\n",
    "\n",
    "        score_cv, score_split = model_assessment(estimator=svm_grid_searcher2.best_estimator_,\n",
    "                                                 path_to_X_pickle=path_to_X_pkl,\n",
    "                                                 path_to_y_pickle=path_to_y_pkl,\n",
    "                                                 cv=skf)\n",
    "\n",
    "        print(f\"Parameters: window_size: {window_size}, session_length: {session_length}, max_df: {max_df}, min_df: {min_df}\")\n",
    "        print(f\"Scores: cv: {score_cv}, split: {score_split}\")\n",
    "        print()"
   ]
  },
  {
   "cell_type": "markdown",
   "source": [
    "Лучшие результаты:\n",
    "\n",
    "Parameters: window_size: 5, session_length: 15, max_df: 1.0, min_df: 1\n",
    "Scores: cv: 0.8555966567038785, split: 0.8680654338549075"
   ],
   "metadata": {
    "collapsed": false
   }
  },
  {
   "cell_type": "markdown",
   "metadata": {},
   "source": [
    "**<font color='red'>Вопрос 6. </font> Посчитайте доли правильных ответов для `LinearSVC` с настроенным параметром `C` и выборки `X_sparse_150users`. Укажите доли правильных ответов на кросс-валидации и на отложенной выборке. Округлите каждое до 3 знаков после запятой и выведите через пробел.**"
   ]
  },
  {
   "cell_type": "code",
   "execution_count": 39,
   "outputs": [
    {
     "name": "stdout",
     "output_type": "stream",
     "text": [
      "Wall time: 15min 16s\n"
     ]
    }
   ],
   "source": [
    "%%time\n",
    "\n",
    "score_cv, score_split = model_assessment(estimator=svm_grid_searcher2.best_estimator_,\n",
    "                                         path_to_X_pickle=os.path.join(PATH_TO_DATA,\n",
    "                                                                       'X_sparse_150users_s15_w5_max1.0_min1.pkl'),\n",
    "                                         path_to_y_pickle=os.path.join(PATH_TO_DATA,\n",
    "                                                                       'y_150users_s15_w5_max1.0_min1.pkl'),\n",
    "                                         cv=skf, random_state=17, test_size=0.3)"
   ],
   "metadata": {
    "collapsed": false,
    "pycharm": {
     "name": "#%%\n"
    }
   }
  },
  {
   "cell_type": "code",
   "execution_count": 40,
   "outputs": [
    {
     "name": "stdout",
     "output_type": "stream",
     "text": [
      "0.586 0.605\n"
     ]
    }
   ],
   "source": [
    "print(f'{score_cv:.3f} {score_split:.3f}')"
   ],
   "metadata": {
    "collapsed": false,
    "pycharm": {
     "name": "#%%\n"
    }
   }
  },
  {
   "cell_type": "markdown",
   "metadata": {},
   "source": [
    "## Часть 3. Идентификация  конкретного пользователя и кривые обучения"
   ]
  },
  {
   "cell_type": "markdown",
   "metadata": {},
   "source": [
    "**Поскольку может разочаровать, что многоклассовая доля правильных ответов на выборке из 150 пользовалей невелика, порадуемся тому, что конкретного пользователя можно идентифицировать достаточно хорошо. **"
   ]
  },
  {
   "cell_type": "markdown",
   "metadata": {},
   "source": [
    "**Загрузим сериализованные ранее объекты *X_sparse_150users* и *y_150users*, соответствующие обучающей выборке для 150 пользователей с параметрами (*session_length, window_size*) = (10,10). Так же точно разобьем их на 70% и 30%.**"
   ]
  },
  {
   "cell_type": "code",
   "execution_count": 42,
   "metadata": {
    "collapsed": true
   },
   "outputs": [],
   "source": [
    "with open(os.path.join(PATH_TO_DATA, 'X_sparse_150users_s15_w5_max1.0_min1.pkl'), 'rb') as X_sparse_150users_pkl:\n",
    "     X_sparse_150users = pickle.load(X_sparse_150users_pkl)\n",
    "with open(os.path.join(PATH_TO_DATA, 'y_150users_s15_w5_max1.0_min1.pkl'), 'rb') as y_150users_pkl:\n",
    "    y_150users = pickle.load(y_150users_pkl)"
   ]
  },
  {
   "cell_type": "code",
   "execution_count": 43,
   "metadata": {
    "collapsed": true
   },
   "outputs": [],
   "source": [
    "X_train_150, X_valid_150, y_train_150, y_valid_150 = train_test_split(X_sparse_150users, \n",
    "                                                                      y_150users, test_size=0.3, \n",
    "                                                     random_state=17, stratify=y_150users)"
   ]
  },
  {
   "cell_type": "markdown",
   "metadata": {},
   "source": [
    "**Обучите `LogisticRegressionCV` для одного значения параметра `C` (лучшего на кросс-валидации в 1 части, используйте точное значение, не на глаз). Теперь будем решать 150 задач \"Один-против-Всех\", поэтому укажите аргумент `multi_class`='ovr'. Как всегда, где возможно, указывайте `n_jobs=-1` и `random_state`=17.**"
   ]
  },
  {
   "cell_type": "code",
   "execution_count": 44,
   "metadata": {
    "collapsed": true
   },
   "outputs": [
    {
     "name": "stdout",
     "output_type": "stream",
     "text": [
      "Wall time: 7min 21s\n"
     ]
    },
    {
     "data": {
      "text/plain": "LogisticRegressionCV(Cs=[4.094736842105263],\n                     cv=StratifiedKFold(n_splits=3, random_state=17, shuffle=True),\n                     multi_class='ovr', n_jobs=-1, random_state=17)"
     },
     "execution_count": 44,
     "metadata": {},
     "output_type": "execute_result"
    }
   ],
   "source": [
    "%%time\n",
    "logit_cv_150users = LogisticRegressionCV(Cs=[logit_grid_searcher2.best_params_['C']], multi_class='ovr',\n",
    "                                         n_jobs=-1, random_state=17, cv=skf)\n",
    "logit_cv_150users.fit(X_train_150, y_train_150)"
   ]
  },
  {
   "cell_type": "markdown",
   "metadata": {},
   "source": [
    "**Посмотрите на средние доли правильных ответов на кросс-валидации в задаче идентификации каждого пользователя по отдельности.**"
   ]
  },
  {
   "cell_type": "code",
   "execution_count": 45,
   "metadata": {
    "collapsed": true
   },
   "outputs": [
    {
     "name": "stdout",
     "output_type": "stream",
     "text": [
      "User 0, CV score: 0.9971160515460155\n",
      "User 1, CV score: 0.9972464289625608\n",
      "User 2, CV score: 0.9964067984000083\n",
      "User 3, CV score: 0.994169521932089\n",
      "User 4, CV score: 0.9917445019843442\n",
      "User 5, CV score: 0.9951447450078487\n",
      "User 6, CV score: 0.9943364050252672\n",
      "User 7, CV score: 0.9868318809289129\n",
      "User 8, CV score: 0.9974185271524009\n",
      "User 9, CV score: 0.9963911531100229\n",
      "User 10, CV score: 0.9956088886107505\n",
      "User 11, CV score: 0.9942060276087217\n",
      "User 12, CV score: 0.9971264817393392\n",
      "User 13, CV score: 0.9953377035843358\n",
      "User 14, CV score: 0.9968344363262772\n",
      "User 15, CV score: 0.9966779834264229\n",
      "User 16, CV score: 0.9919478907541551\n",
      "User 17, CV score: 0.9951551752011724\n",
      "User 18, CV score: 0.9950821638479069\n",
      "User 19, CV score: 0.9928344571866639\n",
      "User 20, CV score: 0.983645456868543\n",
      "User 21, CV score: 0.9975123988923134\n",
      "User 22, CV score: 0.9959739453770776\n",
      "User 23, CV score: 0.9919896115274497\n",
      "User 24, CV score: 0.9964067984000083\n",
      "User 25, CV score: 0.9956297489973976\n",
      "User 26, CV score: 0.9958800736371649\n",
      "User 27, CV score: 0.9937418840058201\n",
      "User 28, CV score: 0.9858879484331243\n",
      "User 29, CV score: 0.9974654630223571\n",
      "User 30, CV score: 0.9974133120557389\n",
      "User 31, CV score: 0.9971734176092953\n",
      "User 32, CV score: 0.9978200895953607\n",
      "User 33, CV score: 0.9967405645863646\n",
      "User 34, CV score: 0.9973820214757682\n",
      "User 35, CV score: 0.9982320822316443\n",
      "User 36, CV score: 0.9898618520894286\n",
      "User 37, CV score: 0.9968448665196009\n",
      "User 38, CV score: 0.996730134393041\n",
      "User 39, CV score: 0.9966675532330992\n",
      "User 40, CV score: 0.991671490631079\n",
      "User 41, CV score: 0.9909778827750572\n",
      "User 42, CV score: 0.9967822853596591\n",
      "User 43, CV score: 0.9960626020203284\n",
      "User 44, CV score: 0.9963963682066846\n",
      "User 45, CV score: 0.9953116281010268\n",
      "User 46, CV score: 0.9968187910362919\n",
      "User 47, CV score: 0.9974289573457243\n",
      "User 48, CV score: 0.9955098017741758\n",
      "User 49, CV score: 0.9968865872928955\n",
      "User 50, CV score: 0.9930899969230929\n",
      "User 51, CV score: 0.9967353494897028\n",
      "User 52, CV score: 0.9965476060098775\n",
      "User 53, CV score: 0.9955463074508085\n",
      "User 54, CV score: 0.9976114857288879\n",
      "User 55, CV score: 0.9911917017381917\n",
      "User 56, CV score: 0.9941747370287507\n",
      "User 57, CV score: 0.9964954550432593\n",
      "User 58, CV score: 0.9884485608940761\n",
      "User 59, CV score: 0.9917340717910207\n",
      "User 60, CV score: 0.9946597410182997\n",
      "User 61, CV score: 0.99118648664153\n",
      "User 62, CV score: 0.9961981945335356\n",
      "User 63, CV score: 0.9920626228807151\n",
      "User 64, CV score: 0.9979817575918769\n",
      "User 65, CV score: 0.9956245339007359\n",
      "User 66, CV score: 0.9975906253422407\n",
      "User 67, CV score: 0.9964067984000083\n",
      "User 68, CV score: 0.9968813721962336\n",
      "User 69, CV score: 0.9971629874159719\n",
      "User 70, CV score: 0.99727250444587\n",
      "User 71, CV score: 0.9975958404389025\n",
      "User 72, CV score: 0.9968500816162628\n",
      "User 73, CV score: 0.9934811291727293\n",
      "User 74, CV score: 0.9969543835494991\n",
      "User 75, CV score: 0.9926936495767947\n",
      "User 76, CV score: 0.9981695010717023\n",
      "User 77, CV score: 0.9968240061329535\n",
      "User 78, CV score: 0.9971994930926046\n",
      "User 79, CV score: 0.992208645587246\n",
      "User 80, CV score: 0.9972307836725753\n",
      "User 81, CV score: 0.9952334016510996\n",
      "User 82, CV score: 0.9971212666426772\n",
      "User 83, CV score: 0.997241213865899\n",
      "User 84, CV score: 0.9959426547971066\n",
      "User 85, CV score: 0.9972151383825899\n",
      "User 86, CV score: 0.9986805805445603\n",
      "User 87, CV score: 0.9896480331262939\n",
      "User 88, CV score: 0.997580195148917\n",
      "User 89, CV score: 0.9963494323367282\n",
      "User 90, CV score: 0.9948735599814342\n",
      "User 91, CV score: 0.9945345786984161\n",
      "User 92, CV score: 0.985413374636899\n",
      "User 93, CV score: 0.997069115676059\n",
      "User 94, CV score: 0.9968657269062482\n",
      "User 95, CV score: 0.9922764418438496\n",
      "User 96, CV score: 0.9907484185219374\n",
      "User 97, CV score: 0.9987640220911495\n",
      "User 98, CV score: 0.99141595089465\n",
      "User 99, CV score: 0.9924433249370277\n",
      "User 100, CV score: 0.9944928579251217\n",
      "User 101, CV score: 0.9887562515971234\n",
      "User 102, CV score: 0.9835620153219541\n",
      "User 103, CV score: 0.9847771328441572\n",
      "User 104, CV score: 0.9927823062200458\n",
      "User 105, CV score: 0.9960886775036375\n",
      "User 106, CV score: 0.9984771917747496\n",
      "User 107, CV score: 0.9977575084354188\n",
      "User 108, CV score: 0.9980339085584952\n",
      "User 109, CV score: 0.9975384743756225\n",
      "User 110, CV score: 0.9961095378902849\n",
      "User 111, CV score: 0.9972464289625608\n",
      "User 112, CV score: 0.9974237422490626\n",
      "User 113, CV score: 0.9973298705091499\n",
      "User 114, CV score: 0.997011749612779\n",
      "User 115, CV score: 0.9972568591558844\n",
      "User 116, CV score: 0.9955515225474705\n",
      "User 117, CV score: 0.9970743307727208\n",
      "User 118, CV score: 0.9974550328290336\n",
      "User 119, CV score: 0.9967927155529828\n",
      "User 120, CV score: 0.9971004062560299\n",
      "User 121, CV score: 0.9974289573457243\n",
      "User 122, CV score: 0.9973820214757682\n",
      "User 123, CV score: 0.9969700288394846\n",
      "User 124, CV score: 0.9963390021434048\n",
      "User 125, CV score: 0.997726217855448\n",
      "User 126, CV score: 0.9988578938310622\n",
      "User 127, CV score: 0.9967979306496447\n",
      "User 128, CV score: 0.997016964709441\n",
      "User 129, CV score: 0.9929804798931947\n",
      "User 130, CV score: 0.9946336655349907\n",
      "User 131, CV score: 0.9980547689451424\n",
      "User 132, CV score: 0.9970639005793972\n",
      "User 133, CV score: 0.9973611610891208\n",
      "User 134, CV score: 0.9982998784882477\n",
      "User 135, CV score: 0.9979452519152442\n",
      "User 136, CV score: 0.997783583918728\n",
      "User 137, CV score: 0.9946023749550198\n",
      "User 138, CV score: 0.9974289573457243\n",
      "User 139, CV score: 0.9976844970821533\n",
      "User 140, CV score: 0.9975906253422407\n",
      "User 141, CV score: 0.9984563313881023\n",
      "User 142, CV score: 0.99675620987635\n",
      "User 143, CV score: 0.9961095378902848\n",
      "User 144, CV score: 0.9976114857288879\n",
      "User 145, CV score: 0.9974028818624153\n",
      "User 146, CV score: 0.9960886775036375\n",
      "User 147, CV score: 0.9974915385056663\n",
      "User 148, CV score: 0.9970378250960881\n",
      "User 149, CV score: 0.997950467011906\n"
     ]
    }
   ],
   "source": [
    "cv_scores_by_user = {}\n",
    "for user_id in logit_cv_150users.scores_:\n",
    "    cv_scores_by_user[user_id] = logit_cv_150users.scores_[user_id].mean()\n",
    "    print('User {}, CV score: {}'.format(user_id, logit_cv_150users.scores_[user_id].mean()))"
   ]
  },
  {
   "cell_type": "markdown",
   "metadata": {},
   "source": [
    "**Результаты кажутся впечатляющими, но возможно, мы забываем про дисбаланс классов, и высокую долю правильных ответов можно получить константным прогнозом. Посчитайте для каждого пользователя разницу между долей правильных ответов на кросс-валидации (только что посчитанную с помощью `LogisticRegressionCV`) и долей меток в *y_train_150*, отличных от ID \n",
    " этого пользователя (именно такую долю правильных ответов можно получить, если классификатор всегда \"говорит\", что это не пользователь с номером $i$ в задаче классификации $i$-vs-All).**"
   ]
  },
  {
   "cell_type": "code",
   "execution_count": 49,
   "metadata": {
    "collapsed": true
   },
   "outputs": [],
   "source": [
    "class_distr = np.bincount(y_train_150.astype('int'))\n",
    "acc_diff_vs_constant = {}\n",
    "\n",
    "for user_id in np.unique(y_train_150):\n",
    "    acc_diff_vs_constant[user_id] = cv_scores_by_user[user_id] - (sum(class_distr) - class_distr[user_id])/sum(class_distr)"
   ]
  },
  {
   "cell_type": "code",
   "execution_count": 50,
   "metadata": {
    "collapsed": true
   },
   "outputs": [],
   "source": [
    "num_better_than_default = (np.array(list(acc_diff_vs_constant.values())) > 0).sum()"
   ]
  },
  {
   "cell_type": "markdown",
   "metadata": {},
   "source": [
    "**<font color='red'>Вопрос 7. </font> Посчитайте долю пользователей, для которых логистическая регрессия на кросс-валидации дает прогноз лучше константного. Округлите до 3 знаков после запятой.**"
   ]
  },
  {
   "cell_type": "code",
   "execution_count": 51,
   "metadata": {
    "collapsed": true
   },
   "outputs": [
    {
     "name": "stdout",
     "output_type": "stream",
     "text": [
      "149\n"
     ]
    }
   ],
   "source": [
    "print(num_better_than_default)"
   ]
  },
  {
   "cell_type": "markdown",
   "metadata": {},
   "source": [
    "**Дальше будем строить кривые обучения для конкретного пользователя, допустим, для 128-го. Составьте новый бинарный вектор на основе *y_150users*, его значения будут 1 или 0 в зависимости от того, равен ли ID-шник пользователя 128.**"
   ]
  },
  {
   "cell_type": "code",
   "execution_count": 52,
   "metadata": {
    "collapsed": true
   },
   "outputs": [],
   "source": [
    "y_binary_128 = [int(id == 128) for id in y_150users]"
   ]
  },
  {
   "cell_type": "code",
   "execution_count": 53,
   "metadata": {
    "collapsed": true
   },
   "outputs": [],
   "source": [
    "from sklearn.model_selection import learning_curve\n",
    "\n",
    "def plot_learning_curve(val_train, val_test, train_sizes,\n",
    "                        xlabel='Training Set Size', ylabel='score'):\n",
    "    def plot_with_err(x, data, **kwargs):\n",
    "        mu, std = data.mean(1), data.std(1)\n",
    "        lines = plt.plot(x, mu, '-', **kwargs)\n",
    "        plt.fill_between(x, mu - std, mu + std, edgecolor='none',\n",
    "                         facecolor=lines[0].get_color(), alpha=0.2)\n",
    "    plot_with_err(train_sizes, val_train, label='train')\n",
    "    plot_with_err(train_sizes, val_test, label='valid')\n",
    "    plt.xlabel(xlabel); plt.ylabel(ylabel)\n",
    "    plt.legend(loc='lower right')"
   ]
  },
  {
   "cell_type": "markdown",
   "metadata": {},
   "source": [
    "**Посчитайте доли правильных ответов на кросс-валидации в задаче классификации \"user128-vs-All\" в зависимости от размера выборки. Не помешает посмотреть встроенную документацию для *learning_curve*.**"
   ]
  },
  {
   "cell_type": "code",
   "execution_count": 54,
   "metadata": {
    "collapsed": true
   },
   "outputs": [
    {
     "name": "stdout",
     "output_type": "stream",
     "text": [
      "Wall time: 6.94 s\n"
     ]
    }
   ],
   "source": [
    "%%time\n",
    "\n",
    "train_sizes = np.linspace(0.25, 1, 20)\n",
    "estimator = svm_grid_searcher2.best_estimator_\n",
    "n_train, val_train, val_test = learning_curve(estimator, X_sparse_150users, y_binary_128,\n",
    "                                              train_sizes=train_sizes, n_jobs=-1, cv=skf)"
   ]
  },
  {
   "cell_type": "code",
   "execution_count": 55,
   "metadata": {
    "collapsed": true
   },
   "outputs": [
    {
     "data": {
      "text/plain": "<Figure size 432x288 with 1 Axes>",
      "image/png": "[encoded data removed]"
     },
     "metadata": {
      "needs_background": "light"
     },
     "output_type": "display_data"
    }
   ],
   "source": [
    "plot_learning_curve(val_train, val_test, n_train, \n",
    "                    xlabel='train_size', ylabel='accuracy')"
   ]
  },
  {
   "cell_type": "markdown",
   "metadata": {
    "pycharm": {
     "name": "#%% md\n"
    }
   },
   "source": [
    "**Сделайте выводы о том, помогут ли алгоритму новые размеченные данные при той же постановке задачи.**"
   ]
  }
 ],
 "metadata": {
  "anaconda-cloud": {},
  "kernelspec": {
   "display_name": "Python 3",
   "language": "python",
   "name": "python3"
  },
  "language_info": {
   "codemirror_mode": {
    "name": "ipython",
    "version": 3
   },
   "file_extension": ".py",
   "mimetype": "text/x-python",
   "name": "python",
   "nbconvert_exporter": "python",
   "pygments_lexer": "ipython3",
   "version": "3.6.4"
  }
 },
 "nbformat": 4,
 "nbformat_minor": 1
}