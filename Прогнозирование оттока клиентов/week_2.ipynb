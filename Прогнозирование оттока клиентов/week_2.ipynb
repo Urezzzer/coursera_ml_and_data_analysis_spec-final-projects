{
 "cells": [
  {
   "cell_type": "code",
   "execution_count": 1,
   "metadata": {
    "collapsed": true,
    "id": "ujagJYeYa1SR"
   },
   "outputs": [],
   "source": [
    "import pandas as pd\n",
    "import os\n",
    "\n",
    "from sklearn.model_selection import train_test_split"
   ]
  },
  {
   "cell_type": "code",
   "execution_count": 6,
   "metadata": {
    "collapsed": true,
    "id": "iUvbXcAxa1SU"
   },
   "outputs": [],
   "source": [
    "df = pd.read_csv('orange_small_churn_data.txt')\n",
    "labels = pd.read_csv('orange_small_churn_labels.txt', header=None)\n",
    "# df_train.dropna(axis=1, how='all', inplace=True)\n",
    "df['target'] = labels"
   ]
  },
  {
   "cell_type": "code",
   "execution_count": 7,
   "metadata": {
    "id": "elLHGzHka1Sg",
    "colab": {
     "base_uri": "https://localhost:8080/"
    },
    "outputId": "de03b6c1-1bec-4f69-c7d5-fb70c547838a"
   },
   "outputs": [
    {
     "data": {
      "text/plain": "(40000, 231)"
     },
     "execution_count": 7,
     "metadata": {},
     "output_type": "execute_result"
    }
   ],
   "source": [
    "df.shape"
   ]
  },
  {
   "cell_type": "markdown",
   "metadata": {
    "id": "KQcZ8cyR5fSA"
   },
   "source": [
    "Отделим hold-out dataset"
   ]
  },
  {
   "cell_type": "code",
   "execution_count": 8,
   "metadata": {
    "collapsed": true,
    "id": "pc6dUPfz5fSB"
   },
   "outputs": [],
   "source": [
    "df_train, df_ho = train_test_split(df, test_size=5000, shuffle=True)"
   ]
  },
  {
   "cell_type": "code",
   "execution_count": 9,
   "metadata": {
    "collapsed": true,
    "id": "lOFH6hJP5fSC"
   },
   "outputs": [],
   "source": [
    "df_ho.to_csv('hold_out_dataset.csv')"
   ]
  },
  {
   "cell_type": "markdown",
   "metadata": {
    "id": "Ma6oFgDo5fSD"
   },
   "source": [
    "Опишем способы, которыми можно обрабатывать категориальные признаки для подачи на вход модели"
   ]
  },
  {
   "cell_type": "markdown",
   "metadata": {
    "id": "IALNebfC5fSD"
   },
   "source": [
    "- one hot encoder: кодирование признаков в бинарные колонки; плохо подходит для моделей, основанных на деревьях\n",
    "    - sklearn.preprocessing.OneHotEncoder\n",
    "    - pandas.get_dummies\n",
    "- label encoder: замена значений категориальных признаков на целочисленные номера; плохо подходит для линейных моделей, так как задаёт отношения порядка на признаке, то есть добавляет ложную информацию (если реально порядка нет)\n",
    "    - sklearn.preprocessing.LabelEncoder\n",
    "    - sklearn.preprocessing.OrdinalEncoder\n",
    "- frequency encoding: кодируем значения частотой значения признака в колонке\n",
    "- mean target encoding: значения заменяются средними значениями целевой переменной внутри каждоый категории\n",
    "- Leave One Out Encoding: аналогично target encoding, но для вычисления среднего не используется текущая строка; приводит к уменьшению переобучения\n",
    "- хеширование: похоже на ohe, но получается гораздо меньше новых признаков; подходит для признаков с большим количеством уникальных значений"
   ]
  },
  {
   "cell_type": "markdown",
   "metadata": {
    "collapsed": true,
    "id": "-sc2XYIU5fSE"
   },
   "source": [
    "Ключевой метрикой качества выберем ROC AUC.\n",
    "- наша задача - бинарная классификация\n",
    "- AUC не зависит от сбалансированности выборки\n",
    "- метрика не зависит от выбора порога"
   ]
  },
  {
   "cell_type": "markdown",
   "metadata": {
    "id": "Y7Dz00aj5fSF"
   },
   "source": [
    "Вспомогательные метрики:\n",
    "- precision - чтобы понять ошибки какого рода допускает модель\n",
    "- recall\n",
    "- F1\n",
    "- log loss с весами - чтобы оценить насколько сильно абсолютные значения предсказаний отличаются от истинных"
   ]
  },
  {
   "cell_type": "markdown",
   "metadata": {
    "id": "-2esNNn05fSF"
   },
   "source": [
    "После отделения hold-out датасета остаётся 35000 строк. Возьмём количество фолдов равным 7. Тогда на кросс-валидации выборка делится в отношении 1 / 6.\n",
    "\n",
    "Стратегия кросс-валидации:\n",
    "- stratified k-fold: выборка несбалансирована, поэтому применим стратификацию\n",
    "- shuffle: перемешиваем выборку для равномерного распределения таргета по фолдам"
   ]
  }
 ],
 "metadata": {
  "colab": {
   "name": "week_1.ipynb",
   "provenance": [],
   "include_colab_link": true
  },
  "kernelspec": {
   "display_name": "Python 3",
   "language": "python",
   "name": "python3"
  },
  "language_info": {
   "codemirror_mode": {
    "name": "ipython",
    "version": 3
   },
   "file_extension": ".py",
   "mimetype": "text/x-python",
   "name": "python",
   "nbconvert_exporter": "python",
   "pygments_lexer": "ipython3",
   "version": "3.8.8"
  }
 },
 "nbformat": 4,
 "nbformat_minor": 0
}