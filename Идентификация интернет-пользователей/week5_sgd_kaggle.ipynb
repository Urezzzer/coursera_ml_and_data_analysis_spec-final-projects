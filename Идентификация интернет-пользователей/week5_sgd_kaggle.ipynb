{
 "cells": [
  {
   "cell_type": "markdown",
   "metadata": {},
   "source": [
    "<center>\n",
    "<img src=\"https://habrastorage.org/web/677/8e1/337/6778e1337c3d4b159d7e99df94227cb2.jpg\"/>\n",
    "## Специализация \"Машинное обучение и анализ данных\"\n",
    "<center>Автор материала: программист-исследователь Mail.Ru Group, старший преподаватель Факультета Компьютерных Наук ВШЭ [Юрий Кашницкий](https://yorko.github.io/)"
   ]
  },
  {
   "cell_type": "markdown",
   "metadata": {},
   "source": [
    "# <center> Capstone проект №1 <br> Идентификация пользователей по посещенным веб-страницам\n",
    "<img src='http://i.istockimg.com/file_thumbview_approve/21546327/5/stock-illustration-21546327-identification-de-l-utilisateur.jpg'>\n",
    "\n",
    "# <center>Неделя 5.  Соревнование Kaggle \"Catch Me If You Can\"\n",
    "\n",
    "На этой неделе мы вспомним про концепцию стохастического градиентного спуска и опробуем классификатор Scikit-learn SGDClassifier, который работает намного быстрее на больших выборках, чем алгоритмы, которые мы тестировали на 4 неделе. Также мы познакомимся с данными [соревнования](https://inclass.kaggle.com/c/catch-me-if-you-can-intruder-detection-through-webpage-session-tracking2) Kaggle по идентификации пользователей и сделаем в нем первые посылки. По итогам этой недели дополнительные баллы получат те, кто попадет в топ-30 публичного лидерборда соревнования.\n",
    "\n",
    "**В этой части проекта Вам могут быть полезны видеозаписи следующих лекций курса \"Обучение на размеченных данных\":**\n",
    "   - [Стохатический градиентный спуск](https://www.coursera.org/learn/supervised-learning/lecture/xRY50/stokhastichieskii-ghradiientnyi-spusk)\n",
    "   - [Линейные модели. Sklearn.linear_model. Классификация](https://www.coursera.org/learn/supervised-learning/lecture/EBg9t/linieinyie-modieli-sklearn-linear-model-klassifikatsiia)\n",
    "   \n",
    "**Также рекомендуется вернуться и просмотреть [задание](https://www.coursera.org/learn/supervised-learning/programming/t2Idc/linieinaia-rieghriessiia-i-stokhastichieskii-ghradiientnyi-spusk) \"Линейная регрессия и стохастический градиентный спуск\" 1 недели 2 курса специализации.**"
   ]
  },
  {
   "cell_type": "code",
   "execution_count": 104,
   "metadata": {
    "collapsed": true
   },
   "outputs": [],
   "source": [
    "from __future__ import division, print_function\n",
    "# отключим всякие предупреждения Anaconda\n",
    "import warnings\n",
    "warnings.filterwarnings('ignore')\n",
    "\n",
    "from typing import Tuple\n",
    "from glob import glob\n",
    "import os\n",
    "from tqdm import tqdm\n",
    "import numpy as np\n",
    "import pandas as pd\n",
    "pd.set_option('display.max.columns', 25)\n",
    "import pickle\n",
    "from scipy.sparse import csr_matrix\n",
    "import plotly.express as px\n",
    "%matplotlib inline\n",
    "from matplotlib import pyplot as plt\n",
    "\n",
    "from datetime import datetime, timedelta\n",
    "\n",
    "from sklearn.feature_extraction.text import CountVectorizer\n",
    "from sklearn.compose import ColumnTransformer, make_column_selector, make_column_transformer\n",
    "from sklearn.pipeline import Pipeline, FeatureUnion, make_pipeline\n",
    "from sklearn.preprocessing import StandardScaler\n",
    "from sklearn.linear_model import SGDClassifier\n",
    "from sklearn.model_selection import cross_val_score\n",
    "from sklearn import metrics"
   ]
  },
  {
   "cell_type": "markdown",
   "metadata": {},
   "source": [
    "**Считаем данные [соревнования](https://inclass.kaggle.com/c/catch-me-if-you-can-intruder-detection-through-webpage-session-tracking2) в DataFrame train_df и test_df (обучающая и тестовая выборки).**"
   ]
  },
  {
   "cell_type": "code",
   "execution_count": 31,
   "metadata": {
    "collapsed": true
   },
   "outputs": [],
   "source": [
    "# Поменяйте на свой путь к данным\n",
    "PATH_TO_DATA = 'championship_data'"
   ]
  },
  {
   "cell_type": "code",
   "execution_count": 32,
   "metadata": {
    "collapsed": true
   },
   "outputs": [],
   "source": [
    "train_df = pd.read_csv(os.path.join(PATH_TO_DATA, 'train_sessions.csv'),\n",
    "                       index_col='session_id')\n",
    "test_df = pd.read_csv(os.path.join(PATH_TO_DATA, 'test_sessions.csv'),\n",
    "                      index_col='session_id')"
   ]
  },
  {
   "cell_type": "code",
   "execution_count": 33,
   "outputs": [
    {
     "data": {
      "text/plain": "            site1                time1  site2                time2    site3  \\\nsession_id                                                                    \n1             718  2014-02-20 10:02:45    NaN                  NaN      NaN   \n2             890  2014-02-22 11:19:50  941.0  2014-02-22 11:19:50   3847.0   \n3           14769  2013-12-16 16:40:17   39.0  2013-12-16 16:40:18  14768.0   \n4             782  2014-03-28 10:52:12  782.0  2014-03-28 10:52:42    782.0   \n5              22  2014-02-28 10:53:05  177.0  2014-02-28 10:55:22    175.0   \n\n                          time3    site4                time4  site5  \\\nsession_id                                                             \n1                           NaN      NaN                  NaN    NaN   \n2           2014-02-22 11:19:51    941.0  2014-02-22 11:19:51  942.0   \n3           2013-12-16 16:40:19  14769.0  2013-12-16 16:40:19   37.0   \n4           2014-03-28 10:53:12    782.0  2014-03-28 10:53:42  782.0   \n5           2014-02-28 10:55:22    178.0  2014-02-28 10:55:23  177.0   \n\n                          time5   site6                time6    site7  \\\nsession_id                                                              \n1                           NaN     NaN                  NaN      NaN   \n2           2014-02-22 11:19:51  3846.0  2014-02-22 11:19:51   3847.0   \n3           2013-12-16 16:40:19    39.0  2013-12-16 16:40:19  14768.0   \n4           2014-03-28 10:54:12   782.0  2014-03-28 10:54:42    782.0   \n5           2014-02-28 10:55:23   178.0  2014-02-28 10:55:59    175.0   \n\n                          time7    site8                time8    site9  \\\nsession_id                                                               \n1                           NaN      NaN                  NaN      NaN   \n2           2014-02-22 11:19:52   3846.0  2014-02-22 11:19:52   1516.0   \n3           2013-12-16 16:40:20  14768.0  2013-12-16 16:40:21  14768.0   \n4           2014-03-28 10:55:12    782.0  2014-03-28 10:55:42    782.0   \n5           2014-02-28 10:55:59    177.0  2014-02-28 10:55:59    177.0   \n\n                          time9   site10               time10  target  \nsession_id                                                             \n1                           NaN      NaN                  NaN       0  \n2           2014-02-22 11:20:15   1518.0  2014-02-22 11:20:16       0  \n3           2013-12-16 16:40:22  14768.0  2013-12-16 16:40:24       0  \n4           2014-03-28 10:56:12    782.0  2014-03-28 10:56:42       0  \n5           2014-02-28 10:57:06    178.0  2014-02-28 10:57:11       0  ",
      "text/html": "<div>\n<style scoped>\n    .dataframe tbody tr th:only-of-type {\n        vertical-align: middle;\n    }\n\n    .dataframe tbody tr th {\n        vertical-align: top;\n    }\n\n    .dataframe thead th {\n        text-align: right;\n    }\n</style>\n<table border=\"1\" class=\"dataframe\">\n  <thead>\n    <tr style=\"text-align: right;\">\n      <th></th>\n      <th>site1</th>\n      <th>time1</th>\n      <th>site2</th>\n      <th>time2</th>\n      <th>site3</th>\n      <th>time3</th>\n      <th>site4</th>\n      <th>time4</th>\n      <th>site5</th>\n      <th>time5</th>\n      <th>site6</th>\n      <th>time6</th>\n      <th>site7</th>\n      <th>time7</th>\n      <th>site8</th>\n      <th>time8</th>\n      <th>site9</th>\n      <th>time9</th>\n      <th>site10</th>\n      <th>time10</th>\n      <th>target</th>\n    </tr>\n    <tr>\n      <th>session_id</th>\n      <th></th>\n      <th></th>\n      <th></th>\n      <th></th>\n      <th></th>\n      <th></th>\n      <th></th>\n      <th></th>\n      <th></th>\n      <th></th>\n      <th></th>\n      <th></th>\n      <th></th>\n      <th></th>\n      <th></th>\n      <th></th>\n      <th></th>\n      <th></th>\n      <th></th>\n      <th></th>\n      <th></th>\n    </tr>\n  </thead>\n  <tbody>\n    <tr>\n      <th>1</th>\n      <td>718</td>\n      <td>2014-02-20 10:02:45</td>\n      <td>NaN</td>\n      <td>NaN</td>\n      <td>NaN</td>\n      <td>NaN</td>\n      <td>NaN</td>\n      <td>NaN</td>\n      <td>NaN</td>\n      <td>NaN</td>\n      <td>NaN</td>\n      <td>NaN</td>\n      <td>NaN</td>\n      <td>NaN</td>\n      <td>NaN</td>\n      <td>NaN</td>\n      <td>NaN</td>\n      <td>NaN</td>\n      <td>NaN</td>\n      <td>NaN</td>\n      <td>0</td>\n    </tr>\n    <tr>\n      <th>2</th>\n      <td>890</td>\n      <td>2014-02-22 11:19:50</td>\n      <td>941.0</td>\n      <td>2014-02-22 11:19:50</td>\n      <td>3847.0</td>\n      <td>2014-02-22 11:19:51</td>\n      <td>941.0</td>\n      <td>2014-02-22 11:19:51</td>\n      <td>942.0</td>\n      <td>2014-02-22 11:19:51</td>\n      <td>3846.0</td>\n      <td>2014-02-22 11:19:51</td>\n      <td>3847.0</td>\n      <td>2014-02-22 11:19:52</td>\n      <td>3846.0</td>\n      <td>2014-02-22 11:19:52</td>\n      <td>1516.0</td>\n      <td>2014-02-22 11:20:15</td>\n      <td>1518.0</td>\n      <td>2014-02-22 11:20:16</td>\n      <td>0</td>\n    </tr>\n    <tr>\n      <th>3</th>\n      <td>14769</td>\n      <td>2013-12-16 16:40:17</td>\n      <td>39.0</td>\n      <td>2013-12-16 16:40:18</td>\n      <td>14768.0</td>\n      <td>2013-12-16 16:40:19</td>\n      <td>14769.0</td>\n      <td>2013-12-16 16:40:19</td>\n      <td>37.0</td>\n      <td>2013-12-16 16:40:19</td>\n      <td>39.0</td>\n      <td>2013-12-16 16:40:19</td>\n      <td>14768.0</td>\n      <td>2013-12-16 16:40:20</td>\n      <td>14768.0</td>\n      <td>2013-12-16 16:40:21</td>\n      <td>14768.0</td>\n      <td>2013-12-16 16:40:22</td>\n      <td>14768.0</td>\n      <td>2013-12-16 16:40:24</td>\n      <td>0</td>\n    </tr>\n    <tr>\n      <th>4</th>\n      <td>782</td>\n      <td>2014-03-28 10:52:12</td>\n      <td>782.0</td>\n      <td>2014-03-28 10:52:42</td>\n      <td>782.0</td>\n      <td>2014-03-28 10:53:12</td>\n      <td>782.0</td>\n      <td>2014-03-28 10:53:42</td>\n      <td>782.0</td>\n      <td>2014-03-28 10:54:12</td>\n      <td>782.0</td>\n      <td>2014-03-28 10:54:42</td>\n      <td>782.0</td>\n      <td>2014-03-28 10:55:12</td>\n      <td>782.0</td>\n      <td>2014-03-28 10:55:42</td>\n      <td>782.0</td>\n      <td>2014-03-28 10:56:12</td>\n      <td>782.0</td>\n      <td>2014-03-28 10:56:42</td>\n      <td>0</td>\n    </tr>\n    <tr>\n      <th>5</th>\n      <td>22</td>\n      <td>2014-02-28 10:53:05</td>\n      <td>177.0</td>\n      <td>2014-02-28 10:55:22</td>\n      <td>175.0</td>\n      <td>2014-02-28 10:55:22</td>\n      <td>178.0</td>\n      <td>2014-02-28 10:55:23</td>\n      <td>177.0</td>\n      <td>2014-02-28 10:55:23</td>\n      <td>178.0</td>\n      <td>2014-02-28 10:55:59</td>\n      <td>175.0</td>\n      <td>2014-02-28 10:55:59</td>\n      <td>177.0</td>\n      <td>2014-02-28 10:55:59</td>\n      <td>177.0</td>\n      <td>2014-02-28 10:57:06</td>\n      <td>178.0</td>\n      <td>2014-02-28 10:57:11</td>\n      <td>0</td>\n    </tr>\n  </tbody>\n</table>\n</div>"
     },
     "execution_count": 33,
     "metadata": {},
     "output_type": "execute_result"
    }
   ],
   "source": [
    "train_df.head()"
   ],
   "metadata": {
    "collapsed": false,
    "pycharm": {
     "name": "#%%\n"
    }
   }
  },
  {
   "cell_type": "code",
   "execution_count": 34,
   "metadata": {},
   "outputs": [
    {
     "data": {
      "text/plain": "            site1                time1   site2                time2  site3  \\\nsession_id                                                                   \n1              29  2014-10-04 11:19:53    35.0  2014-10-04 11:19:53   22.0   \n2             782  2014-07-03 11:00:28   782.0  2014-07-03 11:00:53  782.0   \n3              55  2014-12-05 15:55:12    55.0  2014-12-05 15:55:13   55.0   \n4            1023  2014-11-04 10:03:19  1022.0  2014-11-04 10:03:19   50.0   \n5             301  2014-05-16 15:05:31   301.0  2014-05-16 15:05:32  301.0   \n\n                          time3  site4                time4  site5  \\\nsession_id                                                           \n1           2014-10-04 11:19:54  321.0  2014-10-04 11:19:54   23.0   \n2           2014-07-03 11:00:58  782.0  2014-07-03 11:01:06  782.0   \n3           2014-12-05 15:55:14   55.0  2014-12-05 15:56:15   55.0   \n4           2014-11-04 10:03:20  222.0  2014-11-04 10:03:21  202.0   \n5           2014-05-16 15:05:33   66.0  2014-05-16 15:05:39   67.0   \n\n                          time5   site6                time6   site7  \\\nsession_id                                                             \n1           2014-10-04 11:19:54  2211.0  2014-10-04 11:19:54  6730.0   \n2           2014-07-03 11:01:09   782.0  2014-07-03 11:01:10   782.0   \n3           2014-12-05 15:56:16    55.0  2014-12-05 15:56:17    55.0   \n4           2014-11-04 10:03:21  3374.0  2014-11-04 10:03:22    50.0   \n5           2014-05-16 15:05:40    69.0  2014-05-16 15:05:40    70.0   \n\n                          time7  site8                time8    site9  \\\nsession_id                                                             \n1           2014-10-04 11:19:54   21.0  2014-10-04 11:19:54  44582.0   \n2           2014-07-03 11:01:23  782.0  2014-07-03 11:01:29    782.0   \n3           2014-12-05 15:56:18   55.0  2014-12-05 15:56:19   1445.0   \n4           2014-11-04 10:03:22   48.0  2014-11-04 10:03:22     48.0   \n5           2014-05-16 15:05:40   68.0  2014-05-16 15:05:40     71.0   \n\n                          time9   site10               time10  \nsession_id                                                     \n1           2014-10-04 11:20:00  15336.0  2014-10-04 11:20:00  \n2           2014-07-03 11:01:30    782.0  2014-07-03 11:01:53  \n3           2014-12-05 15:56:33   1445.0  2014-12-05 15:56:36  \n4           2014-11-04 10:03:23   3374.0  2014-11-04 10:03:23  \n5           2014-05-16 15:05:40    167.0  2014-05-16 15:05:44  ",
      "text/html": "<div>\n<style scoped>\n    .dataframe tbody tr th:only-of-type {\n        vertical-align: middle;\n    }\n\n    .dataframe tbody tr th {\n        vertical-align: top;\n    }\n\n    .dataframe thead th {\n        text-align: right;\n    }\n</style>\n<table border=\"1\" class=\"dataframe\">\n  <thead>\n    <tr style=\"text-align: right;\">\n      <th></th>\n      <th>site1</th>\n      <th>time1</th>\n      <th>site2</th>\n      <th>time2</th>\n      <th>site3</th>\n      <th>time3</th>\n      <th>site4</th>\n      <th>time4</th>\n      <th>site5</th>\n      <th>time5</th>\n      <th>site6</th>\n      <th>time6</th>\n      <th>site7</th>\n      <th>time7</th>\n      <th>site8</th>\n      <th>time8</th>\n      <th>site9</th>\n      <th>time9</th>\n      <th>site10</th>\n      <th>time10</th>\n    </tr>\n    <tr>\n      <th>session_id</th>\n      <th></th>\n      <th></th>\n      <th></th>\n      <th></th>\n      <th></th>\n      <th></th>\n      <th></th>\n      <th></th>\n      <th></th>\n      <th></th>\n      <th></th>\n      <th></th>\n      <th></th>\n      <th></th>\n      <th></th>\n      <th></th>\n      <th></th>\n      <th></th>\n      <th></th>\n      <th></th>\n    </tr>\n  </thead>\n  <tbody>\n    <tr>\n      <th>1</th>\n      <td>29</td>\n      <td>2014-10-04 11:19:53</td>\n      <td>35.0</td>\n      <td>2014-10-04 11:19:53</td>\n      <td>22.0</td>\n      <td>2014-10-04 11:19:54</td>\n      <td>321.0</td>\n      <td>2014-10-04 11:19:54</td>\n      <td>23.0</td>\n      <td>2014-10-04 11:19:54</td>\n      <td>2211.0</td>\n      <td>2014-10-04 11:19:54</td>\n      <td>6730.0</td>\n      <td>2014-10-04 11:19:54</td>\n      <td>21.0</td>\n      <td>2014-10-04 11:19:54</td>\n      <td>44582.0</td>\n      <td>2014-10-04 11:20:00</td>\n      <td>15336.0</td>\n      <td>2014-10-04 11:20:00</td>\n    </tr>\n    <tr>\n      <th>2</th>\n      <td>782</td>\n      <td>2014-07-03 11:00:28</td>\n      <td>782.0</td>\n      <td>2014-07-03 11:00:53</td>\n      <td>782.0</td>\n      <td>2014-07-03 11:00:58</td>\n      <td>782.0</td>\n      <td>2014-07-03 11:01:06</td>\n      <td>782.0</td>\n      <td>2014-07-03 11:01:09</td>\n      <td>782.0</td>\n      <td>2014-07-03 11:01:10</td>\n      <td>782.0</td>\n      <td>2014-07-03 11:01:23</td>\n      <td>782.0</td>\n      <td>2014-07-03 11:01:29</td>\n      <td>782.0</td>\n      <td>2014-07-03 11:01:30</td>\n      <td>782.0</td>\n      <td>2014-07-03 11:01:53</td>\n    </tr>\n    <tr>\n      <th>3</th>\n      <td>55</td>\n      <td>2014-12-05 15:55:12</td>\n      <td>55.0</td>\n      <td>2014-12-05 15:55:13</td>\n      <td>55.0</td>\n      <td>2014-12-05 15:55:14</td>\n      <td>55.0</td>\n      <td>2014-12-05 15:56:15</td>\n      <td>55.0</td>\n      <td>2014-12-05 15:56:16</td>\n      <td>55.0</td>\n      <td>2014-12-05 15:56:17</td>\n      <td>55.0</td>\n      <td>2014-12-05 15:56:18</td>\n      <td>55.0</td>\n      <td>2014-12-05 15:56:19</td>\n      <td>1445.0</td>\n      <td>2014-12-05 15:56:33</td>\n      <td>1445.0</td>\n      <td>2014-12-05 15:56:36</td>\n    </tr>\n    <tr>\n      <th>4</th>\n      <td>1023</td>\n      <td>2014-11-04 10:03:19</td>\n      <td>1022.0</td>\n      <td>2014-11-04 10:03:19</td>\n      <td>50.0</td>\n      <td>2014-11-04 10:03:20</td>\n      <td>222.0</td>\n      <td>2014-11-04 10:03:21</td>\n      <td>202.0</td>\n      <td>2014-11-04 10:03:21</td>\n      <td>3374.0</td>\n      <td>2014-11-04 10:03:22</td>\n      <td>50.0</td>\n      <td>2014-11-04 10:03:22</td>\n      <td>48.0</td>\n      <td>2014-11-04 10:03:22</td>\n      <td>48.0</td>\n      <td>2014-11-04 10:03:23</td>\n      <td>3374.0</td>\n      <td>2014-11-04 10:03:23</td>\n    </tr>\n    <tr>\n      <th>5</th>\n      <td>301</td>\n      <td>2014-05-16 15:05:31</td>\n      <td>301.0</td>\n      <td>2014-05-16 15:05:32</td>\n      <td>301.0</td>\n      <td>2014-05-16 15:05:33</td>\n      <td>66.0</td>\n      <td>2014-05-16 15:05:39</td>\n      <td>67.0</td>\n      <td>2014-05-16 15:05:40</td>\n      <td>69.0</td>\n      <td>2014-05-16 15:05:40</td>\n      <td>70.0</td>\n      <td>2014-05-16 15:05:40</td>\n      <td>68.0</td>\n      <td>2014-05-16 15:05:40</td>\n      <td>71.0</td>\n      <td>2014-05-16 15:05:40</td>\n      <td>167.0</td>\n      <td>2014-05-16 15:05:44</td>\n    </tr>\n  </tbody>\n</table>\n</div>"
     },
     "execution_count": 34,
     "metadata": {},
     "output_type": "execute_result"
    }
   ],
   "source": [
    "test_df.head()"
   ]
  },
  {
   "cell_type": "code",
   "execution_count": 35,
   "outputs": [],
   "source": [
    "train_df[[f'time{i}' for i in range(1, 11)]] = train_df[[f'time{i}' for i in range(1, 11)]].apply(pd.to_datetime)\n",
    "test_df[[f'time{i}' for i in range(1, 11)]] = test_df[[f'time{i}' for i in range(1, 11)]].apply(pd.to_datetime)"
   ],
   "metadata": {
    "collapsed": false,
    "pycharm": {
     "name": "#%%\n"
    }
   }
  },
  {
   "cell_type": "code",
   "execution_count": 39,
   "outputs": [],
   "source": [
    "train_df['session_timespan'] = (train_df['time10'] - train_df['time1']).apply(lambda x: x.total_seconds())\n",
    "\n",
    "train_df['unique_sites'] = train_df.nunique(axis=1)\n",
    "train_df['start_hour'] = train_df['time1'].apply(lambda x: x.hour)\n",
    "train_df['day_of_week'] = train_df['time1'].apply(lambda x: x.weekday())\n",
    "train_df['end_hour'] = train_df['time10'].apply(lambda x: x.hour)\n",
    "train_df['start_month'] = train_df['time1'].apply(lambda x: x.month)\n",
    "train_df['start_year'] = train_df['time1'].apply(lambda x: x.year)\n",
    "train_df['site_time'] = round(train_df['session_timespan'] / train_df['unique_sites'], 2)"
   ],
   "metadata": {
    "collapsed": false,
    "pycharm": {
     "name": "#%%\n"
    }
   }
  },
  {
   "cell_type": "code",
   "execution_count": 40,
   "outputs": [],
   "source": [
    "test_df['session_timespan'] = (test_df['time10'] - test_df['time1']).apply(lambda x: x.total_seconds())\n",
    "\n",
    "test_df['unique_sites'] = test_df.nunique(axis=1)\n",
    "test_df['start_hour'] = test_df['time1'].apply(lambda x: x.hour)\n",
    "test_df['day_of_week'] = test_df['time1'].apply(lambda x: x.weekday())\n",
    "test_df['end_hour'] = test_df['time10'].apply(lambda x: x.hour)\n",
    "test_df['start_month'] = test_df['time1'].apply(lambda x: x.month)\n",
    "test_df['start_year'] = test_df['time1'].apply(lambda x: x.year)\n",
    "test_df['site_time'] = round(test_df['session_timespan'] / test_df['unique_sites'], 2)"
   ],
   "metadata": {
    "collapsed": false,
    "pycharm": {
     "name": "#%%\n"
    }
   }
  },
  {
   "cell_type": "markdown",
   "source": [
    "**Пока для прогноза будем использовать только индексы посещенных сайтов. Индексы нумеровались с 1, так что заменим пропуски на нули.**"
   ],
   "metadata": {
    "collapsed": false
   }
  },
  {
   "cell_type": "code",
   "execution_count": 41,
   "outputs": [],
   "source": [
    "train_df.fillna(0, inplace=True)\n",
    "test_df.fillna(0, inplace=True)"
   ],
   "metadata": {
    "collapsed": false,
    "pycharm": {
     "name": "#%%\n"
    }
   }
  },
  {
   "cell_type": "markdown",
   "source": [
    "В обучающей выборке видим следующие признаки:\n",
    "    - site1 – индекс первого посещенного сайта в сессии\n",
    "    - time1 – время посещения первого сайта в сессии\n",
    "    - ...\n",
    "    - site10 – индекс 10-го посещенного сайта в сессии\n",
    "    - time10 – время посещения 10-го сайта в сессии\n",
    "    - user_id – ID пользователя\n",
    "\n",
    "Сессии пользователей выделены таким образом, что они не могут быть длинее получаса или 10 сайтов. То есть сессия считается оконченной либо когда пользователь посетил 10 сайтов подряд, либо когда сессия заняла по времени более 30 минут."
   ],
   "metadata": {
    "collapsed": false
   }
  },
  {
   "cell_type": "markdown",
   "source": [
    "**Посмотрим на статистику признаков.**\n",
    "\n",
    "Пропуски возникают там, где сессии короткие (менее 10 сайтов). Скажем, если человек 1 января 2015 года посетил *vk.com* в 20:01, потом *yandex.ru* в 20:29, затем *google.com* в 20:33, то первая его сессия будет состоять только из двух сайтов (site1 – ID сайта *vk.com*, time1 – 2015-01-01 20:01:00, site2 – ID сайта  *yandex.ru*, time2 – 2015-01-01 20:29:00, остальные признаки – NaN), а начиная с *google.com* пойдет новая сессия, потому что уже прошло более 30 минут с момента посещения *vk.com*."
   ],
   "metadata": {
    "collapsed": false
   }
  },
  {
   "cell_type": "code",
   "execution_count": 42,
   "outputs": [
    {
     "name": "stdout",
     "output_type": "stream",
     "text": [
      "<class 'pandas.core.frame.DataFrame'>\n",
      "Int64Index: 253561 entries, 1 to 253561\n",
      "Data columns (total 29 columns):\n",
      " #   Column            Non-Null Count   Dtype         \n",
      "---  ------            --------------   -----         \n",
      " 0   site1             253561 non-null  int64         \n",
      " 1   time1             253561 non-null  datetime64[ns]\n",
      " 2   site2             253561 non-null  float64       \n",
      " 3   time2             253561 non-null  object        \n",
      " 4   site3             253561 non-null  float64       \n",
      " 5   time3             253561 non-null  object        \n",
      " 6   site4             253561 non-null  float64       \n",
      " 7   time4             253561 non-null  object        \n",
      " 8   site5             253561 non-null  float64       \n",
      " 9   time5             253561 non-null  object        \n",
      " 10  site6             253561 non-null  float64       \n",
      " 11  time6             253561 non-null  object        \n",
      " 12  site7             253561 non-null  float64       \n",
      " 13  time7             253561 non-null  object        \n",
      " 14  site8             253561 non-null  float64       \n",
      " 15  time8             253561 non-null  object        \n",
      " 16  site9             253561 non-null  float64       \n",
      " 17  time9             253561 non-null  object        \n",
      " 18  site10            253561 non-null  float64       \n",
      " 19  time10            253561 non-null  object        \n",
      " 20  target            253561 non-null  int64         \n",
      " 21  session_timespan  253561 non-null  float64       \n",
      " 22  unique_sites      253561 non-null  int64         \n",
      " 23  start_hour        253561 non-null  int64         \n",
      " 24  day_of_week       253561 non-null  int64         \n",
      " 25  end_hour          253561 non-null  float64       \n",
      " 26  start_month       253561 non-null  int64         \n",
      " 27  start_year        253561 non-null  int64         \n",
      " 28  site_time         253561 non-null  float64       \n",
      "dtypes: datetime64[ns](1), float64(12), int64(7), object(9)\n",
      "memory usage: 58.0+ MB\n"
     ]
    }
   ],
   "source": [
    "train_df.info()"
   ],
   "metadata": {
    "collapsed": false,
    "pycharm": {
     "name": "#%%\n"
    }
   }
  },
  {
   "cell_type": "code",
   "execution_count": 43,
   "outputs": [
    {
     "data": {
      "text/plain": "            site1               time1   site2                time2  site3  \\\nsession_id                                                                  \n1              29 2014-10-04 11:19:53    35.0  2014-10-04 11:19:53   22.0   \n2             782 2014-07-03 11:00:28   782.0  2014-07-03 11:00:53  782.0   \n3              55 2014-12-05 15:55:12    55.0  2014-12-05 15:55:13   55.0   \n4            1023 2014-11-04 10:03:19  1022.0  2014-11-04 10:03:19   50.0   \n5             301 2014-05-16 15:05:31   301.0  2014-05-16 15:05:32  301.0   \n\n                          time3  site4                time4  site5  \\\nsession_id                                                           \n1           2014-10-04 11:19:54  321.0  2014-10-04 11:19:54   23.0   \n2           2014-07-03 11:00:58  782.0  2014-07-03 11:01:06  782.0   \n3           2014-12-05 15:55:14   55.0  2014-12-05 15:56:15   55.0   \n4           2014-11-04 10:03:20  222.0  2014-11-04 10:03:21  202.0   \n5           2014-05-16 15:05:33   66.0  2014-05-16 15:05:39   67.0   \n\n                          time5   site6                time6  ...    site9  \\\nsession_id                                                    ...            \n1           2014-10-04 11:19:54  2211.0  2014-10-04 11:19:54  ...  44582.0   \n2           2014-07-03 11:01:09   782.0  2014-07-03 11:01:10  ...    782.0   \n3           2014-12-05 15:56:16    55.0  2014-12-05 15:56:17  ...   1445.0   \n4           2014-11-04 10:03:21  3374.0  2014-11-04 10:03:22  ...     48.0   \n5           2014-05-16 15:05:40    69.0  2014-05-16 15:05:40  ...     71.0   \n\n                          time9   site10               time10  \\\nsession_id                                                      \n1           2014-10-04 11:20:00  15336.0  2014-10-04 11:20:00   \n2           2014-07-03 11:01:30    782.0  2014-07-03 11:01:53   \n3           2014-12-05 15:56:33   1445.0  2014-12-05 15:56:36   \n4           2014-11-04 10:03:23   3374.0  2014-11-04 10:03:23   \n5           2014-05-16 15:05:40    167.0  2014-05-16 15:05:44   \n\n            session_timespan unique_sites  start_hour day_of_week  end_hour  \\\nsession_id                                                                    \n1                        7.0           14          11           5      11.0   \n2                       85.0           12          11           3      11.0   \n3                       84.0           13          15           4      15.0   \n4                        4.0           13          10           1      10.0   \n5                       13.0           15          15           4      15.0   \n\n            start_month  start_year  site_time  \nsession_id                                      \n1                    10        2014       0.50  \n2                     7        2014       7.08  \n3                    12        2014       6.46  \n4                    11        2014       0.31  \n5                     5        2014       0.87  \n\n[5 rows x 28 columns]",
      "text/html": "<div>\n<style scoped>\n    .dataframe tbody tr th:only-of-type {\n        vertical-align: middle;\n    }\n\n    .dataframe tbody tr th {\n        vertical-align: top;\n    }\n\n    .dataframe thead th {\n        text-align: right;\n    }\n</style>\n<table border=\"1\" class=\"dataframe\">\n  <thead>\n    <tr style=\"text-align: right;\">\n      <th></th>\n      <th>site1</th>\n      <th>time1</th>\n      <th>site2</th>\n      <th>time2</th>\n      <th>site3</th>\n      <th>time3</th>\n      <th>site4</th>\n      <th>time4</th>\n      <th>site5</th>\n      <th>time5</th>\n      <th>site6</th>\n      <th>time6</th>\n      <th>...</th>\n      <th>site9</th>\n      <th>time9</th>\n      <th>site10</th>\n      <th>time10</th>\n      <th>session_timespan</th>\n      <th>unique_sites</th>\n      <th>start_hour</th>\n      <th>day_of_week</th>\n      <th>end_hour</th>\n      <th>start_month</th>\n      <th>start_year</th>\n      <th>site_time</th>\n    </tr>\n    <tr>\n      <th>session_id</th>\n      <th></th>\n      <th></th>\n      <th></th>\n      <th></th>\n      <th></th>\n      <th></th>\n      <th></th>\n      <th></th>\n      <th></th>\n      <th></th>\n      <th></th>\n      <th></th>\n      <th></th>\n      <th></th>\n      <th></th>\n      <th></th>\n      <th></th>\n      <th></th>\n      <th></th>\n      <th></th>\n      <th></th>\n      <th></th>\n      <th></th>\n      <th></th>\n      <th></th>\n    </tr>\n  </thead>\n  <tbody>\n    <tr>\n      <th>1</th>\n      <td>29</td>\n      <td>2014-10-04 11:19:53</td>\n      <td>35.0</td>\n      <td>2014-10-04 11:19:53</td>\n      <td>22.0</td>\n      <td>2014-10-04 11:19:54</td>\n      <td>321.0</td>\n      <td>2014-10-04 11:19:54</td>\n      <td>23.0</td>\n      <td>2014-10-04 11:19:54</td>\n      <td>2211.0</td>\n      <td>2014-10-04 11:19:54</td>\n      <td>...</td>\n      <td>44582.0</td>\n      <td>2014-10-04 11:20:00</td>\n      <td>15336.0</td>\n      <td>2014-10-04 11:20:00</td>\n      <td>7.0</td>\n      <td>14</td>\n      <td>11</td>\n      <td>5</td>\n      <td>11.0</td>\n      <td>10</td>\n      <td>2014</td>\n      <td>0.50</td>\n    </tr>\n    <tr>\n      <th>2</th>\n      <td>782</td>\n      <td>2014-07-03 11:00:28</td>\n      <td>782.0</td>\n      <td>2014-07-03 11:00:53</td>\n      <td>782.0</td>\n      <td>2014-07-03 11:00:58</td>\n      <td>782.0</td>\n      <td>2014-07-03 11:01:06</td>\n      <td>782.0</td>\n      <td>2014-07-03 11:01:09</td>\n      <td>782.0</td>\n      <td>2014-07-03 11:01:10</td>\n      <td>...</td>\n      <td>782.0</td>\n      <td>2014-07-03 11:01:30</td>\n      <td>782.0</td>\n      <td>2014-07-03 11:01:53</td>\n      <td>85.0</td>\n      <td>12</td>\n      <td>11</td>\n      <td>3</td>\n      <td>11.0</td>\n      <td>7</td>\n      <td>2014</td>\n      <td>7.08</td>\n    </tr>\n    <tr>\n      <th>3</th>\n      <td>55</td>\n      <td>2014-12-05 15:55:12</td>\n      <td>55.0</td>\n      <td>2014-12-05 15:55:13</td>\n      <td>55.0</td>\n      <td>2014-12-05 15:55:14</td>\n      <td>55.0</td>\n      <td>2014-12-05 15:56:15</td>\n      <td>55.0</td>\n      <td>2014-12-05 15:56:16</td>\n      <td>55.0</td>\n      <td>2014-12-05 15:56:17</td>\n      <td>...</td>\n      <td>1445.0</td>\n      <td>2014-12-05 15:56:33</td>\n      <td>1445.0</td>\n      <td>2014-12-05 15:56:36</td>\n      <td>84.0</td>\n      <td>13</td>\n      <td>15</td>\n      <td>4</td>\n      <td>15.0</td>\n      <td>12</td>\n      <td>2014</td>\n      <td>6.46</td>\n    </tr>\n    <tr>\n      <th>4</th>\n      <td>1023</td>\n      <td>2014-11-04 10:03:19</td>\n      <td>1022.0</td>\n      <td>2014-11-04 10:03:19</td>\n      <td>50.0</td>\n      <td>2014-11-04 10:03:20</td>\n      <td>222.0</td>\n      <td>2014-11-04 10:03:21</td>\n      <td>202.0</td>\n      <td>2014-11-04 10:03:21</td>\n      <td>3374.0</td>\n      <td>2014-11-04 10:03:22</td>\n      <td>...</td>\n      <td>48.0</td>\n      <td>2014-11-04 10:03:23</td>\n      <td>3374.0</td>\n      <td>2014-11-04 10:03:23</td>\n      <td>4.0</td>\n      <td>13</td>\n      <td>10</td>\n      <td>1</td>\n      <td>10.0</td>\n      <td>11</td>\n      <td>2014</td>\n      <td>0.31</td>\n    </tr>\n    <tr>\n      <th>5</th>\n      <td>301</td>\n      <td>2014-05-16 15:05:31</td>\n      <td>301.0</td>\n      <td>2014-05-16 15:05:32</td>\n      <td>301.0</td>\n      <td>2014-05-16 15:05:33</td>\n      <td>66.0</td>\n      <td>2014-05-16 15:05:39</td>\n      <td>67.0</td>\n      <td>2014-05-16 15:05:40</td>\n      <td>69.0</td>\n      <td>2014-05-16 15:05:40</td>\n      <td>...</td>\n      <td>71.0</td>\n      <td>2014-05-16 15:05:40</td>\n      <td>167.0</td>\n      <td>2014-05-16 15:05:44</td>\n      <td>13.0</td>\n      <td>15</td>\n      <td>15</td>\n      <td>4</td>\n      <td>15.0</td>\n      <td>5</td>\n      <td>2014</td>\n      <td>0.87</td>\n    </tr>\n  </tbody>\n</table>\n<p>5 rows × 28 columns</p>\n</div>"
     },
     "execution_count": 43,
     "metadata": {},
     "output_type": "execute_result"
    }
   ],
   "source": [
    "test_df.head()"
   ],
   "metadata": {
    "collapsed": false,
    "pycharm": {
     "name": "#%%\n"
    }
   }
  },
  {
   "cell_type": "code",
   "execution_count": 44,
   "outputs": [
    {
     "name": "stdout",
     "output_type": "stream",
     "text": [
      "<class 'pandas.core.frame.DataFrame'>\n",
      "Int64Index: 82797 entries, 1 to 82797\n",
      "Data columns (total 28 columns):\n",
      " #   Column            Non-Null Count  Dtype         \n",
      "---  ------            --------------  -----         \n",
      " 0   site1             82797 non-null  int64         \n",
      " 1   time1             82797 non-null  datetime64[ns]\n",
      " 2   site2             82797 non-null  float64       \n",
      " 3   time2             82797 non-null  object        \n",
      " 4   site3             82797 non-null  float64       \n",
      " 5   time3             82797 non-null  object        \n",
      " 6   site4             82797 non-null  float64       \n",
      " 7   time4             82797 non-null  object        \n",
      " 8   site5             82797 non-null  float64       \n",
      " 9   time5             82797 non-null  object        \n",
      " 10  site6             82797 non-null  float64       \n",
      " 11  time6             82797 non-null  object        \n",
      " 12  site7             82797 non-null  float64       \n",
      " 13  time7             82797 non-null  object        \n",
      " 14  site8             82797 non-null  float64       \n",
      " 15  time8             82797 non-null  object        \n",
      " 16  site9             82797 non-null  float64       \n",
      " 17  time9             82797 non-null  object        \n",
      " 18  site10            82797 non-null  float64       \n",
      " 19  time10            82797 non-null  object        \n",
      " 20  session_timespan  82797 non-null  float64       \n",
      " 21  unique_sites      82797 non-null  int64         \n",
      " 22  start_hour        82797 non-null  int64         \n",
      " 23  day_of_week       82797 non-null  int64         \n",
      " 24  end_hour          82797 non-null  float64       \n",
      " 25  start_month       82797 non-null  int64         \n",
      " 26  start_year        82797 non-null  int64         \n",
      " 27  site_time         82797 non-null  float64       \n",
      "dtypes: datetime64[ns](1), float64(12), int64(6), object(9)\n",
      "memory usage: 18.3+ MB\n"
     ]
    }
   ],
   "source": [
    "test_df.info()"
   ],
   "metadata": {
    "collapsed": false,
    "pycharm": {
     "name": "#%%\n"
    }
   }
  },
  {
   "cell_type": "markdown",
   "source": [
    "**В обучающей выборке – 2297 сессий одного пользователя (Alice) и 251264 сессий – других пользователей, не Элис. Дисбаланс классов очень сильный, и смотреть на долю верных ответов (accuracy) непоказательно.**"
   ],
   "metadata": {
    "collapsed": false
   }
  },
  {
   "cell_type": "code",
   "execution_count": 45,
   "outputs": [
    {
     "data": {
      "text/plain": "0    251264\n1      2297\nName: target, dtype: int64"
     },
     "execution_count": 45,
     "metadata": {},
     "output_type": "execute_result"
    }
   ],
   "source": [
    "train_df['target'].value_counts()"
   ],
   "metadata": {
    "collapsed": false,
    "pycharm": {
     "name": "#%%\n"
    }
   }
  },
  {
   "cell_type": "markdown",
   "metadata": {
    "collapsed": true
   },
   "source": [
    "**Создайте объект `sklearn.linear_model.SGDClassifier` с логистической функцией потерь и параметром *random_state*=17. Остальные параметры оставьте по умолчанию, разве что *n_jobs*=-1 никогда не помешает. Обучите  модель на выборке `(X_train, y_train)`.**"
   ]
  },
  {
   "cell_type": "code",
   "execution_count": 86,
   "outputs": [],
   "source": [
    "train_df['combined'] = train_df[[f'site{i}' for i in range(1, 11)]].apply(lambda row: ' '.join(row.values.astype(str)), axis=1)\n",
    "test_df['combined'] = test_df[[f'site{i}' for i in range(1, 11)]].apply(lambda row: ' '.join(row.values.astype(str)), axis=1)"
   ],
   "metadata": {
    "collapsed": false,
    "pycharm": {
     "name": "#%%\n"
    }
   }
  },
  {
   "cell_type": "code",
   "execution_count": 87,
   "outputs": [],
   "source": [
    "test = test_df[['session_timespan', 'combined',\n",
    "                                                                             'unique_sites',\n",
    "                                                                             'start_hour', 'day_of_week', 'end_hour', 'start_month', 'start_year', 'site_time']]"
   ],
   "metadata": {
    "collapsed": false,
    "pycharm": {
     "name": "#%%\n"
    }
   }
  },
  {
   "cell_type": "code",
   "execution_count": 88,
   "outputs": [],
   "source": [
    "train, y = train_df.drop(['target'], axis=1)[['session_timespan', 'combined',\n",
    "                                              'unique_sites',\n",
    "                                                                                   'start_hour', 'day_of_week', 'end_hour', 'start_month', 'start_year', 'site_time']], train_df['target']"
   ],
   "metadata": {
    "collapsed": false,
    "pycharm": {
     "name": "#%%\n"
    }
   }
  },
  {
   "cell_type": "code",
   "execution_count": 140,
   "metadata": {
    "collapsed": true
   },
   "outputs": [],
   "source": [
    "sgd = SGDClassifier(loss='log', random_state=17, class_weight='balanced')"
   ]
  },
  {
   "cell_type": "code",
   "execution_count": 141,
   "outputs": [],
   "source": [
    "def tokenize_text(text):\n",
    "    text = text[0].split()\n",
    "    return text\n",
    "\n",
    "text_transformer = make_pipeline(\n",
    "    ColumnTransformer([\n",
    "        (\"selector\", \"passthrough\", ['combined'])\n",
    "    ], remainder=\"drop\"),\n",
    "     CountVectorizer(stop_words=['0'], tokenizer=tokenize_text, lowercase=False))\n"
   ],
   "metadata": {
    "collapsed": false,
    "pycharm": {
     "name": "#%%\n"
    }
   }
  },
  {
   "cell_type": "code",
   "execution_count": 142,
   "outputs": [],
   "source": [
    "non_text_features = make_pipeline(\n",
    "    ColumnTransformer([\n",
    "        (\"selector\", \"passthrough\", ['session_timespan', 'unique_sites', 'start_hour',\n",
    "                                     'day_of_week', 'end_hour', 'start_month', 'start_year', 'site_time'])\n",
    "    ], remainder=\"drop\"),\n",
    "     StandardScaler())"
   ],
   "metadata": {
    "collapsed": false,
    "pycharm": {
     "name": "#%%\n"
    }
   }
  },
  {
   "cell_type": "code",
   "execution_count": 143,
   "outputs": [],
   "source": [
    "pipeline = Pipeline([\n",
    "    ('text_features', FeatureUnion([\n",
    "        ('vect', text_transformer),    # Extract counts from names.\n",
    "        ('num_words', non_text_features),    # non text features.\n",
    "    ])),\n",
    "    ('clf' , sgd),     # Feed the output through a classifier.\n",
    "])"
   ],
   "metadata": {
    "collapsed": false,
    "pycharm": {
     "name": "#%%\n"
    }
   }
  },
  {
   "cell_type": "markdown",
   "metadata": {},
   "source": [
    "**Сделайте кросс-валидацию**"
   ]
  },
  {
   "cell_type": "code",
   "execution_count": 144,
   "outputs": [
    {
     "data": {
      "text/plain": "['accuracy',\n 'adjusted_mutual_info_score',\n 'adjusted_rand_score',\n 'average_precision',\n 'balanced_accuracy',\n 'completeness_score',\n 'explained_variance',\n 'f1',\n 'f1_macro',\n 'f1_micro',\n 'f1_samples',\n 'f1_weighted',\n 'fowlkes_mallows_score',\n 'homogeneity_score',\n 'jaccard',\n 'jaccard_macro',\n 'jaccard_micro',\n 'jaccard_samples',\n 'jaccard_weighted',\n 'max_error',\n 'mutual_info_score',\n 'neg_brier_score',\n 'neg_log_loss',\n 'neg_mean_absolute_error',\n 'neg_mean_absolute_percentage_error',\n 'neg_mean_gamma_deviance',\n 'neg_mean_poisson_deviance',\n 'neg_mean_squared_error',\n 'neg_mean_squared_log_error',\n 'neg_median_absolute_error',\n 'neg_root_mean_squared_error',\n 'normalized_mutual_info_score',\n 'precision',\n 'precision_macro',\n 'precision_micro',\n 'precision_samples',\n 'precision_weighted',\n 'r2',\n 'rand_score',\n 'recall',\n 'recall_macro',\n 'recall_micro',\n 'recall_samples',\n 'recall_weighted',\n 'roc_auc',\n 'roc_auc_ovo',\n 'roc_auc_ovo_weighted',\n 'roc_auc_ovr',\n 'roc_auc_ovr_weighted',\n 'top_k_accuracy',\n 'v_measure_score']"
     },
     "execution_count": 144,
     "metadata": {},
     "output_type": "execute_result"
    }
   ],
   "source": [
    "sorted(metrics.SCORERS.keys())"
   ],
   "metadata": {
    "collapsed": false,
    "pycharm": {
     "name": "#%%\n"
    }
   }
  },
  {
   "cell_type": "code",
   "execution_count": 145,
   "outputs": [
    {
     "data": {
      "text/plain": "array([0.97167545, 0.97595795, 0.97345866, 0.97461824, 0.97271223])"
     },
     "execution_count": 145,
     "metadata": {},
     "output_type": "execute_result"
    }
   ],
   "source": [
    "cross_val_score(pipeline, train, y, scoring='roc_auc')"
   ],
   "metadata": {
    "collapsed": false,
    "pycharm": {
     "name": "#%%\n"
    }
   }
  },
  {
   "cell_type": "markdown",
   "metadata": {},
   "source": [
    "**Сделайте прогноз в виде предсказанных вероятностей отнесения к классу 1 для тестовой выборки с помощью той же *sgd_logit*, обученной уже на всей обучающей выборке (а не на 70%).**"
   ]
  },
  {
   "cell_type": "code",
   "execution_count": 150,
   "metadata": {
    "collapsed": true
   },
   "outputs": [
    {
     "name": "stdout",
     "output_type": "stream",
     "text": [
      "Wall time: 4.21 s\n"
     ]
    }
   ],
   "source": [
    "%%time\n",
    "pipeline.fit(train, y)\n",
    "\n",
    "prediction = pipeline.predict_proba(test)"
   ]
  },
  {
   "cell_type": "markdown",
   "metadata": {},
   "source": [
    "**Запишите ответы в файл и сделайте посылку на Kaggle. Дайте своей команде (из одного человека) на Kaggle говорящее название – по шаблону \"[YDF & MIPT] Coursera_Username\", чтоб можно было легко идентифицировать Вашу посылку на [лидерборде](https://inclass.kaggle.com/c/catch-me-if-you-can-intruder-detection-through-webpage-session-tracking2/leaderboard/public).**\n",
    "\n",
    "**Результат, который мы только что получили, соответствует бейзлайну \"SGDCLassifer\" на лидерборде, задача на эту неделю – как минимум его побить.**"
   ]
  },
  {
   "cell_type": "code",
   "execution_count": 155,
   "metadata": {
    "collapsed": true
   },
   "outputs": [],
   "source": [
    "def write_to_submission_file(predicted_labels, out_file,\n",
    "                             target='target', index_label=\"session_id\"):\n",
    "    # turn predictions into data frame and save as csv file\n",
    "    predicted_df = pd.DataFrame(predicted_labels,\n",
    "                                index = np.arange(1, predicted_labels.shape[0] + 1),\n",
    "                                columns=[target])\n",
    "    predicted_df.to_csv(out_file, index_label=index_label)"
   ]
  },
  {
   "cell_type": "code",
   "execution_count": 156,
   "metadata": {
    "collapsed": true,
    "pycharm": {
     "name": "#%%\n"
    }
   },
   "outputs": [],
   "source": [
    "write_to_submission_file(prediction[:, 1], os.path.join(PATH_TO_DATA, 'submit.csv'))"
   ]
  }
 ],
 "metadata": {
  "kernelspec": {
   "display_name": "Python 3",
   "language": "python",
   "name": "python3"
  },
  "language_info": {
   "codemirror_mode": {
    "name": "ipython",
    "version": 3
   },
   "file_extension": ".py",
   "mimetype": "text/x-python",
   "name": "python",
   "nbconvert_exporter": "python",
   "pygments_lexer": "ipython3",
   "version": "3.6.4"
  }
 },
 "nbformat": 4,
 "nbformat_minor": 1
}