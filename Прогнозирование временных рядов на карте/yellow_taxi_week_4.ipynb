{
 "cells": [
  {
   "cell_type": "code",
   "execution_count": 13,
   "metadata": {
    "collapsed": true
   },
   "outputs": [
    {
     "name": "stdout",
     "output_type": "stream",
     "text": [
      "Populating the interactive namespace from numpy and matplotlib\n"
     ]
    }
   ],
   "source": [
    "%pylab inline\n",
    "\n",
    "from __future__ import division, print_function\n",
    "\n",
    "import warnings\n",
    "\n",
    "warnings.filterwarnings('ignore')\n",
    "\n",
    "import pickle\n",
    "from tqdm import tqdm_notebook\n",
    "import numpy as np\n",
    "import pandas as pd\n",
    "from scipy import stats\n",
    "from matplotlib import pyplot as plt\n",
    "import seaborn as sns\n",
    "from datetime import datetime\n",
    "import plotly.express as px\n",
    "from statsmodels.tsa.statespace.sarimax import SARIMAX\n",
    "import geopandas as gpd\n",
    "from glob import glob\n",
    "import holidays\n",
    "import plotly.graph_objects as go\n",
    "import statsmodels.api as sm\n",
    "from scipy import stats\n",
    "from statsmodels.stats.diagnostic import acorr_ljungbox\n",
    "from scipy.special import boxcox1p\n",
    "from itertools import product\n",
    "from sklearn.preprocessing import StandardScaler"
   ]
  },
  {
   "cell_type": "code",
   "execution_count": 92,
   "outputs": [],
   "source": [
    "data = pd.DataFrame()\n",
    "\n",
    "for filename in glob('data/aggregated_data/*'):\n",
    "    df = pd.DataFrame(pd.read_pickle(filename))\n",
    "    data = pd.concat([data, df], axis=0)\n",
    "\n",
    "# удаляем данные за года, отличные от 2020-2022 (случайные выбросы)\n",
    "data = data[(data.index >= datetime(2020, 10, 1, 0, 0, 0))\n",
    "                                                        & (data.index <= datetime(2022, 11, 30, 23, 59, 59))]\n",
    "data.sort_index(inplace=True)"
   ],
   "metadata": {
    "collapsed": false,
    "pycharm": {
     "name": "#%%\n"
    }
   }
  },
  {
   "cell_type": "code",
   "execution_count": 93,
   "outputs": [],
   "source": [
    "mean_taxi_trips = pd.DataFrame(data.mean(axis=0), columns=['mean_taxi_trips'])"
   ],
   "metadata": {
    "collapsed": false,
    "pycharm": {
     "name": "#%%\n"
    }
   }
  },
  {
   "cell_type": "code",
   "execution_count": 94,
   "outputs": [
    {
     "data": {
      "text/plain": "PULocationID          1    3    4    5    6    7    8    9    10   11   ...  \\\ntpep_pickup_datetime                                                    ...   \n2020-10-01 00:00:00   0.0  0.0  1.0  0.0  0.0  0.0  0.0  0.0  0.0  0.0  ...   \n2020-10-01 01:00:00   0.0  0.0  0.0  0.0  0.0  3.0  0.0  0.0  0.0  0.0  ...   \n2020-10-01 02:00:00   0.0  0.0  1.0  0.0  0.0  0.0  0.0  0.0  0.0  0.0  ...   \n2020-10-01 03:00:00   0.0  0.0  0.0  0.0  0.0  0.0  0.0  0.0  0.0  0.0  ...   \n2020-10-01 04:00:00   0.0  0.0  0.0  0.0  0.0  0.0  0.0  0.0  1.0  0.0  ...   \n\nPULocationID          111  172  199  30   59   245  57   2    110  27   \ntpep_pickup_datetime                                                    \n2020-10-01 00:00:00   NaN  NaN  NaN  NaN  NaN  NaN  NaN  NaN  NaN  NaN  \n2020-10-01 01:00:00   NaN  NaN  NaN  NaN  NaN  NaN  NaN  NaN  NaN  NaN  \n2020-10-01 02:00:00   NaN  NaN  NaN  NaN  NaN  NaN  NaN  NaN  NaN  NaN  \n2020-10-01 03:00:00   NaN  NaN  NaN  NaN  NaN  NaN  NaN  NaN  NaN  NaN  \n2020-10-01 04:00:00   NaN  NaN  NaN  NaN  NaN  NaN  NaN  NaN  NaN  NaN  \n\n[5 rows x 263 columns]",
      "text/html": "<div>\n<style scoped>\n    .dataframe tbody tr th:only-of-type {\n        vertical-align: middle;\n    }\n\n    .dataframe tbody tr th {\n        vertical-align: top;\n    }\n\n    .dataframe thead th {\n        text-align: right;\n    }\n</style>\n<table border=\"1\" class=\"dataframe\">\n  <thead>\n    <tr style=\"text-align: right;\">\n      <th>PULocationID</th>\n      <th>1</th>\n      <th>3</th>\n      <th>4</th>\n      <th>5</th>\n      <th>6</th>\n      <th>7</th>\n      <th>8</th>\n      <th>9</th>\n      <th>10</th>\n      <th>11</th>\n      <th>...</th>\n      <th>111</th>\n      <th>172</th>\n      <th>199</th>\n      <th>30</th>\n      <th>59</th>\n      <th>245</th>\n      <th>57</th>\n      <th>2</th>\n      <th>110</th>\n      <th>27</th>\n    </tr>\n    <tr>\n      <th>tpep_pickup_datetime</th>\n      <th></th>\n      <th></th>\n      <th></th>\n      <th></th>\n      <th></th>\n      <th></th>\n      <th></th>\n      <th></th>\n      <th></th>\n      <th></th>\n      <th></th>\n      <th></th>\n      <th></th>\n      <th></th>\n      <th></th>\n      <th></th>\n      <th></th>\n      <th></th>\n      <th></th>\n      <th></th>\n      <th></th>\n    </tr>\n  </thead>\n  <tbody>\n    <tr>\n      <th>2020-10-01 00:00:00</th>\n      <td>0.0</td>\n      <td>0.0</td>\n      <td>1.0</td>\n      <td>0.0</td>\n      <td>0.0</td>\n      <td>0.0</td>\n      <td>0.0</td>\n      <td>0.0</td>\n      <td>0.0</td>\n      <td>0.0</td>\n      <td>...</td>\n      <td>NaN</td>\n      <td>NaN</td>\n      <td>NaN</td>\n      <td>NaN</td>\n      <td>NaN</td>\n      <td>NaN</td>\n      <td>NaN</td>\n      <td>NaN</td>\n      <td>NaN</td>\n      <td>NaN</td>\n    </tr>\n    <tr>\n      <th>2020-10-01 01:00:00</th>\n      <td>0.0</td>\n      <td>0.0</td>\n      <td>0.0</td>\n      <td>0.0</td>\n      <td>0.0</td>\n      <td>3.0</td>\n      <td>0.0</td>\n      <td>0.0</td>\n      <td>0.0</td>\n      <td>0.0</td>\n      <td>...</td>\n      <td>NaN</td>\n      <td>NaN</td>\n      <td>NaN</td>\n      <td>NaN</td>\n      <td>NaN</td>\n      <td>NaN</td>\n      <td>NaN</td>\n      <td>NaN</td>\n      <td>NaN</td>\n      <td>NaN</td>\n    </tr>\n    <tr>\n      <th>2020-10-01 02:00:00</th>\n      <td>0.0</td>\n      <td>0.0</td>\n      <td>1.0</td>\n      <td>0.0</td>\n      <td>0.0</td>\n      <td>0.0</td>\n      <td>0.0</td>\n      <td>0.0</td>\n      <td>0.0</td>\n      <td>0.0</td>\n      <td>...</td>\n      <td>NaN</td>\n      <td>NaN</td>\n      <td>NaN</td>\n      <td>NaN</td>\n      <td>NaN</td>\n      <td>NaN</td>\n      <td>NaN</td>\n      <td>NaN</td>\n      <td>NaN</td>\n      <td>NaN</td>\n    </tr>\n    <tr>\n      <th>2020-10-01 03:00:00</th>\n      <td>0.0</td>\n      <td>0.0</td>\n      <td>0.0</td>\n      <td>0.0</td>\n      <td>0.0</td>\n      <td>0.0</td>\n      <td>0.0</td>\n      <td>0.0</td>\n      <td>0.0</td>\n      <td>0.0</td>\n      <td>...</td>\n      <td>NaN</td>\n      <td>NaN</td>\n      <td>NaN</td>\n      <td>NaN</td>\n      <td>NaN</td>\n      <td>NaN</td>\n      <td>NaN</td>\n      <td>NaN</td>\n      <td>NaN</td>\n      <td>NaN</td>\n    </tr>\n    <tr>\n      <th>2020-10-01 04:00:00</th>\n      <td>0.0</td>\n      <td>0.0</td>\n      <td>0.0</td>\n      <td>0.0</td>\n      <td>0.0</td>\n      <td>0.0</td>\n      <td>0.0</td>\n      <td>0.0</td>\n      <td>1.0</td>\n      <td>0.0</td>\n      <td>...</td>\n      <td>NaN</td>\n      <td>NaN</td>\n      <td>NaN</td>\n      <td>NaN</td>\n      <td>NaN</td>\n      <td>NaN</td>\n      <td>NaN</td>\n      <td>NaN</td>\n      <td>NaN</td>\n      <td>NaN</td>\n    </tr>\n  </tbody>\n</table>\n<p>5 rows × 263 columns</p>\n</div>"
     },
     "execution_count": 94,
     "metadata": {},
     "output_type": "execute_result"
    }
   ],
   "source": [
    "data.head()"
   ],
   "metadata": {
    "collapsed": false,
    "pycharm": {
     "name": "#%%\n"
    }
   }
  },
  {
   "cell_type": "code",
   "execution_count": 12,
   "outputs": [
    {
     "name": "stdout",
     "output_type": "stream",
     "text": [
      "Количество районов, где более 5 поездок в час -  55\n"
     ]
    }
   ],
   "source": [
    "print('Количество районов, где более 5 поездок в час - ', mean_taxi_trips[mean_taxi_trips['mean_taxi_trips'] >= 5].shape[0])"
   ],
   "metadata": {
    "collapsed": false,
    "pycharm": {
     "name": "#%%\n"
    }
   }
  },
  {
   "cell_type": "markdown",
   "source": [
    "Будем использовать только те ряды, где больше 5 поездок в час"
   ],
   "metadata": {
    "collapsed": false
   }
  },
  {
   "cell_type": "code",
   "execution_count": 95,
   "outputs": [],
   "source": [
    "data = data[mean_taxi_trips[mean_taxi_trips['mean_taxi_trips'] >= 5].index]"
   ],
   "metadata": {
    "collapsed": false,
    "pycharm": {
     "name": "#%%\n"
    }
   }
  },
  {
   "cell_type": "markdown",
   "source": [
    "## Clustering"
   ],
   "metadata": {
    "collapsed": false
   }
  },
  {
   "cell_type": "code",
   "execution_count": 96,
   "outputs": [
    {
     "data": {
      "text/plain": "tpep_pickup_datetime  2020-10-01 00:00:00  2020-10-01 01:00:00  \\\nPULocationID                                                     \n13                              -0.974344            -0.974344   \n24                              -1.154847            -1.049079   \n41                              -1.272950            -1.272950   \n43                              -1.040608            -1.040608   \n48                              -1.332854            -1.271317   \n\ntpep_pickup_datetime  2020-10-01 02:00:00  2020-10-01 03:00:00  \\\nPULocationID                                                     \n13                              -0.974344            -0.974344   \n24                              -1.049079            -1.154847   \n41                              -1.073779            -1.173365   \n43                              -1.057796            -1.057796   \n48                              -1.363623            -1.486698   \n\ntpep_pickup_datetime  2020-10-01 04:00:00  2020-10-01 05:00:00  \\\nPULocationID                                                     \n13                              -0.921167            -0.921167   \n24                              -1.260614            -1.154847   \n41                              -1.173365            -1.173365   \n43                              -1.057796            -1.023421   \n48                              -1.532851            -1.455929   \n\ntpep_pickup_datetime  2020-10-01 06:00:00  2020-10-01 07:00:00  \\\nPULocationID                                                     \n13                              -0.974344            -0.708458   \n24                              -0.837544            -0.097170   \n41                              -0.775024             0.021658   \n43                              -1.040608            -0.731237   \n48                              -0.686711            -0.209796   \n\ntpep_pickup_datetime  2020-10-01 08:00:00  2020-10-01 09:00:00  ...  \\\nPULocationID                                                    ...   \n13                              -0.761635            -0.176685  ...   \n24                               1.277809             0.748971  ...   \n41                               2.013361             0.419998  ...   \n43                              -0.129682            -0.559364  ...   \n48                              -0.271334            -0.794402  ...   \n\ntpep_pickup_datetime  2022-11-30 14:00:00  2022-11-30 15:00:00  \\\nPULocationID                                                     \n13                               0.674150             0.727328   \n24                               0.008597             0.537435   \n41                               0.121243            -0.277098   \n43                               0.815619             1.589046   \n48                               0.190197             0.051738   \n\ntpep_pickup_datetime  2022-11-30 16:00:00  2022-11-30 17:00:00  \\\nPULocationID                                                     \n13                               0.833682             1.312277   \n24                               1.172041             1.277809   \n41                              -0.177513            -0.277098   \n43                               1.124990             0.471873   \n48                               0.682496             0.836340   \n\ntpep_pickup_datetime  2022-11-30 18:00:00  2022-11-30 19:00:00  \\\nPULocationID                                                     \n13                               2.109936             2.269467   \n24                               0.960506            -0.202938   \n41                               0.121243            -0.376683   \n43                               1.073428             0.746869   \n48                               1.559404             1.359408   \n\ntpep_pickup_datetime  2022-11-30 20:00:00  2022-11-30 21:00:00  \\\nPULocationID                                                     \n13                               1.312277             0.674150   \n24                              -0.308706            -0.202938   \n41                              -0.575853            -0.675439   \n43                               0.196876             0.231251   \n48                               1.420945             1.328639   \n\ntpep_pickup_datetime  2022-11-30 22:00:00  2022-11-30 23:00:00  \nPULocationID                                                    \n13                              -0.229863            -0.442571  \n24                              -0.308706            -0.202938  \n41                              -0.177513            -0.675439  \n43                              -0.164057            -0.267180  \n48                               1.974782             2.297853  \n\n[5 rows x 19487 columns]",
      "text/html": "<div>\n<style scoped>\n    .dataframe tbody tr th:only-of-type {\n        vertical-align: middle;\n    }\n\n    .dataframe tbody tr th {\n        vertical-align: top;\n    }\n\n    .dataframe thead th {\n        text-align: right;\n    }\n</style>\n<table border=\"1\" class=\"dataframe\">\n  <thead>\n    <tr style=\"text-align: right;\">\n      <th>tpep_pickup_datetime</th>\n      <th>2020-10-01 00:00:00</th>\n      <th>2020-10-01 01:00:00</th>\n      <th>2020-10-01 02:00:00</th>\n      <th>2020-10-01 03:00:00</th>\n      <th>2020-10-01 04:00:00</th>\n      <th>2020-10-01 05:00:00</th>\n      <th>2020-10-01 06:00:00</th>\n      <th>2020-10-01 07:00:00</th>\n      <th>2020-10-01 08:00:00</th>\n      <th>2020-10-01 09:00:00</th>\n      <th>...</th>\n      <th>2022-11-30 14:00:00</th>\n      <th>2022-11-30 15:00:00</th>\n      <th>2022-11-30 16:00:00</th>\n      <th>2022-11-30 17:00:00</th>\n      <th>2022-11-30 18:00:00</th>\n      <th>2022-11-30 19:00:00</th>\n      <th>2022-11-30 20:00:00</th>\n      <th>2022-11-30 21:00:00</th>\n      <th>2022-11-30 22:00:00</th>\n      <th>2022-11-30 23:00:00</th>\n    </tr>\n    <tr>\n      <th>PULocationID</th>\n      <th></th>\n      <th></th>\n      <th></th>\n      <th></th>\n      <th></th>\n      <th></th>\n      <th></th>\n      <th></th>\n      <th></th>\n      <th></th>\n      <th></th>\n      <th></th>\n      <th></th>\n      <th></th>\n      <th></th>\n      <th></th>\n      <th></th>\n      <th></th>\n      <th></th>\n      <th></th>\n      <th></th>\n    </tr>\n  </thead>\n  <tbody>\n    <tr>\n      <th>13</th>\n      <td>-0.974344</td>\n      <td>-0.974344</td>\n      <td>-0.974344</td>\n      <td>-0.974344</td>\n      <td>-0.921167</td>\n      <td>-0.921167</td>\n      <td>-0.974344</td>\n      <td>-0.708458</td>\n      <td>-0.761635</td>\n      <td>-0.176685</td>\n      <td>...</td>\n      <td>0.674150</td>\n      <td>0.727328</td>\n      <td>0.833682</td>\n      <td>1.312277</td>\n      <td>2.109936</td>\n      <td>2.269467</td>\n      <td>1.312277</td>\n      <td>0.674150</td>\n      <td>-0.229863</td>\n      <td>-0.442571</td>\n    </tr>\n    <tr>\n      <th>24</th>\n      <td>-1.154847</td>\n      <td>-1.049079</td>\n      <td>-1.049079</td>\n      <td>-1.154847</td>\n      <td>-1.260614</td>\n      <td>-1.154847</td>\n      <td>-0.837544</td>\n      <td>-0.097170</td>\n      <td>1.277809</td>\n      <td>0.748971</td>\n      <td>...</td>\n      <td>0.008597</td>\n      <td>0.537435</td>\n      <td>1.172041</td>\n      <td>1.277809</td>\n      <td>0.960506</td>\n      <td>-0.202938</td>\n      <td>-0.308706</td>\n      <td>-0.202938</td>\n      <td>-0.308706</td>\n      <td>-0.202938</td>\n    </tr>\n    <tr>\n      <th>41</th>\n      <td>-1.272950</td>\n      <td>-1.272950</td>\n      <td>-1.073779</td>\n      <td>-1.173365</td>\n      <td>-1.173365</td>\n      <td>-1.173365</td>\n      <td>-0.775024</td>\n      <td>0.021658</td>\n      <td>2.013361</td>\n      <td>0.419998</td>\n      <td>...</td>\n      <td>0.121243</td>\n      <td>-0.277098</td>\n      <td>-0.177513</td>\n      <td>-0.277098</td>\n      <td>0.121243</td>\n      <td>-0.376683</td>\n      <td>-0.575853</td>\n      <td>-0.675439</td>\n      <td>-0.177513</td>\n      <td>-0.675439</td>\n    </tr>\n    <tr>\n      <th>43</th>\n      <td>-1.040608</td>\n      <td>-1.040608</td>\n      <td>-1.057796</td>\n      <td>-1.057796</td>\n      <td>-1.057796</td>\n      <td>-1.023421</td>\n      <td>-1.040608</td>\n      <td>-0.731237</td>\n      <td>-0.129682</td>\n      <td>-0.559364</td>\n      <td>...</td>\n      <td>0.815619</td>\n      <td>1.589046</td>\n      <td>1.124990</td>\n      <td>0.471873</td>\n      <td>1.073428</td>\n      <td>0.746869</td>\n      <td>0.196876</td>\n      <td>0.231251</td>\n      <td>-0.164057</td>\n      <td>-0.267180</td>\n    </tr>\n    <tr>\n      <th>48</th>\n      <td>-1.332854</td>\n      <td>-1.271317</td>\n      <td>-1.363623</td>\n      <td>-1.486698</td>\n      <td>-1.532851</td>\n      <td>-1.455929</td>\n      <td>-0.686711</td>\n      <td>-0.209796</td>\n      <td>-0.271334</td>\n      <td>-0.794402</td>\n      <td>...</td>\n      <td>0.190197</td>\n      <td>0.051738</td>\n      <td>0.682496</td>\n      <td>0.836340</td>\n      <td>1.559404</td>\n      <td>1.359408</td>\n      <td>1.420945</td>\n      <td>1.328639</td>\n      <td>1.974782</td>\n      <td>2.297853</td>\n    </tr>\n  </tbody>\n</table>\n<p>5 rows × 19487 columns</p>\n</div>"
     },
     "execution_count": 96,
     "metadata": {},
     "output_type": "execute_result"
    }
   ],
   "source": [
    "# Перед кластеризацией стандартизируем стобцы.\n",
    "# Это необходимо, поскольку при выборе модели ARIMA имеет значение только форма ряда,\n",
    "# но не его средний уровень и размах колебаний.\n",
    "\n",
    "scaler = StandardScaler()\n",
    "standartized_data = pd.DataFrame(scaler.fit_transform(data))\n",
    "standartized_data.index = data.index\n",
    "standartized_data.columns = data.columns\n",
    "\n",
    "standartized_data = standartized_data.T\n",
    "standartized_data.head()"
   ],
   "metadata": {
    "collapsed": false,
    "pycharm": {
     "name": "#%%\n"
    }
   }
  },
  {
   "cell_type": "markdown",
   "source": [],
   "metadata": {
    "collapsed": false
   }
  },
  {
   "cell_type": "code",
   "execution_count": 111,
   "outputs": [],
   "source": [
    "from matplotlib import pyplot as plt\n",
    "from scipy.cluster.hierarchy import dendrogram\n",
    "from sklearn.cluster import AgglomerativeClustering, KMeans\n",
    "from sklearn.metrics import silhouette_score\n",
    "from sklearn.metrics.pairwise import cosine_similarity"
   ],
   "metadata": {
    "collapsed": false,
    "pycharm": {
     "name": "#%%\n"
    }
   }
  },
  {
   "cell_type": "code",
   "execution_count": 98,
   "outputs": [
    {
     "data": {
      "text/plain": "<Figure size 432x288 with 1 Axes>",
      "image/png": "[encoded data removed]"
     },
     "metadata": {
      "needs_background": "light"
     },
     "output_type": "display_data"
    }
   ],
   "source": [
    "def plot_dendrogram(model, **kwargs):\n",
    "    # Create linkage matrix and then plot the dendrogram\n",
    "\n",
    "    # create the counts of samples under each node\n",
    "    counts = np.zeros(model.children_.shape[0])\n",
    "    n_samples = len(model.labels_)\n",
    "    for i, merge in enumerate(model.children_):\n",
    "        current_count = 0\n",
    "        for child_idx in merge:\n",
    "            if child_idx < n_samples:\n",
    "                current_count += 1  # leaf node\n",
    "            else:\n",
    "                current_count += counts[child_idx - n_samples]\n",
    "        counts[i] = current_count\n",
    "\n",
    "    linkage_matrix = np.column_stack(\n",
    "        [model.children_, model.distances_, counts]\n",
    "    ).astype(float)\n",
    "\n",
    "    # Plot the corresponding dendrogram\n",
    "    dendrogram(linkage_matrix, **kwargs)\n",
    "\n",
    "# setting distance_threshold=0 ensures we compute the full tree.\n",
    "model = AgglomerativeClustering(distance_threshold=0, n_clusters=None)\n",
    "\n",
    "model = model.fit(standartized_data)\n",
    "plt.title(\"Hierarchical Clustering Dendrogram\")\n",
    "# plot the top three levels of the dendrogram\n",
    "plot_dendrogram(model, truncate_mode=\"level\", p=3)\n",
    "plt.xlabel(\"Number of points in node (or index of point if no parenthesis).\")\n",
    "plt.show()"
   ],
   "metadata": {
    "collapsed": false,
    "pycharm": {
     "name": "#%%\n"
    }
   }
  },
  {
   "cell_type": "code",
   "execution_count": 99,
   "outputs": [
    {
     "data": {
      "text/plain": "0.19655681559369004"
     },
     "execution_count": 99,
     "metadata": {},
     "output_type": "execute_result"
    }
   ],
   "source": [
    "model = KMeans(n_clusters=3)\n",
    "model = model.fit(standartized_data)\n",
    "\n",
    "silhouette_score(standartized_data, model.labels_)"
   ],
   "metadata": {
    "collapsed": false,
    "pycharm": {
     "name": "#%%\n"
    }
   }
  },
  {
   "cell_type": "code",
   "execution_count": 100,
   "outputs": [],
   "source": [
    "label_0 = [col for col, label in zip(data.columns, model.labels_) if label == 0]"
   ],
   "metadata": {
    "collapsed": false,
    "pycharm": {
     "name": "#%%\n"
    }
   }
  },
  {
   "cell_type": "code",
   "execution_count": null,
   "outputs": [],
   "source": [
    "px.line(standartized_data.T[label_0])"
   ],
   "metadata": {
    "collapsed": false,
    "pycharm": {
     "name": "#%%\n",
     "is_executing": true
    }
   }
  },
  {
   "cell_type": "code",
   "execution_count": 102,
   "outputs": [],
   "source": [
    "label_1 = [col for col, label in zip(data.columns, model.labels_) if label == 1]"
   ],
   "metadata": {
    "collapsed": false,
    "pycharm": {
     "name": "#%%\n"
    }
   }
  },
  {
   "cell_type": "code",
   "execution_count": null,
   "outputs": [],
   "source": [
    "px.line(standartized_data.T[label_1])"
   ],
   "metadata": {
    "collapsed": false,
    "pycharm": {
     "name": "#%%\n",
     "is_executing": true
    }
   }
  },
  {
   "cell_type": "code",
   "execution_count": 104,
   "outputs": [],
   "source": [
    "label_2 = [col for col, label in zip(data.columns, model.labels_) if label == 2]"
   ],
   "metadata": {
    "collapsed": false,
    "pycharm": {
     "name": "#%%\n"
    }
   }
  },
  {
   "cell_type": "code",
   "execution_count": null,
   "outputs": [],
   "source": [
    "px.line(standartized_data.T[label_2])"
   ],
   "metadata": {
    "collapsed": false,
    "pycharm": {
     "name": "#%%\n",
     "is_executing": true
    }
   }
  },
  {
   "cell_type": "code",
   "execution_count": 117,
   "outputs": [
    {
     "data": {
      "text/plain": "(68, array([[0.96250565]]))"
     },
     "execution_count": 117,
     "metadata": {},
     "output_type": "execute_result"
    }
   ],
   "source": [
    "best_cos_sim_0 = 0\n",
    "for col in label_0:\n",
    "    cos_sim_0 = cosine_similarity(model.cluster_centers_[0, :].reshape(1, -1), standartized_data.T[col].values.reshape(1, -1))\n",
    "    if best_cos_sim_0 < cos_sim_0:\n",
    "        best_cos_sim_0 = cos_sim_0\n",
    "        best_col_0 = col\n",
    "\n",
    "best_col_0, best_cos_sim_0"
   ],
   "metadata": {
    "collapsed": false,
    "pycharm": {
     "name": "#%%\n"
    }
   }
  },
  {
   "cell_type": "code",
   "execution_count": 119,
   "outputs": [
    {
     "data": {
      "text/plain": "(249, array([[0.95920075]]))"
     },
     "execution_count": 119,
     "metadata": {},
     "output_type": "execute_result"
    }
   ],
   "source": [
    "best_cos_sim_1 = 0\n",
    "for col in label_1:\n",
    "    cos_sim_1 = cosine_similarity(model.cluster_centers_[1, :].reshape(1, -1), standartized_data.T[col].values.reshape(1, -1))\n",
    "    if best_cos_sim_1 < cos_sim_1:\n",
    "        best_cos_sim_1 = cos_sim_1\n",
    "        best_col_1 = col\n",
    "\n",
    "best_col_1, best_cos_sim_1"
   ],
   "metadata": {
    "collapsed": false,
    "pycharm": {
     "name": "#%%\n"
    }
   }
  },
  {
   "cell_type": "code",
   "execution_count": 120,
   "outputs": [
    {
     "data": {
      "text/plain": "(238, array([[0.97519894]]))"
     },
     "execution_count": 120,
     "metadata": {},
     "output_type": "execute_result"
    }
   ],
   "source": [
    "best_cos_sim_2 = 0\n",
    "for col in label_2:\n",
    "    cos_sim_2 = cosine_similarity(model.cluster_centers_[2, :].reshape(1, -1), standartized_data.T[col].values.reshape(1, -1))\n",
    "    if best_cos_sim_2 < cos_sim_2:\n",
    "        best_cos_sim_2 = cos_sim_2\n",
    "        best_col_2 = col\n",
    "\n",
    "best_col_2, best_cos_sim_2"
   ],
   "metadata": {
    "collapsed": false,
    "pycharm": {
     "name": "#%%\n"
    }
   }
  },
  {
   "cell_type": "markdown",
   "source": [
    "## Добавляем регрессионные признаки и строим ARIMA"
   ],
   "metadata": {
    "collapsed": false
   }
  },
  {
   "cell_type": "markdown",
   "source": [
    "Построим для ряда, наиболее близкого к центру кластера, модель ARIMA. Будем использовать ее параметры для всего кластера."
   ],
   "metadata": {
    "collapsed": false
   }
  },
  {
   "cell_type": "code",
   "execution_count": 142,
   "outputs": [],
   "source": [
    "def add_holidays(y):\n",
    "    holidays_NY = holidays.country_holidays('US', state='NY', years=[2020, 2022])\n",
    "    holidays_NY = pd.Series(holidays_NY.values(), index=holidays_NY.keys()).sort_index()\n",
    "    holidays_NY.index = pd.to_datetime(holidays_NY.index)\n",
    "    holidays_NY = holidays_NY.loc[y.index.min(): y.index.max()]\n",
    "    res = pd.DataFrame(np.zeros((y.shape[0], 1)), index=y.index, columns=['holiday'])\n",
    "    for index, _ in holidays_NY.items():\n",
    "        for i in range(0, 24):\n",
    "            index = index.replace(hour = i)\n",
    "            res.loc[index, 'holiday'] = 1\n",
    "    return res\n",
    "\n",
    "def add_feature(indexes, K, seasons = [24, 168, 8766], trend=False):\n",
    "    res = pd.DataFrame(index=indexes, columns=[i for i in range(2*K*len(seasons))])\n",
    "    for i, season in enumerate(seasons):\n",
    "        arr = 2 * np.pi * np.outer(np.arange(1, len(indexes) + 1), np.arange(1, K + 1)) / season\n",
    "        res.loc[:, 2*K*i: 2*K*i+K - 1] = np.sin(arr)\n",
    "        res.loc[:, 2*K*i+K:2*K*i+2*K - 1] = np.cos(arr)\n",
    "\n",
    "        if trend: res.loc[:, 'trend'] = np.arange(1, len(indexes)+1)\n",
    "\n",
    "    holidays = add_holidays(res)\n",
    "    res = res.join(holidays, how='left')\n",
    "    res.drop_duplicates(inplace=True)\n",
    "    return res"
   ],
   "metadata": {
    "collapsed": false,
    "pycharm": {
     "name": "#%%\n"
    }
   }
  },
  {
   "cell_type": "code",
   "execution_count": 122,
   "outputs": [],
   "source": [
    "def invboxcox1p(y,lmbda):\n",
    "    if lmbda == 0:\n",
    "        return np.exp(y)\n",
    "    else:\n",
    "        return np.exp(np.log(lmbda * y + 1) / lmbda)"
   ],
   "metadata": {
    "collapsed": false,
    "pycharm": {
     "name": "#%%\n"
    }
   }
  },
  {
   "cell_type": "code",
   "execution_count": 149,
   "outputs": [],
   "source": [
    "_lambda_center_cluster_0 = stats.boxcox(data[data[68] > 0][68])[1]\n",
    "_lambda_center_cluster_1 = stats.boxcox(data[data[249] > 0][249])[1]\n",
    "_lambda_center_cluster_2 = stats.boxcox(data[data[238] > 0][238])[1]"
   ],
   "metadata": {
    "collapsed": false,
    "pycharm": {
     "name": "#%%\n"
    }
   }
  },
  {
   "cell_type": "code",
   "execution_count": 150,
   "outputs": [],
   "source": [
    "box_cox_center_cluster_0 = boxcox1p(data[68], _lambda_center_cluster_0)\n",
    "box_cox_center_cluster_1 = boxcox1p(data[249], _lambda_center_cluster_1)\n",
    "box_cox_center_cluster_2 = boxcox1p(data[238], _lambda_center_cluster_2)"
   ],
   "metadata": {
    "collapsed": false,
    "pycharm": {
     "name": "#%%\n"
    }
   }
  },
  {
   "cell_type": "code",
   "execution_count": 151,
   "outputs": [],
   "source": [
    "k=5\n",
    "\n",
    "X_center_cluster = add_feature(box_cox_center_cluster_0.index, k, trend=True)"
   ],
   "metadata": {
    "collapsed": false,
    "pycharm": {
     "name": "#%%\n"
    }
   }
  },
  {
   "cell_type": "code",
   "execution_count": 154,
   "outputs": [],
   "source": [
    "data_center_clusters = pd.concat([box_cox_center_cluster_0, box_cox_center_cluster_1, box_cox_center_cluster_2,\n",
    "                                   X_center_cluster], axis=1)"
   ],
   "metadata": {
    "collapsed": false,
    "pycharm": {
     "name": "#%%\n"
    }
   }
  },
  {
   "cell_type": "code",
   "execution_count": 155,
   "outputs": [
    {
     "data": {
      "text/plain": "                            68       249       238         0         1  \\\ntpep_pickup_datetime                                                     \n2020-10-01 00:00:00   3.410818  7.571246  4.038973  0.258819       0.5   \n2020-10-01 01:00:00   4.847744  4.508517  3.690297       0.5  0.866025   \n2020-10-01 02:00:00   2.049314  1.909676  2.489050  0.707107       1.0   \n2020-10-01 03:00:00   2.544240  1.412485  2.489050  0.866025  0.866025   \n2020-10-01 04:00:00   1.492014  0.810410  1.470679  0.965926       0.5   \n\n                             2         3         4         5         6  ...  \\\ntpep_pickup_datetime                                                    ...   \n2020-10-01 00:00:00   0.707107  0.866025  0.965926  0.965926  0.866025  ...   \n2020-10-01 01:00:00        1.0  0.866025       0.5  0.866025       0.5  ...   \n2020-10-01 02:00:00   0.707107       0.0 -0.707107  0.707107       0.0  ...   \n2020-10-01 03:00:00        0.0 -0.866025 -0.866025       0.5      -0.5  ...   \n2020-10-01 04:00:00  -0.707107 -0.866025  0.258819  0.258819 -0.866025  ...   \n\n                            22        23        24        25        26  \\\ntpep_pickup_datetime                                                     \n2020-10-01 00:00:00   0.002150  0.002867  0.003584  1.000000  0.999999   \n2020-10-01 01:00:00   0.004301  0.005734  0.007168  0.999999  0.999996   \n2020-10-01 02:00:00   0.006451  0.008601  0.010751  0.999998  0.999991   \n2020-10-01 03:00:00   0.008601  0.011468  0.014335  0.999996  0.999984   \n2020-10-01 04:00:00   0.010751  0.014335  0.017918  0.999994  0.999974   \n\n                            27        28        29  trend  holiday  \ntpep_pickup_datetime                                                \n2020-10-01 00:00:00   0.999998  0.999996  0.999994      1      0.0  \n2020-10-01 01:00:00   0.999991  0.999984  0.999974      2      0.0  \n2020-10-01 02:00:00   0.999979  0.999963  0.999942      3      0.0  \n2020-10-01 03:00:00   0.999963  0.999934  0.999897      4      0.0  \n2020-10-01 04:00:00   0.999942  0.999897  0.999839      5      0.0  \n\n[5 rows x 35 columns]",
      "text/html": "<div>\n<style scoped>\n    .dataframe tbody tr th:only-of-type {\n        vertical-align: middle;\n    }\n\n    .dataframe tbody tr th {\n        vertical-align: top;\n    }\n\n    .dataframe thead th {\n        text-align: right;\n    }\n</style>\n<table border=\"1\" class=\"dataframe\">\n  <thead>\n    <tr style=\"text-align: right;\">\n      <th></th>\n      <th>68</th>\n      <th>249</th>\n      <th>238</th>\n      <th>0</th>\n      <th>1</th>\n      <th>2</th>\n      <th>3</th>\n      <th>4</th>\n      <th>5</th>\n      <th>6</th>\n      <th>...</th>\n      <th>22</th>\n      <th>23</th>\n      <th>24</th>\n      <th>25</th>\n      <th>26</th>\n      <th>27</th>\n      <th>28</th>\n      <th>29</th>\n      <th>trend</th>\n      <th>holiday</th>\n    </tr>\n    <tr>\n      <th>tpep_pickup_datetime</th>\n      <th></th>\n      <th></th>\n      <th></th>\n      <th></th>\n      <th></th>\n      <th></th>\n      <th></th>\n      <th></th>\n      <th></th>\n      <th></th>\n      <th></th>\n      <th></th>\n      <th></th>\n      <th></th>\n      <th></th>\n      <th></th>\n      <th></th>\n      <th></th>\n      <th></th>\n      <th></th>\n      <th></th>\n    </tr>\n  </thead>\n  <tbody>\n    <tr>\n      <th>2020-10-01 00:00:00</th>\n      <td>3.410818</td>\n      <td>7.571246</td>\n      <td>4.038973</td>\n      <td>0.258819</td>\n      <td>0.5</td>\n      <td>0.707107</td>\n      <td>0.866025</td>\n      <td>0.965926</td>\n      <td>0.965926</td>\n      <td>0.866025</td>\n      <td>...</td>\n      <td>0.002150</td>\n      <td>0.002867</td>\n      <td>0.003584</td>\n      <td>1.000000</td>\n      <td>0.999999</td>\n      <td>0.999998</td>\n      <td>0.999996</td>\n      <td>0.999994</td>\n      <td>1</td>\n      <td>0.0</td>\n    </tr>\n    <tr>\n      <th>2020-10-01 01:00:00</th>\n      <td>4.847744</td>\n      <td>4.508517</td>\n      <td>3.690297</td>\n      <td>0.5</td>\n      <td>0.866025</td>\n      <td>1.0</td>\n      <td>0.866025</td>\n      <td>0.5</td>\n      <td>0.866025</td>\n      <td>0.5</td>\n      <td>...</td>\n      <td>0.004301</td>\n      <td>0.005734</td>\n      <td>0.007168</td>\n      <td>0.999999</td>\n      <td>0.999996</td>\n      <td>0.999991</td>\n      <td>0.999984</td>\n      <td>0.999974</td>\n      <td>2</td>\n      <td>0.0</td>\n    </tr>\n    <tr>\n      <th>2020-10-01 02:00:00</th>\n      <td>2.049314</td>\n      <td>1.909676</td>\n      <td>2.489050</td>\n      <td>0.707107</td>\n      <td>1.0</td>\n      <td>0.707107</td>\n      <td>0.0</td>\n      <td>-0.707107</td>\n      <td>0.707107</td>\n      <td>0.0</td>\n      <td>...</td>\n      <td>0.006451</td>\n      <td>0.008601</td>\n      <td>0.010751</td>\n      <td>0.999998</td>\n      <td>0.999991</td>\n      <td>0.999979</td>\n      <td>0.999963</td>\n      <td>0.999942</td>\n      <td>3</td>\n      <td>0.0</td>\n    </tr>\n    <tr>\n      <th>2020-10-01 03:00:00</th>\n      <td>2.544240</td>\n      <td>1.412485</td>\n      <td>2.489050</td>\n      <td>0.866025</td>\n      <td>0.866025</td>\n      <td>0.0</td>\n      <td>-0.866025</td>\n      <td>-0.866025</td>\n      <td>0.5</td>\n      <td>-0.5</td>\n      <td>...</td>\n      <td>0.008601</td>\n      <td>0.011468</td>\n      <td>0.014335</td>\n      <td>0.999996</td>\n      <td>0.999984</td>\n      <td>0.999963</td>\n      <td>0.999934</td>\n      <td>0.999897</td>\n      <td>4</td>\n      <td>0.0</td>\n    </tr>\n    <tr>\n      <th>2020-10-01 04:00:00</th>\n      <td>1.492014</td>\n      <td>0.810410</td>\n      <td>1.470679</td>\n      <td>0.965926</td>\n      <td>0.5</td>\n      <td>-0.707107</td>\n      <td>-0.866025</td>\n      <td>0.258819</td>\n      <td>0.258819</td>\n      <td>-0.866025</td>\n      <td>...</td>\n      <td>0.010751</td>\n      <td>0.014335</td>\n      <td>0.017918</td>\n      <td>0.999994</td>\n      <td>0.999974</td>\n      <td>0.999942</td>\n      <td>0.999897</td>\n      <td>0.999839</td>\n      <td>5</td>\n      <td>0.0</td>\n    </tr>\n  </tbody>\n</table>\n<p>5 rows × 35 columns</p>\n</div>"
     },
     "execution_count": 155,
     "metadata": {},
     "output_type": "execute_result"
    }
   ],
   "source": [
    "data_center_clusters.head()"
   ],
   "metadata": {
    "collapsed": false,
    "pycharm": {
     "name": "#%%\n"
    }
   }
  },
  {
   "cell_type": "code",
   "execution_count": 156,
   "outputs": [],
   "source": [
    "train, test = data_center_clusters[data_center_clusters.index < datetime(2022, 11, 1, 0, 0, 0)], data_center_clusters[data_center_clusters.index >= datetime(2022, 11, 1, 0, 0, 0)]"
   ],
   "metadata": {
    "collapsed": false,
    "pycharm": {
     "name": "#%%\n"
    }
   }
  },
  {
   "cell_type": "code",
   "execution_count": 157,
   "outputs": [],
   "source": [
    "ps = range(0, 3)\n",
    "d=0\n",
    "qs = range(0, 3)\n",
    "Ps = range(0, 2)\n",
    "D=1\n",
    "Qs = range(0, 2)"
   ],
   "metadata": {
    "collapsed": false,
    "pycharm": {
     "name": "#%%\n"
    }
   }
  },
  {
   "cell_type": "code",
   "execution_count": 158,
   "outputs": [
    {
     "data": {
      "text/plain": "36"
     },
     "execution_count": 158,
     "metadata": {},
     "output_type": "execute_result"
    }
   ],
   "source": [
    "parameters = product(ps, qs, Ps, Qs)\n",
    "parameters_list = list(parameters)\n",
    "len(parameters_list)"
   ],
   "metadata": {
    "collapsed": false,
    "pycharm": {
     "name": "#%%\n"
    }
   }
  },
  {
   "cell_type": "code",
   "execution_count": null,
   "outputs": [],
   "source": [
    "%%time\n",
    "warnings.filterwarnings('ignore')\n",
    "\n",
    "for col in [68, 249, 238]:\n",
    "    results = []\n",
    "    best_aic = float(\"inf\")\n",
    "    for param in tqdm_notebook(parameters_list):\n",
    "        #try except нужен, потому что на некоторых наборах параметров модель не обучается\n",
    "        try:\n",
    "            model = sm.tsa.statespace.SARIMAX(train[col],\n",
    "                                              order=(param[0], d, param[1]),\n",
    "                                              seasonal_order=(param[2], D, param[3], 24),\n",
    "                                              trend='t',\n",
    "                                              exog=train[[i for i in range(10, 30)] + ['holiday']]).fit(disp=-1)\n",
    "        #выводим параметры, на которых модель не обучается и переходим к следующему набору\n",
    "        except ValueError:\n",
    "            print('wrong parameters:', param)\n",
    "            continue\n",
    "        aic = model.aic\n",
    "        #сохраняем лучшую модель, aic, параметры\n",
    "        if aic < best_aic:\n",
    "            best_model = model\n",
    "            best_aic = aic\n",
    "            best_param = param\n",
    "        results.append([param, model.aic])\n",
    "\n",
    "    result_table = pd.DataFrame(results)\n",
    "    result_table.columns = ['parameters', 'aic']\n",
    "\n",
    "    print(f'Номер временного ряда - {col}')\n",
    "\n",
    "    print('Таблица aic и параметров')\n",
    "    print()\n",
    "    print(result_table.sort_values(by = 'aic', ascending=True).head())\n",
    "\n",
    "    plt.rcParams['figure.figsize'] = 30, 7\n",
    "    plt.subplot(211)\n",
    "    best_model.resid[25:].plot()\n",
    "    plt.ylabel(u'Residuals')\n",
    "\n",
    "    ax = plt.subplot(212)\n",
    "    sm.graphics.tsa.plot_acf(best_model.resid[25:].values.squeeze(), lags=48, ax=ax)\n",
    "\n",
    "    print()\n",
    "    print(\"Критерий Стьюдента: p=%f\" % stats.ttest_1samp(best_model.resid[25:], 0)[1])\n",
    "    print(\"Критерий Дики-Фуллера: p=%f\" % sm.tsa.stattools.adfuller(best_model.resid[25:])[1])\n",
    "\n",
    "warnings.filterwarnings('default')"
   ],
   "metadata": {
    "collapsed": false,
    "pycharm": {
     "name": "#%%\n"
    }
   }
  },
  {
   "cell_type": "markdown",
   "source": [
    "Настроим модели под каждый временной ряд, используя информацию о параметрах, полученную выше. На основе принадлежности ряда к кластеру выбираем параметры."
   ],
   "metadata": {
    "collapsed": false
   }
  },
  {
   "cell_type": "markdown",
   "source": [
    "Одновременно будем предсказывать и замерять качество"
   ],
   "metadata": {
    "collapsed": false
   }
  },
  {
   "cell_type": "code",
   "execution_count": null,
   "outputs": [],
   "source": [
    "params_0 = (p, q, P, Q)\n",
    "params_1 = (p, q, P, Q)\n",
    "params_2 = (p, q, P, Q)"
   ],
   "metadata": {
    "collapsed": false,
    "pycharm": {
     "name": "#%%\n"
    }
   }
  },
  {
   "cell_type": "code",
   "execution_count": null,
   "outputs": [],
   "source": [
    "for col in data.columns:\n",
    "    if col in label_0:\n",
    "        param = params_0\n",
    "    elif col in label_1:\n",
    "        param = params_1\n",
    "    elif col in label_2:\n",
    "        param = params_2\n",
    "\n",
    "    _lambda = stats.boxcox(data[data[col] > 0][col])[1]\n",
    "    box_cox = boxcox1p(data[col], _lambda_center_cluster_0)\n",
    "\n",
    "    box_cox_data = pd.concat([box_cox, X_center_cluster], axis=1)\n",
    "\n",
    "    train, test = box_cox_data[box_cox_data.index < datetime(2022, 11, 1, 0, 0, 0)], box_cox_data[box_cox_data.index >= datetime(2022, 11, 1, 0, 0, 0)]\n",
    "\n",
    "    model = sm.tsa.statespace.SARIMAX(train[col],\n",
    "                                      order=(param[0], d, param[1]),\n",
    "                                      seasonal_order=(param[2], D, param[3], 24),\n",
    "                                      trend='t',\n",
    "                                      exog=train[[i for i in range(10, 30)] + ['holiday']]).fit(disp=-1)\n",
    "\n",
    "    predict = invboxcox1p(model.predict(start=len(train), end=len(train) + len(test) - 1,\n",
    "                                   exog=test[[i for i in range(10, 30)] + ['holiday']]), _lambda).values\n",
    "\n",
    "    # Предсказание почасовое\n",
    "    print(f'Mean absolute SARIMAX error for {col} = {(test[col].values - predict).abs().mean():.2f}')"
   ],
   "metadata": {
    "collapsed": false,
    "pycharm": {
     "name": "#%%\n"
    }
   }
  }
 ],
 "metadata": {
  "kernelspec": {
   "display_name": "Python 3",
   "language": "python",
   "name": "python3"
  },
  "language_info": {
   "codemirror_mode": {
    "name": "ipython",
    "version": 2
   },
   "file_extension": ".py",
   "mimetype": "text/x-python",
   "name": "python",
   "nbconvert_exporter": "python",
   "pygments_lexer": "ipython2",
   "version": "2.7.6"
  }
 },
 "nbformat": 4,
 "nbformat_minor": 0
}